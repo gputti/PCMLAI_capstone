{
 "cells": [
  {
   "cell_type": "markdown",
   "id": "1098b72e-bddd-4b7b-9215-d46f923dbe25",
   "metadata": {},
   "source": [
    "## Begin of the program\n",
    "### import statements\n",
    "\n",
    "#### based on embeddings"
   ]
  },
  {
   "cell_type": "code",
   "execution_count": 46,
   "id": "81002fda-7187-4e41-bdd7-60f6747d4053",
   "metadata": {
    "tags": []
   },
   "outputs": [
    {
     "name": "stdout",
     "output_type": "stream",
     "text": [
      "huggingface/tokenizers: The current process just got forked, after parallelism has already been used. Disabling parallelism to avoid deadlocks...\n",
      "To disable this warning, you can either:\n",
      "\t- Avoid using `tokenizers` before the fork if possible\n",
      "\t- Explicitly set the environment variable TOKENIZERS_PARALLELISM=(true | false)\n",
      "Defaulting to user installation because normal site-packages is not writeable\n",
      "Requirement already satisfied: tensorflow in /home/jovyan/.local/lib/python3.7/site-packages (2.11.0)\n",
      "Requirement already satisfied: scikit-learn in /home/jovyan/.local/lib/python3.7/site-packages (1.0.2)\n",
      "Requirement already satisfied: pandas in /home/jovyan/.local/lib/python3.7/site-packages (1.3.5)\n",
      "Requirement already satisfied: numpy in /home/jovyan/.local/lib/python3.7/site-packages (1.21.6)\n",
      "Requirement already satisfied: pickle5 in /home/jovyan/.local/lib/python3.7/site-packages (0.0.12)\n",
      "Requirement already satisfied: opt-einsum>=2.3.2 in /home/jovyan/.local/lib/python3.7/site-packages (from tensorflow) (3.3.0)\n",
      "Requirement already satisfied: absl-py>=1.0.0 in /home/jovyan/.local/lib/python3.7/site-packages (from tensorflow) (2.1.0)\n",
      "Requirement already satisfied: tensorboard<2.12,>=2.11 in /home/jovyan/.local/lib/python3.7/site-packages (from tensorflow) (2.11.2)\n",
      "Requirement already satisfied: packaging in /miniconda3/lib/python3.7/site-packages (from tensorflow) (22.0)\n",
      "Requirement already satisfied: gast<=0.4.0,>=0.2.1 in /home/jovyan/.local/lib/python3.7/site-packages (from tensorflow) (0.4.0)\n",
      "Requirement already satisfied: protobuf<3.20,>=3.9.2 in /home/jovyan/.local/lib/python3.7/site-packages (from tensorflow) (3.19.6)\n",
      "Requirement already satisfied: h5py>=2.9.0 in /home/jovyan/.local/lib/python3.7/site-packages (from tensorflow) (3.8.0)\n",
      "Requirement already satisfied: wrapt>=1.11.0 in /home/jovyan/.local/lib/python3.7/site-packages (from tensorflow) (1.16.0)\n",
      "Requirement already satisfied: termcolor>=1.1.0 in /home/jovyan/.local/lib/python3.7/site-packages (from tensorflow) (2.3.0)\n",
      "Requirement already satisfied: grpcio<2.0,>=1.24.3 in /home/jovyan/.local/lib/python3.7/site-packages (from tensorflow) (1.62.3)\n",
      "Requirement already satisfied: google-pasta>=0.1.1 in /home/jovyan/.local/lib/python3.7/site-packages (from tensorflow) (0.2.0)\n",
      "Requirement already satisfied: tensorflow-estimator<2.12,>=2.11.0 in /home/jovyan/.local/lib/python3.7/site-packages (from tensorflow) (2.11.0)\n",
      "Requirement already satisfied: keras<2.12,>=2.11.0 in /home/jovyan/.local/lib/python3.7/site-packages (from tensorflow) (2.11.0)\n",
      "Requirement already satisfied: libclang>=13.0.0 in /home/jovyan/.local/lib/python3.7/site-packages (from tensorflow) (18.1.1)\n",
      "Requirement already satisfied: six>=1.12.0 in /miniconda3/lib/python3.7/site-packages (from tensorflow) (1.16.0)\n",
      "Requirement already satisfied: setuptools in /miniconda3/lib/python3.7/site-packages (from tensorflow) (65.6.3)\n",
      "Requirement already satisfied: tensorflow-io-gcs-filesystem>=0.23.1 in /home/jovyan/.local/lib/python3.7/site-packages (from tensorflow) (0.34.0)\n",
      "Requirement already satisfied: typing-extensions>=3.6.6 in /miniconda3/lib/python3.7/site-packages (from tensorflow) (4.3.0)\n",
      "Requirement already satisfied: flatbuffers>=2.0 in /home/jovyan/.local/lib/python3.7/site-packages (from tensorflow) (25.2.10)\n",
      "Requirement already satisfied: astunparse>=1.6.0 in /home/jovyan/.local/lib/python3.7/site-packages (from tensorflow) (1.6.3)\n",
      "Requirement already satisfied: joblib>=0.11 in /home/jovyan/.local/lib/python3.7/site-packages (from scikit-learn) (1.3.2)\n",
      "Requirement already satisfied: threadpoolctl>=2.0.0 in /home/jovyan/.local/lib/python3.7/site-packages (from scikit-learn) (3.1.0)\n",
      "Requirement already satisfied: scipy>=1.1.0 in /home/jovyan/.local/lib/python3.7/site-packages (from scikit-learn) (1.7.3)\n",
      "Requirement already satisfied: python-dateutil>=2.7.3 in /miniconda3/lib/python3.7/site-packages (from pandas) (2.8.2)\n",
      "Requirement already satisfied: pytz>=2017.3 in /miniconda3/lib/python3.7/site-packages (from pandas) (2022.7)\n",
      "Requirement already satisfied: wheel<1.0,>=0.23.0 in /miniconda3/lib/python3.7/site-packages (from astunparse>=1.6.0->tensorflow) (0.37.1)\n",
      "Requirement already satisfied: markdown>=2.6.8 in /home/jovyan/.local/lib/python3.7/site-packages (from tensorboard<2.12,>=2.11->tensorflow) (3.4.4)\n",
      "Requirement already satisfied: werkzeug>=1.0.1 in /home/jovyan/.local/lib/python3.7/site-packages (from tensorboard<2.12,>=2.11->tensorflow) (2.2.3)\n",
      "Requirement already satisfied: tensorboard-data-server<0.7.0,>=0.6.0 in /home/jovyan/.local/lib/python3.7/site-packages (from tensorboard<2.12,>=2.11->tensorflow) (0.6.1)\n",
      "Requirement already satisfied: requests<3,>=2.21.0 in /miniconda3/lib/python3.7/site-packages (from tensorboard<2.12,>=2.11->tensorflow) (2.28.1)\n",
      "Requirement already satisfied: google-auth-oauthlib<0.5,>=0.4.1 in /home/jovyan/.local/lib/python3.7/site-packages (from tensorboard<2.12,>=2.11->tensorflow) (0.4.6)\n",
      "Requirement already satisfied: tensorboard-plugin-wit>=1.6.0 in /home/jovyan/.local/lib/python3.7/site-packages (from tensorboard<2.12,>=2.11->tensorflow) (1.8.1)\n",
      "Requirement already satisfied: google-auth<3,>=1.6.3 in /home/jovyan/.local/lib/python3.7/site-packages (from tensorboard<2.12,>=2.11->tensorflow) (2.38.0)\n",
      "Requirement already satisfied: pyasn1-modules>=0.2.1 in /home/jovyan/.local/lib/python3.7/site-packages (from google-auth<3,>=1.6.3->tensorboard<2.12,>=2.11->tensorflow) (0.3.0)\n",
      "Requirement already satisfied: cachetools<6.0,>=2.0.0 in /home/jovyan/.local/lib/python3.7/site-packages (from google-auth<3,>=1.6.3->tensorboard<2.12,>=2.11->tensorflow) (5.5.2)\n",
      "Requirement already satisfied: rsa<5,>=3.1.4 in /home/jovyan/.local/lib/python3.7/site-packages (from google-auth<3,>=1.6.3->tensorboard<2.12,>=2.11->tensorflow) (4.9)\n",
      "Requirement already satisfied: requests-oauthlib>=0.7.0 in /home/jovyan/.local/lib/python3.7/site-packages (from google-auth-oauthlib<0.5,>=0.4.1->tensorboard<2.12,>=2.11->tensorflow) (2.0.0)\n",
      "Requirement already satisfied: importlib-metadata>=4.4 in /miniconda3/lib/python3.7/site-packages (from markdown>=2.6.8->tensorboard<2.12,>=2.11->tensorflow) (4.11.3)\n",
      "Requirement already satisfied: charset-normalizer<3,>=2 in /miniconda3/lib/python3.7/site-packages (from requests<3,>=2.21.0->tensorboard<2.12,>=2.11->tensorflow) (2.0.4)\n",
      "Requirement already satisfied: idna<4,>=2.5 in /miniconda3/lib/python3.7/site-packages (from requests<3,>=2.21.0->tensorboard<2.12,>=2.11->tensorflow) (3.4)\n",
      "Requirement already satisfied: urllib3<1.27,>=1.21.1 in /miniconda3/lib/python3.7/site-packages (from requests<3,>=2.21.0->tensorboard<2.12,>=2.11->tensorflow) (1.26.14)\n",
      "Requirement already satisfied: certifi>=2017.4.17 in /miniconda3/lib/python3.7/site-packages (from requests<3,>=2.21.0->tensorboard<2.12,>=2.11->tensorflow) (2022.12.7)\n",
      "Requirement already satisfied: MarkupSafe>=2.1.1 in /miniconda3/lib/python3.7/site-packages (from werkzeug>=1.0.1->tensorboard<2.12,>=2.11->tensorflow) (2.1.1)\n",
      "Requirement already satisfied: zipp>=0.5 in /miniconda3/lib/python3.7/site-packages (from importlib-metadata>=4.4->markdown>=2.6.8->tensorboard<2.12,>=2.11->tensorflow) (3.11.0)\n",
      "Requirement already satisfied: pyasn1<0.6.0,>=0.4.6 in /home/jovyan/.local/lib/python3.7/site-packages (from pyasn1-modules>=0.2.1->google-auth<3,>=1.6.3->tensorboard<2.12,>=2.11->tensorflow) (0.5.1)\n",
      "Requirement already satisfied: oauthlib>=3.0.0 in /home/jovyan/.local/lib/python3.7/site-packages (from requests-oauthlib>=0.7.0->google-auth-oauthlib<0.5,>=0.4.1->tensorboard<2.12,>=2.11->tensorflow) (3.2.2)\n",
      "huggingface/tokenizers: The current process just got forked, after parallelism has already been used. Disabling parallelism to avoid deadlocks...\n",
      "To disable this warning, you can either:\n",
      "\t- Avoid using `tokenizers` before the fork if possible\n",
      "\t- Explicitly set the environment variable TOKENIZERS_PARALLELISM=(true | false)\n",
      "Defaulting to user installation because normal site-packages is not writeable\n",
      "Requirement already satisfied: matplotlib in /home/jovyan/.local/lib/python3.7/site-packages (3.5.3)\n",
      "Requirement already satisfied: cycler>=0.10 in /home/jovyan/.local/lib/python3.7/site-packages (from matplotlib) (0.11.0)\n",
      "Requirement already satisfied: fonttools>=4.22.0 in /home/jovyan/.local/lib/python3.7/site-packages (from matplotlib) (4.38.0)\n",
      "Requirement already satisfied: pyparsing>=2.2.1 in /home/jovyan/.local/lib/python3.7/site-packages (from matplotlib) (3.1.4)\n",
      "Requirement already satisfied: python-dateutil>=2.7 in /miniconda3/lib/python3.7/site-packages (from matplotlib) (2.8.2)\n",
      "Requirement already satisfied: packaging>=20.0 in /miniconda3/lib/python3.7/site-packages (from matplotlib) (22.0)\n",
      "Requirement already satisfied: kiwisolver>=1.0.1 in /home/jovyan/.local/lib/python3.7/site-packages (from matplotlib) (1.4.5)\n",
      "Requirement already satisfied: pillow>=6.2.0 in /home/jovyan/.local/lib/python3.7/site-packages (from matplotlib) (9.5.0)\n",
      "Requirement already satisfied: numpy>=1.17 in /home/jovyan/.local/lib/python3.7/site-packages (from matplotlib) (1.21.6)\n",
      "Requirement already satisfied: typing-extensions in /miniconda3/lib/python3.7/site-packages (from kiwisolver>=1.0.1->matplotlib) (4.3.0)\n",
      "Requirement already satisfied: six>=1.5 in /miniconda3/lib/python3.7/site-packages (from python-dateutil>=2.7->matplotlib) (1.16.0)\n",
      "huggingface/tokenizers: The current process just got forked, after parallelism has already been used. Disabling parallelism to avoid deadlocks...\n",
      "To disable this warning, you can either:\n",
      "\t- Avoid using `tokenizers` before the fork if possible\n",
      "\t- Explicitly set the environment variable TOKENIZERS_PARALLELISM=(true | false)\n",
      "Defaulting to user installation because normal site-packages is not writeable\n",
      "Requirement already satisfied: sentence_transformers in /home/jovyan/.local/lib/python3.7/site-packages (2.2.2)\n",
      "Requirement already satisfied: torchvision in /home/jovyan/.local/lib/python3.7/site-packages (from sentence_transformers) (0.14.1)\n",
      "Requirement already satisfied: numpy in /home/jovyan/.local/lib/python3.7/site-packages (from sentence_transformers) (1.21.6)\n",
      "Requirement already satisfied: tqdm in /miniconda3/lib/python3.7/site-packages (from sentence_transformers) (4.64.1)\n",
      "Requirement already satisfied: scipy in /home/jovyan/.local/lib/python3.7/site-packages (from sentence_transformers) (1.7.3)\n",
      "Requirement already satisfied: nltk in /home/jovyan/.local/lib/python3.7/site-packages (from sentence_transformers) (3.8.1)\n",
      "Requirement already satisfied: huggingface-hub>=0.4.0 in /home/jovyan/.local/lib/python3.7/site-packages (from sentence_transformers) (0.16.4)\n",
      "Requirement already satisfied: scikit-learn in /home/jovyan/.local/lib/python3.7/site-packages (from sentence_transformers) (1.0.2)\n",
      "Requirement already satisfied: torch>=1.6.0 in /home/jovyan/.local/lib/python3.7/site-packages (from sentence_transformers) (1.13.1)\n",
      "Requirement already satisfied: transformers<5.0.0,>=4.6.0 in /home/jovyan/.local/lib/python3.7/site-packages (from sentence_transformers) (4.30.2)\n",
      "Requirement already satisfied: sentencepiece in /home/jovyan/.local/lib/python3.7/site-packages (from sentence_transformers) (0.2.0)\n",
      "Requirement already satisfied: filelock in /home/jovyan/.local/lib/python3.7/site-packages (from huggingface-hub>=0.4.0->sentence_transformers) (3.12.2)\n",
      "Requirement already satisfied: pyyaml>=5.1 in /home/jovyan/.local/lib/python3.7/site-packages (from huggingface-hub>=0.4.0->sentence_transformers) (6.0.1)\n",
      "Requirement already satisfied: fsspec in /home/jovyan/.local/lib/python3.7/site-packages (from huggingface-hub>=0.4.0->sentence_transformers) (2023.1.0)\n",
      "Requirement already satisfied: typing-extensions>=3.7.4.3 in /miniconda3/lib/python3.7/site-packages (from huggingface-hub>=0.4.0->sentence_transformers) (4.3.0)\n",
      "Requirement already satisfied: requests in /miniconda3/lib/python3.7/site-packages (from huggingface-hub>=0.4.0->sentence_transformers) (2.28.1)\n",
      "Requirement already satisfied: packaging>=20.9 in /miniconda3/lib/python3.7/site-packages (from huggingface-hub>=0.4.0->sentence_transformers) (22.0)\n",
      "Requirement already satisfied: importlib-metadata in /miniconda3/lib/python3.7/site-packages (from huggingface-hub>=0.4.0->sentence_transformers) (4.11.3)\n",
      "Requirement already satisfied: nvidia-cudnn-cu11==8.5.0.96 in /home/jovyan/.local/lib/python3.7/site-packages (from torch>=1.6.0->sentence_transformers) (8.5.0.96)\n",
      "Requirement already satisfied: nvidia-cuda-runtime-cu11==11.7.99 in /home/jovyan/.local/lib/python3.7/site-packages (from torch>=1.6.0->sentence_transformers) (11.7.99)\n",
      "Requirement already satisfied: nvidia-cublas-cu11==11.10.3.66 in /home/jovyan/.local/lib/python3.7/site-packages (from torch>=1.6.0->sentence_transformers) (11.10.3.66)\n",
      "Requirement already satisfied: nvidia-cuda-nvrtc-cu11==11.7.99 in /home/jovyan/.local/lib/python3.7/site-packages (from torch>=1.6.0->sentence_transformers) (11.7.99)\n",
      "Requirement already satisfied: setuptools in /miniconda3/lib/python3.7/site-packages (from nvidia-cublas-cu11==11.10.3.66->torch>=1.6.0->sentence_transformers) (65.6.3)\n",
      "Requirement already satisfied: wheel in /miniconda3/lib/python3.7/site-packages (from nvidia-cublas-cu11==11.10.3.66->torch>=1.6.0->sentence_transformers) (0.37.1)\n",
      "Requirement already satisfied: safetensors>=0.3.1 in /home/jovyan/.local/lib/python3.7/site-packages (from transformers<5.0.0,>=4.6.0->sentence_transformers) (0.5.3)\n",
      "Requirement already satisfied: regex!=2019.12.17 in /home/jovyan/.local/lib/python3.7/site-packages (from transformers<5.0.0,>=4.6.0->sentence_transformers) (2024.4.16)\n",
      "Requirement already satisfied: tokenizers!=0.11.3,<0.14,>=0.11.1 in /home/jovyan/.local/lib/python3.7/site-packages (from transformers<5.0.0,>=4.6.0->sentence_transformers) (0.13.3)\n",
      "Requirement already satisfied: joblib in /home/jovyan/.local/lib/python3.7/site-packages (from nltk->sentence_transformers) (1.3.2)\n",
      "Requirement already satisfied: click in /home/jovyan/.local/lib/python3.7/site-packages (from nltk->sentence_transformers) (8.1.8)\n",
      "Requirement already satisfied: threadpoolctl>=2.0.0 in /home/jovyan/.local/lib/python3.7/site-packages (from scikit-learn->sentence_transformers) (3.1.0)\n",
      "Requirement already satisfied: pillow!=8.3.*,>=5.3.0 in /home/jovyan/.local/lib/python3.7/site-packages (from torchvision->sentence_transformers) (9.5.0)\n",
      "Requirement already satisfied: zipp>=0.5 in /miniconda3/lib/python3.7/site-packages (from importlib-metadata->huggingface-hub>=0.4.0->sentence_transformers) (3.11.0)\n",
      "Requirement already satisfied: idna<4,>=2.5 in /miniconda3/lib/python3.7/site-packages (from requests->huggingface-hub>=0.4.0->sentence_transformers) (3.4)\n",
      "Requirement already satisfied: charset-normalizer<3,>=2 in /miniconda3/lib/python3.7/site-packages (from requests->huggingface-hub>=0.4.0->sentence_transformers) (2.0.4)\n",
      "Requirement already satisfied: certifi>=2017.4.17 in /miniconda3/lib/python3.7/site-packages (from requests->huggingface-hub>=0.4.0->sentence_transformers) (2022.12.7)\n",
      "Requirement already satisfied: urllib3<1.27,>=1.21.1 in /miniconda3/lib/python3.7/site-packages (from requests->huggingface-hub>=0.4.0->sentence_transformers) (1.26.14)\n",
      "huggingface/tokenizers: The current process just got forked, after parallelism has already been used. Disabling parallelism to avoid deadlocks...\n",
      "To disable this warning, you can either:\n",
      "\t- Avoid using `tokenizers` before the fork if possible\n",
      "\t- Explicitly set the environment variable TOKENIZERS_PARALLELISM=(true | false)\n",
      "Defaulting to user installation because normal site-packages is not writeable\n",
      "Requirement already satisfied: transformers in /home/jovyan/.local/lib/python3.7/site-packages (4.30.2)\n",
      "Requirement already satisfied: tensorflow in /home/jovyan/.local/lib/python3.7/site-packages (2.11.0)\n",
      "Requirement already satisfied: requests in /miniconda3/lib/python3.7/site-packages (from transformers) (2.28.1)\n",
      "Requirement already satisfied: numpy>=1.17 in /home/jovyan/.local/lib/python3.7/site-packages (from transformers) (1.21.6)\n",
      "Requirement already satisfied: pyyaml>=5.1 in /home/jovyan/.local/lib/python3.7/site-packages (from transformers) (6.0.1)\n",
      "Requirement already satisfied: filelock in /home/jovyan/.local/lib/python3.7/site-packages (from transformers) (3.12.2)\n",
      "Requirement already satisfied: safetensors>=0.3.1 in /home/jovyan/.local/lib/python3.7/site-packages (from transformers) (0.5.3)\n",
      "Requirement already satisfied: tokenizers!=0.11.3,<0.14,>=0.11.1 in /home/jovyan/.local/lib/python3.7/site-packages (from transformers) (0.13.3)\n",
      "Requirement already satisfied: importlib-metadata in /miniconda3/lib/python3.7/site-packages (from transformers) (4.11.3)\n",
      "Requirement already satisfied: huggingface-hub<1.0,>=0.14.1 in /home/jovyan/.local/lib/python3.7/site-packages (from transformers) (0.16.4)\n",
      "Requirement already satisfied: packaging>=20.0 in /miniconda3/lib/python3.7/site-packages (from transformers) (22.0)\n",
      "Requirement already satisfied: tqdm>=4.27 in /miniconda3/lib/python3.7/site-packages (from transformers) (4.64.1)\n",
      "Requirement already satisfied: regex!=2019.12.17 in /home/jovyan/.local/lib/python3.7/site-packages (from transformers) (2024.4.16)\n",
      "Requirement already satisfied: six>=1.12.0 in /miniconda3/lib/python3.7/site-packages (from tensorflow) (1.16.0)\n",
      "Requirement already satisfied: tensorboard<2.12,>=2.11 in /home/jovyan/.local/lib/python3.7/site-packages (from tensorflow) (2.11.2)\n",
      "Requirement already satisfied: setuptools in /miniconda3/lib/python3.7/site-packages (from tensorflow) (65.6.3)\n",
      "Requirement already satisfied: libclang>=13.0.0 in /home/jovyan/.local/lib/python3.7/site-packages (from tensorflow) (18.1.1)\n",
      "Requirement already satisfied: google-pasta>=0.1.1 in /home/jovyan/.local/lib/python3.7/site-packages (from tensorflow) (0.2.0)\n",
      "Requirement already satisfied: astunparse>=1.6.0 in /home/jovyan/.local/lib/python3.7/site-packages (from tensorflow) (1.6.3)\n",
      "Requirement already satisfied: flatbuffers>=2.0 in /home/jovyan/.local/lib/python3.7/site-packages (from tensorflow) (25.2.10)\n",
      "Requirement already satisfied: keras<2.12,>=2.11.0 in /home/jovyan/.local/lib/python3.7/site-packages (from tensorflow) (2.11.0)\n",
      "Requirement already satisfied: wrapt>=1.11.0 in /home/jovyan/.local/lib/python3.7/site-packages (from tensorflow) (1.16.0)\n",
      "Requirement already satisfied: opt-einsum>=2.3.2 in /home/jovyan/.local/lib/python3.7/site-packages (from tensorflow) (3.3.0)\n",
      "Requirement already satisfied: grpcio<2.0,>=1.24.3 in /home/jovyan/.local/lib/python3.7/site-packages (from tensorflow) (1.62.3)\n",
      "Requirement already satisfied: gast<=0.4.0,>=0.2.1 in /home/jovyan/.local/lib/python3.7/site-packages (from tensorflow) (0.4.0)\n",
      "Requirement already satisfied: protobuf<3.20,>=3.9.2 in /home/jovyan/.local/lib/python3.7/site-packages (from tensorflow) (3.19.6)\n",
      "Requirement already satisfied: tensorflow-io-gcs-filesystem>=0.23.1 in /home/jovyan/.local/lib/python3.7/site-packages (from tensorflow) (0.34.0)\n",
      "Requirement already satisfied: h5py>=2.9.0 in /home/jovyan/.local/lib/python3.7/site-packages (from tensorflow) (3.8.0)\n",
      "Requirement already satisfied: absl-py>=1.0.0 in /home/jovyan/.local/lib/python3.7/site-packages (from tensorflow) (2.1.0)\n",
      "Requirement already satisfied: typing-extensions>=3.6.6 in /miniconda3/lib/python3.7/site-packages (from tensorflow) (4.3.0)\n",
      "Requirement already satisfied: termcolor>=1.1.0 in /home/jovyan/.local/lib/python3.7/site-packages (from tensorflow) (2.3.0)\n",
      "Requirement already satisfied: tensorflow-estimator<2.12,>=2.11.0 in /home/jovyan/.local/lib/python3.7/site-packages (from tensorflow) (2.11.0)\n",
      "Requirement already satisfied: wheel<1.0,>=0.23.0 in /miniconda3/lib/python3.7/site-packages (from astunparse>=1.6.0->tensorflow) (0.37.1)\n",
      "Requirement already satisfied: fsspec in /home/jovyan/.local/lib/python3.7/site-packages (from huggingface-hub<1.0,>=0.14.1->transformers) (2023.1.0)\n",
      "Requirement already satisfied: tensorboard-plugin-wit>=1.6.0 in /home/jovyan/.local/lib/python3.7/site-packages (from tensorboard<2.12,>=2.11->tensorflow) (1.8.1)\n",
      "Requirement already satisfied: werkzeug>=1.0.1 in /home/jovyan/.local/lib/python3.7/site-packages (from tensorboard<2.12,>=2.11->tensorflow) (2.2.3)\n",
      "Requirement already satisfied: markdown>=2.6.8 in /home/jovyan/.local/lib/python3.7/site-packages (from tensorboard<2.12,>=2.11->tensorflow) (3.4.4)\n",
      "Requirement already satisfied: tensorboard-data-server<0.7.0,>=0.6.0 in /home/jovyan/.local/lib/python3.7/site-packages (from tensorboard<2.12,>=2.11->tensorflow) (0.6.1)\n",
      "Requirement already satisfied: google-auth-oauthlib<0.5,>=0.4.1 in /home/jovyan/.local/lib/python3.7/site-packages (from tensorboard<2.12,>=2.11->tensorflow) (0.4.6)\n",
      "Requirement already satisfied: google-auth<3,>=1.6.3 in /home/jovyan/.local/lib/python3.7/site-packages (from tensorboard<2.12,>=2.11->tensorflow) (2.38.0)\n",
      "Requirement already satisfied: charset-normalizer<3,>=2 in /miniconda3/lib/python3.7/site-packages (from requests->transformers) (2.0.4)\n",
      "Requirement already satisfied: idna<4,>=2.5 in /miniconda3/lib/python3.7/site-packages (from requests->transformers) (3.4)\n",
      "Requirement already satisfied: urllib3<1.27,>=1.21.1 in /miniconda3/lib/python3.7/site-packages (from requests->transformers) (1.26.14)\n",
      "Requirement already satisfied: certifi>=2017.4.17 in /miniconda3/lib/python3.7/site-packages (from requests->transformers) (2022.12.7)\n",
      "Requirement already satisfied: zipp>=0.5 in /miniconda3/lib/python3.7/site-packages (from importlib-metadata->transformers) (3.11.0)\n",
      "Requirement already satisfied: rsa<5,>=3.1.4 in /home/jovyan/.local/lib/python3.7/site-packages (from google-auth<3,>=1.6.3->tensorboard<2.12,>=2.11->tensorflow) (4.9)\n",
      "Requirement already satisfied: pyasn1-modules>=0.2.1 in /home/jovyan/.local/lib/python3.7/site-packages (from google-auth<3,>=1.6.3->tensorboard<2.12,>=2.11->tensorflow) (0.3.0)\n",
      "Requirement already satisfied: cachetools<6.0,>=2.0.0 in /home/jovyan/.local/lib/python3.7/site-packages (from google-auth<3,>=1.6.3->tensorboard<2.12,>=2.11->tensorflow) (5.5.2)\n",
      "Requirement already satisfied: requests-oauthlib>=0.7.0 in /home/jovyan/.local/lib/python3.7/site-packages (from google-auth-oauthlib<0.5,>=0.4.1->tensorboard<2.12,>=2.11->tensorflow) (2.0.0)\n",
      "Requirement already satisfied: MarkupSafe>=2.1.1 in /miniconda3/lib/python3.7/site-packages (from werkzeug>=1.0.1->tensorboard<2.12,>=2.11->tensorflow) (2.1.1)\n",
      "Requirement already satisfied: pyasn1<0.6.0,>=0.4.6 in /home/jovyan/.local/lib/python3.7/site-packages (from pyasn1-modules>=0.2.1->google-auth<3,>=1.6.3->tensorboard<2.12,>=2.11->tensorflow) (0.5.1)\n",
      "Requirement already satisfied: oauthlib>=3.0.0 in /home/jovyan/.local/lib/python3.7/site-packages (from requests-oauthlib>=0.7.0->google-auth-oauthlib<0.5,>=0.4.1->tensorboard<2.12,>=2.11->tensorflow) (3.2.2)\n",
      "huggingface/tokenizers: The current process just got forked, after parallelism has already been used. Disabling parallelism to avoid deadlocks...\n",
      "To disable this warning, you can either:\n",
      "\t- Avoid using `tokenizers` before the fork if possible\n",
      "\t- Explicitly set the environment variable TOKENIZERS_PARALLELISM=(true | false)\n",
      "Defaulting to user installation because normal site-packages is not writeable\n",
      "\u001b[31mERROR: Ignored the following versions that require a different python version: 2.14.1 Requires-Python >=3.8; 2.15.0 Requires-Python >=3.8; 2.15.0rc0 Requires-Python >=3.8; 2.15.0rc1 Requires-Python >=3.8; 2.15.1 Requires-Python >=3.8; 2.15.1rc0 Requires-Python >=3.8; 2.16.0 Requires-Python >=3.9; 2.16.0rc0 Requires-Python >=3.9; 2.16.0rc1 Requires-Python >=3.9; 2.16.0rc2 Requires-Python >=3.9; 2.16.0rc3 Requires-Python >=3.9; 2.16.0rc4 Requires-Python >=3.9; 2.17.0 Requires-Python >=3.9; 2.17.0rc0 Requires-Python >=3.9; 2.18.0 Requires-Python >=3.9; 2.18.0rc0 Requires-Python >=3.9; 2.19.0 Requires-Python >=3.9; 2.19.0rc0 Requires-Python >=3.9; 2.20.0 Requires-Python >=3.9\u001b[0m\u001b[31m\n",
      "\u001b[0m\u001b[31mERROR: Could not find a version that satisfies the requirement tf-keras (from versions: none)\u001b[0m\u001b[31m\n",
      "\u001b[0m\u001b[31mERROR: No matching distribution found for tf-keras\u001b[0m\u001b[31m\n",
      "\u001b[0m"
     ]
    }
   ],
   "source": [
    "!pip install tensorflow scikit-learn pandas numpy pickle5\n",
    "!pip install matplotlib\n",
    "!pip install sentence_transformers\n",
    "!pip install --upgrade transformers tensorflow\n",
    "!pip install tf-keras\n",
    "\n",
    "# Import libraries\n",
    "import numpy as np\n",
    "import pandas as pd\n",
    "import tensorflow as tf\n",
    "\n",
    "from sklearn.model_selection import train_test_split\n",
    "from sklearn.metrics import accuracy_score\n",
    "from tensorflow.keras.preprocessing.text import Tokenizer\n",
    "from tensorflow.keras.preprocessing.sequence import pad_sequences\n",
    "from tensorflow.keras.models import Sequential\n",
    "from tensorflow.keras.layers import Embedding, Conv1D, GlobalMaxPooling1D, Dense, Dropout\n",
    "import pickle5 as pickle\n",
    "\n",
    "import warnings\n",
    "warnings.filterwarnings('ignore')\n"
   ]
  },
  {
   "cell_type": "code",
   "execution_count": 2,
   "id": "26aa4b8c-234a-4799-886b-709ede5a9a91",
   "metadata": {},
   "outputs": [
    {
     "name": "stdout",
     "output_type": "stream",
     "text": [
      "         DATE                        CONVERSATIONID  \\\n",
      "0  2025-03-12  b1b0ce1b-22f4-404d-baa7-13df11078629   \n",
      "1  2025-03-12  c9c8eaae-d822-4b0f-a0a0-6edc7494b181   \n",
      "2  2025-03-12  76fd4a88-49f9-4b54-bc4f-b814745c3ce6   \n",
      "3  2025-03-12  1bc5e581-415c-4673-b1c9-6768900aab1d   \n",
      "4  2025-03-12  27da2b4a-2187-4321-8cd7-aa4702fd4db2   \n",
      "\n",
      "                                             SUMMARY TRANSCRIPT_SENTIMENT  \\\n",
      "0  customer intent: The customer is inquiring abo...              Neutral   \n",
      "1  customer intent: The customer wants to ensure ...             Negative   \n",
      "2  customer intent: The customer intends to find ...             Positive   \n",
      "3  customer intent: The customer is seeking infor...              Neutral   \n",
      "4  customer intent: The customer wants to verify ...             Negative   \n",
      "\n",
      "  EMPATHY AGENT_PROFANITY MEMBER_PROFANITY PROFESSIONALISM  \n",
      "0     Yes              No               No             Yes  \n",
      "1     Yes              No               No             Yes  \n",
      "2     Yes              No               No             Yes  \n",
      "3     Yes              No               No             Yes  \n",
      "4      No              No               No             Yes  \n"
     ]
    }
   ],
   "source": [
    "# Load the dataset\n",
    "df_orig = pd.read_csv('data_2025_03_15.csv')\n",
    "print(df_orig.head())"
   ]
  },
  {
   "cell_type": "code",
   "execution_count": 3,
   "id": "00d61eba-ce54-4717-959d-ec816c7b3bba",
   "metadata": {},
   "outputs": [
    {
     "data": {
      "text/html": [
       "<div>\n",
       "<style scoped>\n",
       "    .dataframe tbody tr th:only-of-type {\n",
       "        vertical-align: middle;\n",
       "    }\n",
       "\n",
       "    .dataframe tbody tr th {\n",
       "        vertical-align: top;\n",
       "    }\n",
       "\n",
       "    .dataframe thead th {\n",
       "        text-align: right;\n",
       "    }\n",
       "</style>\n",
       "<table border=\"1\" class=\"dataframe\">\n",
       "  <thead>\n",
       "    <tr style=\"text-align: right;\">\n",
       "      <th></th>\n",
       "      <th>DATE</th>\n",
       "      <th>CONVERSATIONID</th>\n",
       "      <th>SUMMARY</th>\n",
       "      <th>TRANSCRIPT_SENTIMENT</th>\n",
       "      <th>EMPATHY</th>\n",
       "      <th>AGENT_PROFANITY</th>\n",
       "      <th>MEMBER_PROFANITY</th>\n",
       "      <th>PROFESSIONALISM</th>\n",
       "    </tr>\n",
       "  </thead>\n",
       "  <tbody>\n",
       "    <tr>\n",
       "      <th>count</th>\n",
       "      <td>290972</td>\n",
       "      <td>290972</td>\n",
       "      <td>290972</td>\n",
       "      <td>290972</td>\n",
       "      <td>290972</td>\n",
       "      <td>290972</td>\n",
       "      <td>287765</td>\n",
       "      <td>290972</td>\n",
       "    </tr>\n",
       "    <tr>\n",
       "      <th>unique</th>\n",
       "      <td>2</td>\n",
       "      <td>290618</td>\n",
       "      <td>289617</td>\n",
       "      <td>3</td>\n",
       "      <td>2</td>\n",
       "      <td>2</td>\n",
       "      <td>2</td>\n",
       "      <td>2</td>\n",
       "    </tr>\n",
       "    <tr>\n",
       "      <th>top</th>\n",
       "      <td>2025-03-12</td>\n",
       "      <td>90e9cf20-812c-43d9-ba89-ea1da4976403</td>\n",
       "      <td>customer intent: Without a particular purpose ...</td>\n",
       "      <td>Positive</td>\n",
       "      <td>Yes</td>\n",
       "      <td>No</td>\n",
       "      <td>No</td>\n",
       "      <td>Yes</td>\n",
       "    </tr>\n",
       "    <tr>\n",
       "      <th>freq</th>\n",
       "      <td>156601</td>\n",
       "      <td>3</td>\n",
       "      <td>158</td>\n",
       "      <td>159317</td>\n",
       "      <td>242877</td>\n",
       "      <td>290824</td>\n",
       "      <td>279897</td>\n",
       "      <td>287700</td>\n",
       "    </tr>\n",
       "  </tbody>\n",
       "</table>\n",
       "</div>"
      ],
      "text/plain": [
       "              DATE                        CONVERSATIONID  \\\n",
       "count       290972                                290972   \n",
       "unique           2                                290618   \n",
       "top     2025-03-12  90e9cf20-812c-43d9-ba89-ea1da4976403   \n",
       "freq        156601                                     3   \n",
       "\n",
       "                                                  SUMMARY  \\\n",
       "count                                              290972   \n",
       "unique                                             289617   \n",
       "top     customer intent: Without a particular purpose ...   \n",
       "freq                                                  158   \n",
       "\n",
       "       TRANSCRIPT_SENTIMENT EMPATHY AGENT_PROFANITY MEMBER_PROFANITY  \\\n",
       "count                290972  290972          290972           287765   \n",
       "unique                    3       2               2                2   \n",
       "top                Positive     Yes              No               No   \n",
       "freq                 159317  242877          290824           279897   \n",
       "\n",
       "       PROFESSIONALISM  \n",
       "count           290972  \n",
       "unique               2  \n",
       "top                Yes  \n",
       "freq            287700  "
      ]
     },
     "execution_count": 3,
     "metadata": {},
     "output_type": "execute_result"
    }
   ],
   "source": [
    "df_orig.describe()"
   ]
  },
  {
   "cell_type": "markdown",
   "id": "15b89220-1e88-47e8-ac7f-88f22870ee0d",
   "metadata": {},
   "source": [
    "# Exploratory Data Analysis (EDA)"
   ]
  },
  {
   "cell_type": "code",
   "execution_count": 4,
   "id": "fa90794e-e7a5-4483-adf1-49dfed380ef5",
   "metadata": {},
   "outputs": [],
   "source": [
    "df = df_orig[[\"SUMMARY\", \"TRANSCRIPT_SENTIMENT\"]]"
   ]
  },
  {
   "cell_type": "code",
   "execution_count": 5,
   "id": "8b84749d-2634-4068-80f5-c3b0edf8fc27",
   "metadata": {},
   "outputs": [
    {
     "data": {
      "text/plain": [
       "array(['Neutral', 'Negative', 'Positive'], dtype=object)"
      ]
     },
     "execution_count": 5,
     "metadata": {},
     "output_type": "execute_result"
    }
   ],
   "source": [
    "df['TRANSCRIPT_SENTIMENT'].unique()"
   ]
  },
  {
   "cell_type": "code",
   "execution_count": 6,
   "id": "929e07d9-edff-4068-8aeb-24f1ec3468f4",
   "metadata": {},
   "outputs": [
    {
     "data": {
      "text/plain": [
       "0"
      ]
     },
     "execution_count": 6,
     "metadata": {},
     "output_type": "execute_result"
    }
   ],
   "source": [
    "df['TRANSCRIPT_SENTIMENT'].isna().sum()"
   ]
  },
  {
   "cell_type": "code",
   "execution_count": 7,
   "id": "99fced39-066a-4bad-8af7-17caefb4c2c1",
   "metadata": {},
   "outputs": [
    {
     "name": "stdout",
     "output_type": "stream",
     "text": [
      "Positive    159317\n",
      "Neutral     107301\n",
      "Negative     24354\n",
      "Name: TRANSCRIPT_SENTIMENT, dtype: int64\n"
     ]
    }
   ],
   "source": [
    "group_counts = df['TRANSCRIPT_SENTIMENT'].value_counts()\n",
    "print(group_counts)"
   ]
  },
  {
   "cell_type": "code",
   "execution_count": 8,
   "id": "90280928-12ad-4e94-af53-99d2dac4b7ae",
   "metadata": {},
   "outputs": [
    {
     "name": "stdout",
     "output_type": "stream",
     "text": [
      "Positive    0.547534\n",
      "Neutral     0.368767\n",
      "Negative    0.083699\n",
      "Name: TRANSCRIPT_SENTIMENT, dtype: float64\n"
     ]
    }
   ],
   "source": [
    "group_freq = df['TRANSCRIPT_SENTIMENT'].value_counts(normalize=True)\n",
    "print(group_freq)"
   ]
  },
  {
   "cell_type": "code",
   "execution_count": 9,
   "id": "4ab7611b-3e0a-44fc-8e45-48bd4c6cfb71",
   "metadata": {},
   "outputs": [
    {
     "data": {
      "image/png": "[encoded data removed]",
      "text/plain": [
       "<Figure size 700x500 with 1 Axes>"
      ]
     },
     "metadata": {},
     "output_type": "display_data"
    }
   ],
   "source": [
    "import matplotlib.pyplot as plt\n",
    "\n",
    "df['TRANSCRIPT_SENTIMENT'].value_counts().plot(kind='bar', figsize=(7,5))\n",
    "plt.title('TRANSCRIPT_SENTIMENT distribution')\n",
    "plt.xlabel('TRANSCRIPT_SENTIMENT')\n",
    "plt.ylabel('count')\n",
    "plt.show()"
   ]
  },
  {
   "cell_type": "markdown",
   "id": "1253131f-aaa5-48d6-a4e7-70f83228abaf",
   "metadata": {},
   "source": [
    "<strong> reduce the size of DF so we can do quick testing. \n",
    "once done, comment this code.\n",
    "</strong>"
   ]
  },
  {
   "cell_type": "code",
   "execution_count": 10,
   "id": "c8221041-ff52-497d-b185-7f1c8c274282",
   "metadata": {},
   "outputs": [],
   "source": [
    "# df1 = df\n",
    "# df = df1.sample(n=1000, random_state=1)"
   ]
  },
  {
   "cell_type": "code",
   "execution_count": 11,
   "id": "9b6f8b2e-b0e1-4194-981b-dd1d1e172f81",
   "metadata": {},
   "outputs": [
    {
     "data": {
      "text/plain": [
       "\"customer intent: The customer is inquiring about reimbursement for transportation costs incurred by a friend who takes them to medical appointments. agent action:\\n* The agent greeted the customer and asked how they could assist.\\n* The agent confirmed the customer's inquiry about transportation reimbursement.\\n* The agent explained that reimbursement for transportation is not offered unless it is a doctor's order.\\n* The agent clarified that the customer's insurance does not cover such reimbursements.\""
      ]
     },
     "execution_count": 11,
     "metadata": {},
     "output_type": "execute_result"
    }
   ],
   "source": [
    "df['SUMMARY'].iloc[0]"
   ]
  },
  {
   "cell_type": "code",
   "execution_count": 12,
   "id": "9515277b-f71a-4ce9-a0cd-4f0de3b6addd",
   "metadata": {},
   "outputs": [
    {
     "name": "stdout",
     "output_type": "stream",
     "text": [
      "Defaulting to user installation because normal site-packages is not writeable\n",
      "Requirement already satisfied: clean-text in /home/jovyan/.local/lib/python3.7/site-packages (0.6.0)\n",
      "Requirement already satisfied: ftfy<7.0,>=6.0 in /home/jovyan/.local/lib/python3.7/site-packages (from clean-text) (6.1.1)\n",
      "Requirement already satisfied: emoji<2.0.0,>=1.0.0 in /home/jovyan/.local/lib/python3.7/site-packages (from clean-text) (1.7.0)\n",
      "Requirement already satisfied: wcwidth>=0.2.5 in /miniconda3/lib/python3.7/site-packages (from ftfy<7.0,>=6.0->clean-text) (0.2.5)\n",
      "Note: you may need to restart the kernel to use updated packages.\n"
     ]
    },
    {
     "name": "stderr",
     "output_type": "stream",
     "text": [
      "Since the GPL-licensed package `unidecode` is not installed, using Python's `unicodedata` package which yields worse results.\n"
     ]
    }
   ],
   "source": [
    "# clean up the text\n",
    "# using clean-text module. \n",
    "%pip install clean-text\n",
    "import cleantext\n",
    "cleantext.__version__\n",
    "\n",
    "from cleantext import clean\n",
    "\n",
    "def clean_text_custom(text):\n",
    "    return clean(text,\n",
    "        fix_unicode=True,               # fix various unicode errors\n",
    "        to_ascii=True,                  # transliterate to closest ASCII representation\n",
    "        lower=True,                     # lowercase text\n",
    "        no_line_breaks=True,           # fully strip line breaks as opposed to only normalizing them\n",
    "        no_urls=True,                  # replace all URLs with a special token\n",
    "        no_emails=True,                # replace all email addresses with a special token\n",
    "        no_phone_numbers=True,         # replace all phone numbers with a special token\n",
    "        no_numbers=True,               # replace all numbers with a special token\n",
    "        no_digits=True,                # replace all digits with a special token\n",
    "        no_currency_symbols=True,      # replace all currency symbols with a special token\n",
    "        no_punct=True,                 # remove punctuations\n",
    "        replace_with_punct=\"\",          # instead of removing punctuations you may replace them\n",
    "        replace_with_url=\"<URL>\",\n",
    "        replace_with_email=\"<EMAIL>\",\n",
    "        replace_with_phone_number=\"<PHONE>\",\n",
    "        replace_with_number=\"<NUMBER>\",\n",
    "        replace_with_digit=\"0\",\n",
    "        replace_with_currency_symbol=\"<CUR>\",\n",
    "        lang=\"en\"                       # 'en' for English\n",
    "    )\n",
    "    \n",
    "df[\"SUMMARY\"] = df[\"SUMMARY\"].apply(clean_text_custom)"
   ]
  },
  {
   "cell_type": "code",
   "execution_count": 13,
   "id": "b76b38d6-170a-4bfd-8621-bf84e1f70ffc",
   "metadata": {},
   "outputs": [
    {
     "data": {
      "text/plain": [
       "'customer intent the customer is inquiring about reimbursement for transportation costs incurred by a friend who takes them to medical appointments agent action the agent greeted the customer and asked how they could assist the agent confirmed the customers inquiry about transportation reimbursement the agent explained that reimbursement for transportation is not offered unless it is a doctors order the agent clarified that the customers insurance does not cover such reimbursements'"
      ]
     },
     "execution_count": 13,
     "metadata": {},
     "output_type": "execute_result"
    }
   ],
   "source": [
    "df['SUMMARY'].iloc[0]"
   ]
  },
  {
   "cell_type": "markdown",
   "id": "2fe5e7fc-ab75-4036-ab61-b86be99bab4f",
   "metadata": {},
   "source": [
    "# Model building\n",
    "##  preparing embeddings"
   ]
  },
  {
   "cell_type": "code",
   "execution_count": 14,
   "id": "9bf468db-26c9-43c4-a4e0-f4fee4c4b9ac",
   "metadata": {},
   "outputs": [
    {
     "name": "stdout",
     "output_type": "stream",
     "text": [
      "(290972, 384)\n",
      "Saved df_no_japanese in zip-compressed pickle format.\n"
     ]
    }
   ],
   "source": [
    "\n",
    "from sentence_transformers import SentenceTransformer\n",
    "warnings.filterwarnings('ignore')\n",
    "\n",
    "# Example model and DataFrame (modify for your use case)\n",
    "model = SentenceTransformer('sentence-transformers/all-MiniLM-L6-v2')\n",
    "\n",
    "\n",
    "# Encode text into embeddings (shape: [num_rows, embedding_dim])\n",
    "embeddings = np.array(model.encode(df[\"SUMMARY\"].tolist()))\n",
    "\n",
    "print(embeddings.shape)\n",
    "df[\"EMBEDDINGS\"] = embeddings.tolist()\n",
    "\n",
    "# now save the dataframe in zip-compressed pickle file\n",
    "\n",
    "df.to_pickle(\n",
    "    \"df_with_embeddings.pkl.zip\", \n",
    "    compression=\"zip\"\n",
    ")\n",
    "print(\"Saved df_no_japanese in zip-compressed pickle format.\")"
   ]
  },
  {
   "cell_type": "code",
   "execution_count": 15,
   "id": "ce0ee3ce-aedc-42f4-ac17-c17cf43715bf",
   "metadata": {},
   "outputs": [
    {
     "data": {
      "text/html": [
       "<div>\n",
       "<style scoped>\n",
       "    .dataframe tbody tr th:only-of-type {\n",
       "        vertical-align: middle;\n",
       "    }\n",
       "\n",
       "    .dataframe tbody tr th {\n",
       "        vertical-align: top;\n",
       "    }\n",
       "\n",
       "    .dataframe thead th {\n",
       "        text-align: right;\n",
       "    }\n",
       "</style>\n",
       "<table border=\"1\" class=\"dataframe\">\n",
       "  <thead>\n",
       "    <tr style=\"text-align: right;\">\n",
       "      <th></th>\n",
       "      <th>SUMMARY</th>\n",
       "      <th>TRANSCRIPT_SENTIMENT</th>\n",
       "      <th>EMBEDDINGS</th>\n",
       "    </tr>\n",
       "  </thead>\n",
       "  <tbody>\n",
       "    <tr>\n",
       "      <th>132603</th>\n",
       "      <td>customer intent the customer is checking the s...</td>\n",
       "      <td>Positive</td>\n",
       "      <td>[-0.10847028344869614, 0.09188905358314514, -0...</td>\n",
       "    </tr>\n",
       "    <tr>\n",
       "      <th>40091</th>\n",
       "      <td>customer intent to verify eligibility informat...</td>\n",
       "      <td>Neutral</td>\n",
       "      <td>[-0.07871349900960922, 0.11425510048866272, 0....</td>\n",
       "    </tr>\n",
       "    <tr>\n",
       "      <th>116244</th>\n",
       "      <td>customer intent the customer is trying to find...</td>\n",
       "      <td>Positive</td>\n",
       "      <td>[-0.0654219314455986, 0.030085593461990356, -0...</td>\n",
       "    </tr>\n",
       "    <tr>\n",
       "      <th>50521</th>\n",
       "      <td>customer intent the customer wants to verify t...</td>\n",
       "      <td>Positive</td>\n",
       "      <td>[-0.07022859156131744, 0.09063606709241867, -0...</td>\n",
       "    </tr>\n",
       "  </tbody>\n",
       "</table>\n",
       "</div>"
      ],
      "text/plain": [
       "                                                  SUMMARY  \\\n",
       "132603  customer intent the customer is checking the s...   \n",
       "40091   customer intent to verify eligibility informat...   \n",
       "116244  customer intent the customer is trying to find...   \n",
       "50521   customer intent the customer wants to verify t...   \n",
       "\n",
       "       TRANSCRIPT_SENTIMENT                                         EMBEDDINGS  \n",
       "132603             Positive  [-0.10847028344869614, 0.09188905358314514, -0...  \n",
       "40091               Neutral  [-0.07871349900960922, 0.11425510048866272, 0....  \n",
       "116244             Positive  [-0.0654219314455986, 0.030085593461990356, -0...  \n",
       "50521              Positive  [-0.07022859156131744, 0.09063606709241867, -0...  "
      ]
     },
     "execution_count": 15,
     "metadata": {},
     "output_type": "execute_result"
    }
   ],
   "source": [
    "df.sample(4)"
   ]
  },
  {
   "cell_type": "code",
   "execution_count": 47,
   "id": "06ab1c49-052e-4d09-b985-1703d97c97fc",
   "metadata": {},
   "outputs": [
    {
     "data": {
      "text/html": [
       "<div>\n",
       "<style scoped>\n",
       "    .dataframe tbody tr th:only-of-type {\n",
       "        vertical-align: middle;\n",
       "    }\n",
       "\n",
       "    .dataframe tbody tr th {\n",
       "        vertical-align: top;\n",
       "    }\n",
       "\n",
       "    .dataframe thead th {\n",
       "        text-align: right;\n",
       "    }\n",
       "</style>\n",
       "<table border=\"1\" class=\"dataframe\">\n",
       "  <thead>\n",
       "    <tr style=\"text-align: right;\">\n",
       "      <th></th>\n",
       "      <th>SUMMARY</th>\n",
       "      <th>TRANSCRIPT_SENTIMENT</th>\n",
       "      <th>EMBEDDINGS</th>\n",
       "    </tr>\n",
       "  </thead>\n",
       "  <tbody>\n",
       "    <tr>\n",
       "      <th>88982</th>\n",
       "      <td>customer intent the customer intends to resolv...</td>\n",
       "      <td>Neutral</td>\n",
       "      <td>[-0.08034465461969376, 0.09002897143363953, -0...</td>\n",
       "    </tr>\n",
       "    <tr>\n",
       "      <th>65435</th>\n",
       "      <td>customer intent the customer intends to verify...</td>\n",
       "      <td>Neutral</td>\n",
       "      <td>[-0.05040843039751053, 0.051747821271419525, -...</td>\n",
       "    </tr>\n",
       "    <tr>\n",
       "      <th>88068</th>\n",
       "      <td>customer intent the customer wants to pay thei...</td>\n",
       "      <td>Neutral</td>\n",
       "      <td>[-0.04749929532408714, 0.06721492856740952, -0...</td>\n",
       "    </tr>\n",
       "    <tr>\n",
       "      <th>59751</th>\n",
       "      <td>customer intent the customer wants to understa...</td>\n",
       "      <td>Positive</td>\n",
       "      <td>[-0.0014742808416485786, 0.13571126759052277, ...</td>\n",
       "    </tr>\n",
       "  </tbody>\n",
       "</table>\n",
       "</div>"
      ],
      "text/plain": [
       "                                                 SUMMARY TRANSCRIPT_SENTIMENT  \\\n",
       "88982  customer intent the customer intends to resolv...              Neutral   \n",
       "65435  customer intent the customer intends to verify...              Neutral   \n",
       "88068  customer intent the customer wants to pay thei...              Neutral   \n",
       "59751  customer intent the customer wants to understa...             Positive   \n",
       "\n",
       "                                              EMBEDDINGS  \n",
       "88982  [-0.08034465461969376, 0.09002897143363953, -0...  \n",
       "65435  [-0.05040843039751053, 0.051747821271419525, -...  \n",
       "88068  [-0.04749929532408714, 0.06721492856740952, -0...  \n",
       "59751  [-0.0014742808416485786, 0.13571126759052277, ...  "
      ]
     },
     "execution_count": 47,
     "metadata": {},
     "output_type": "execute_result"
    }
   ],
   "source": [
    "# now load the pickle file and work on it. \n",
    "\n",
    "df_loaded = pd.read_pickle(\"df_with_embeddings.pkl.zip\")\n",
    "df_loaded.sample(4)"
   ]
  },
  {
   "cell_type": "code",
   "execution_count": 48,
   "id": "f8b68b36-c45c-42f6-902f-2a4e727d076f",
   "metadata": {},
   "outputs": [
    {
     "data": {
      "text/plain": [
       "Index(['SUMMARY', 'TRANSCRIPT_SENTIMENT', 'EMBEDDINGS'], dtype='object')"
      ]
     },
     "execution_count": 48,
     "metadata": {},
     "output_type": "execute_result"
    }
   ],
   "source": [
    "df_loaded.columns"
   ]
  },
  {
   "cell_type": "code",
   "execution_count": 49,
   "id": "5bdce738-ee32-4d57-83d1-f79735e05182",
   "metadata": {},
   "outputs": [
    {
     "data": {
      "text/plain": [
       "array(['Neutral', 'Negative', 'Positive'], dtype=object)"
      ]
     },
     "execution_count": 49,
     "metadata": {},
     "output_type": "execute_result"
    }
   ],
   "source": [
    "df_loaded[\"TRANSCRIPT_SENTIMENT\"].unique()"
   ]
  },
  {
   "cell_type": "code",
   "execution_count": 50,
   "id": "147dd524-eddb-4a41-ae01-0f23b9193e1a",
   "metadata": {},
   "outputs": [],
   "source": [
    "# Ensure embeddings and category labels are in the DataFrame\n",
    "\n",
    "X = np.array(df_loaded[\"EMBEDDINGS\"].tolist())  # Convert embeddings list to array\n",
    "y = df_loaded[\"TRANSCRIPT_SENTIMENT\"]  # 'TRANSCRIPT_SENTIMENT' column has target labels"
   ]
  },
  {
   "cell_type": "code",
   "execution_count": 51,
   "id": "bc3f4e8d-12d9-462b-8829-9e53122ca870",
   "metadata": {},
   "outputs": [],
   "source": [
    "# import few more statements\n",
    "\n",
    "from sklearn.model_selection import train_test_split\n",
    "import tensorflow as tf\n",
    "from tensorflow.keras.models import Sequential\n",
    "from tensorflow.keras.layers import Dense\n"
   ]
  },
  {
   "cell_type": "code",
   "execution_count": 52,
   "id": "4afd78a1-4304-4bc3-9b9c-3422d7b4306e",
   "metadata": {},
   "outputs": [],
   "source": [
    "#converting to numeric class id\n",
    "#Encode target labels\n",
    "from sklearn.preprocessing import LabelEncoder\n",
    "\n",
    "label_encoder = LabelEncoder()\n",
    "y_encoded = label_encoder.fit_transform(df_loaded[\"TRANSCRIPT_SENTIMENT\"])  # y has target labels (TRANSCRIPT_SENTIMENT)"
   ]
  },
  {
   "cell_type": "code",
   "execution_count": 53,
   "id": "542081aa-c841-4ea8-ac47-00bc75b0dfdb",
   "metadata": {},
   "outputs": [],
   "source": [
    "# Split the data into training and validation sets.\n",
    "\n",
    "X_train, X_test, y_train, y_test = train_test_split(\n",
    "    X, y_encoded, test_size=0.20, random_state=42, stratify=y_encoded\n",
    "\n",
    ")"
   ]
  },
  {
   "cell_type": "code",
   "execution_count": 54,
   "id": "7716b62a-3586-40c7-a9dc-c4ea9035975f",
   "metadata": {},
   "outputs": [],
   "source": [
    "# import few more packages\n",
    "from tensorflow.keras.models import Sequential\n",
    "from tensorflow.keras.layers import Dense,Dropout,BatchNormalization\n",
    "from tensorflow.keras.regularizers import l2\n"
   ]
  },
  {
   "cell_type": "code",
   "execution_count": 64,
   "id": "bc19026e-90f3-4c36-9b8f-7b5eca77e772",
   "metadata": {},
   "outputs": [
    {
     "name": "stdout",
     "output_type": "stream",
     "text": [
      "Number of classes: 3\n",
      "class_counts_train: {0: 19483, 1: 85841, 2: 127453}\n",
      "training start\n"
     ]
    }
   ],
   "source": [
    "# get number of classes from target train data; we should get 3\n",
    "num_classes = len(np.unique(y_train))\n",
    "print(\"Number of classes:\", num_classes)\n",
    "\n",
    "classes_train = np.unique(y_train, return_counts=True)[0]\n",
    "counts_train = np.unique(y_train, return_counts=True)[1]\n",
    "\n",
    "# print(\"classes_train:\", classes_train)\n",
    "# print(\"counts_train:\", counts_train)\n",
    "\n",
    "\n",
    "class_counts_train = {classes_train[i]:counts_train[i] for i in range(len(classes_train))}\n",
    "print(\"class_counts_train:\", class_counts_train)\n",
    "\n",
    "Y_weights = {}\n",
    "X_class_ratios = {}\n",
    "Y_map = dict(zip(label_encoder.classes_, label_encoder.transform(label_encoder.classes_)))\n",
    "for label, enc in Y_map.items():\n",
    "    Y_weights[enc] = round(np.log(len(X_train)/class_counts_train[enc]), 2)\n",
    "    X_class_ratios[enc] = round(class_counts_train[enc]/len(X_train))\n",
    "\n",
    "print(\"training start\")\n",
    "\n",
    "# Define the Sequential model\n",
    "classifier = Sequential()\n",
    "classifier.add(Dense(1024, activation='relu', input_shape=(X_train.shape[1],), kernel_regularizer=l2(1e-4)))\n",
    "classifier.add(BatchNormalization())\n",
    "classifier.add(Dropout(0.5))\n",
    "\n",
    "classifier.add(Dense(512, activation='relu', kernel_regularizer=l2(1e-4)))\n",
    "classifier.add(BatchNormalization())\n",
    "classifier.add(Dropout(0.5))\n",
    "\n",
    "classifier.add(Dense(256, activation='relu', kernel_regularizer=l2(1e-4)))\n",
    "classifier.add(BatchNormalization())\n",
    "classifier.add(Dropout(0.5))\n",
    "\n",
    "## for last one,  matching the number of classes with what we predicting and using 'softmax' for activation\n",
    "classifier.add(Dense(num_classes, activation='softmax'))"
   ]
  },
  {
   "cell_type": "code",
   "execution_count": 65,
   "id": "a448685d-4fbd-4efe-9eb7-2ceb6bf087d2",
   "metadata": {},
   "outputs": [
    {
     "data": {
      "text/plain": [
       "array(['Negative', 'Neutral', 'Positive'], dtype=object)"
      ]
     },
     "execution_count": 65,
     "metadata": {},
     "output_type": "execute_result"
    }
   ],
   "source": [
    "label_encoder.classes_"
   ]
  },
  {
   "cell_type": "code",
   "execution_count": 66,
   "id": "aea60b47-68f4-4c87-99ed-82df44888c45",
   "metadata": {},
   "outputs": [
    {
     "data": {
      "text/plain": [
       "array([0, 1, 2])"
      ]
     },
     "execution_count": 66,
     "metadata": {},
     "output_type": "execute_result"
    }
   ],
   "source": [
    "label_encoder.transform(label_encoder.classes_)"
   ]
  },
  {
   "cell_type": "code",
   "execution_count": 67,
   "id": "9a0d8f28-7cc6-460a-b78e-2c06fb4eecc2",
   "metadata": {},
   "outputs": [
    {
     "name": "stdout",
     "output_type": "stream",
     "text": [
      "{'Negative': 0, 'Neutral': 1, 'Positive': 2}\n"
     ]
    }
   ],
   "source": [
    "z = zip(label_encoder.classes_, label_encoder.transform(label_encoder.classes_))\n",
    "print(dict(z))"
   ]
  },
  {
   "cell_type": "code",
   "execution_count": 68,
   "id": "2f70351c-6c95-40dd-aafa-864acb8c41e0",
   "metadata": {},
   "outputs": [
    {
     "name": "stdout",
     "output_type": "stream",
     "text": [
      "X shape: (290972, 384), y shape: (290972,)\n"
     ]
    }
   ],
   "source": [
    "# check the shape of X and y to ensure they are aligned correctly\n",
    "print(f\"X shape: {X.shape}, y shape: {y.shape}\")"
   ]
  },
  {
   "cell_type": "code",
   "execution_count": 69,
   "id": "44e3c15d-6af7-42b9-a0f9-3636395f1af7",
   "metadata": {},
   "outputs": [],
   "source": [
    "adam = tf.keras.optimizers.Adam(learning_rate=0.0005, epsilon=1e-06)\n",
    "classifier.compile(optimizer=adam, loss='sparse_categorical_crossentropy', metrics=['accuracy']) # sparse_categorical_crossentropy"
   ]
  },
  {
   "cell_type": "code",
   "execution_count": 70,
   "id": "e4898416-249a-44e1-93ea-13fe09f219d7",
   "metadata": {},
   "outputs": [
    {
     "name": "stdout",
     "output_type": "stream",
     "text": [
      "Epoch 1/50\n",
      "1164/1164 - 67s - loss: 1.0408 - accuracy: 0.5856 - val_loss: 0.9326 - val_accuracy: 0.6294 - 67s/epoch - 58ms/step\n",
      "Epoch 2/50\n",
      "1164/1164 - 64s - loss: 0.8878 - accuracy: 0.6400 - val_loss: 0.8810 - val_accuracy: 0.6505 - 64s/epoch - 55ms/step\n",
      "Epoch 3/50\n",
      "1164/1164 - 64s - loss: 0.8530 - accuracy: 0.6484 - val_loss: 0.8312 - val_accuracy: 0.6638 - 64s/epoch - 55ms/step\n",
      "Epoch 4/50\n",
      "1164/1164 - 64s - loss: 0.8249 - accuracy: 0.6540 - val_loss: 0.8181 - val_accuracy: 0.6641 - 64s/epoch - 55ms/step\n",
      "Epoch 5/50\n",
      "1164/1164 - 64s - loss: 0.8030 - accuracy: 0.6562 - val_loss: 0.8798 - val_accuracy: 0.6230 - 64s/epoch - 55ms/step\n",
      "Epoch 6/50\n",
      "1164/1164 - 64s - loss: 0.7879 - accuracy: 0.6582 - val_loss: 0.7604 - val_accuracy: 0.6789 - 64s/epoch - 55ms/step\n",
      "Epoch 7/50\n",
      "1164/1164 - 64s - loss: 0.7767 - accuracy: 0.6587 - val_loss: 0.8184 - val_accuracy: 0.6458 - 64s/epoch - 55ms/step\n",
      "Epoch 8/50\n",
      "1164/1164 - 64s - loss: 0.7712 - accuracy: 0.6609 - val_loss: 0.8552 - val_accuracy: 0.6201 - 64s/epoch - 55ms/step\n",
      "Epoch 9/50\n",
      "Restoring model weights from the end of the best epoch: 6.\n",
      "1164/1164 - 64s - loss: 0.7656 - accuracy: 0.6626 - val_loss: 0.7645 - val_accuracy: 0.6723 - 64s/epoch - 55ms/step\n",
      "Epoch 9: early stopping\n"
     ]
    }
   ],
   "source": [
    "from tensorflow.keras.callbacks import EarlyStopping\n",
    "\n",
    "# Create an early stopping callback that monitors the validation loss.\n",
    "early_stopping = EarlyStopping(monitor='val_loss', patience=3, restore_best_weights=True, verbose=1)\n",
    "# early stopping is used to prevent overfitting. \n",
    "# monitor the model’s performance on a separate validation set during training and to stop the \n",
    "# training process when the performance stops improving\n",
    "\n",
    "history_accuracy = classifier.fit(\n",
    "    X_train, \n",
    "    y_train, \n",
    "    epochs=50, \n",
    "    batch_size=200, \n",
    "    validation_data=(X_test, y_test), \n",
    "    shuffle=True, \n",
    "    class_weight=Y_weights, \n",
    "    verbose=2,\n",
    "    callbacks=[early_stopping]\n",
    ")\n"
   ]
  },
  {
   "cell_type": "code",
   "execution_count": 71,
   "id": "d1afc708-b410-462c-9646-53cb4753f604",
   "metadata": {},
   "outputs": [
    {
     "name": "stdout",
     "output_type": "stream",
     "text": [
      "Epoch  1: accuracy = 0.5856, loss = 1.0408, val_accuracy = 0.6294, val_loss = 0.9326\n",
      "Epoch  2: accuracy = 0.6400, loss = 0.8878, val_accuracy = 0.6505, val_loss = 0.8810\n",
      "Epoch  3: accuracy = 0.6484, loss = 0.8530, val_accuracy = 0.6638, val_loss = 0.8312\n",
      "Epoch  4: accuracy = 0.6540, loss = 0.8249, val_accuracy = 0.6641, val_loss = 0.8181\n",
      "Epoch  5: accuracy = 0.6562, loss = 0.8030, val_accuracy = 0.6230, val_loss = 0.8798\n",
      "Epoch  6: accuracy = 0.6582, loss = 0.7879, val_accuracy = 0.6789, val_loss = 0.7604\n",
      "Epoch  7: accuracy = 0.6587, loss = 0.7767, val_accuracy = 0.6458, val_loss = 0.8184\n",
      "Epoch  8: accuracy = 0.6609, loss = 0.7712, val_accuracy = 0.6201, val_loss = 0.8552\n",
      "Epoch  9: accuracy = 0.6626, loss = 0.7656, val_accuracy = 0.6723, val_loss = 0.7645\n"
     ]
    }
   ],
   "source": [
    "# printing history values\n",
    "\n",
    "for epoch in range(len(history_accuracy.history['loss'])):\n",
    "    print(f\"Epoch {(epoch+1):2.0f}: accuracy = {history_accuracy.history['accuracy'][epoch]:.4f}, \"\n",
    "          f\"loss = {history_accuracy.history['loss'][epoch]:.4f}, \"\n",
    "          f\"val_accuracy = {history_accuracy.history['val_accuracy'][epoch]:.4f}, \"\n",
    "          f\"val_loss = {history_accuracy.history['val_loss'][epoch]:.4f}\")"
   ]
  },
  {
   "cell_type": "code",
   "execution_count": 72,
   "id": "f1fb3f8d-25ed-4dd1-bb04-ec4eceee7fd5",
   "metadata": {},
   "outputs": [
    {
     "data": {
      "image/png": "[encoded data removed]",
      "text/plain": [
       "<Figure size 640x480 with 1 Axes>"
      ]
     },
     "metadata": {},
     "output_type": "display_data"
    }
   ],
   "source": [
    "# draw a graph of accuracy curve from history data object\n",
    "plt.plot(history_accuracy.history['accuracy'], label='Training Accuracy')\n",
    "plt.plot(history_accuracy.history['val_accuracy'], label='Validation Accuracy')\n",
    "plt.title('Model Accuracy')\n",
    "plt.xlabel('Epoch')\n",
    "plt.ylabel('Accuracy')\n",
    "plt.legend()\n",
    "plt.show()"
   ]
  },
  {
   "cell_type": "code",
   "execution_count": 73,
   "id": "78b15010-23a3-4227-a229-bf29cd0e3e03",
   "metadata": {},
   "outputs": [
    {
     "data": {
      "image/png": "[encoded data removed]",
      "text/plain": [
       "<Figure size 640x480 with 1 Axes>"
      ]
     },
     "metadata": {},
     "output_type": "display_data"
    }
   ],
   "source": [
    "# draw Loss curve from history \n",
    "\n",
    "plt.plot(history_accuracy.history['loss'], label='Training Loss')\n",
    "plt.plot(history_accuracy.history['val_loss'], label='Validation Loss')\n",
    "plt.title('Model Loss')\n",
    "plt.xlabel('Epoch')\n",
    "plt.ylabel('Loss')\n",
    "plt.legend()\n",
    "plt.show()"
   ]
  },
  {
   "cell_type": "code",
   "execution_count": 74,
   "id": "2aff85c1-b844-4835-bcfc-bfbe9096c252",
   "metadata": {},
   "outputs": [
    {
     "name": "stdout",
     "output_type": "stream",
     "text": [
      "1819/1819 [==============================] - 7s 4ms/step - loss: 0.7604 - accuracy: 0.6789\n",
      "Test Loss: 0.7604, Test Accuracy: 0.6789\n"
     ]
    }
   ],
   "source": [
    "# now evaluate the model\n",
    "loss, accuracy = classifier.evaluate(X_test, y_test)\n",
    "print(f\"Test Loss: {loss:.4f}, Test Accuracy: {accuracy:.4f}\")"
   ]
  },
  {
   "cell_type": "code",
   "execution_count": 75,
   "id": "aa26d849-10c6-4ee1-a598-e43849cef40d",
   "metadata": {},
   "outputs": [
    {
     "name": "stdout",
     "output_type": "stream",
     "text": [
      "1819/1819 [==============================] - 6s 3ms/step\n",
      "Sample 78: Predicted: Negative, True: Neutral\n",
      "Sample 27: Predicted: Positive, True: Neutral\n",
      "Sample 67: Predicted: Neutral, True: Neutral\n",
      "Sample 138: Predicted: Neutral, True: Negative\n",
      "Sample 89: Predicted: Positive, True: Positive\n"
     ]
    }
   ],
   "source": [
    "# make few predictions on the test set\n",
    "pred_probs = classifier.predict(X_test)\n",
    "pred_indices = np.argmax(pred_probs, axis=1)\n",
    "pred_labels = label_encoder.inverse_transform(pred_indices)\n",
    "\n",
    "import random\n",
    "# Compare a few predictions with the true labels\n",
    "# out of 1000 limited data we took, 20% is train data. \n",
    "# so, randomly pick \n",
    "for i in random.sample(range(1,200), 5):\n",
    "    true_label = label_encoder.inverse_transform([y_test[i]])[0]\n",
    "    print(f\"Sample {i}: Predicted: {pred_labels[i]}, True: {true_label}\")"
   ]
  },
  {
   "cell_type": "code",
   "execution_count": 76,
   "id": "e3ad64cd-6c11-4a88-9908-aadd42193e4d",
   "metadata": {},
   "outputs": [
    {
     "name": "stdout",
     "output_type": "stream",
     "text": [
      "Precision: 0.6917\n",
      "Recall: 0.6789\n",
      "F1 Score: 0.6811\n"
     ]
    }
   ],
   "source": [
    "from sklearn.metrics import classification_report, precision_score, recall_score, f1_score\n",
    "\n",
    "# Alternatively, compute individual metrics (weighted averages for multi-class)\n",
    "precision = precision_score(y_test, pred_indices, average='weighted')\n",
    "recall = recall_score(y_test, pred_indices, average='weighted')\n",
    "f1 = f1_score(y_test, pred_indices, average='weighted')\n",
    "print(f\"Precision: {precision:.4f}\")\n",
    "print(f\"Recall: {recall:.4f}\")\n",
    "print(f\"F1 Score: {f1:.4f}\")"
   ]
  },
  {
   "cell_type": "code",
   "execution_count": 77,
   "id": "05b08c3f-6ea6-4401-84fa-b46a4ba68950",
   "metadata": {},
   "outputs": [
    {
     "name": "stdout",
     "output_type": "stream",
     "text": [
      "Shape of y_encoded: (290972,)\n",
      "Shape of pred_indices: (58195,)\n"
     ]
    }
   ],
   "source": [
    "print(\"Shape of y_encoded:\", y_encoded.shape)\n",
    "print(\"Shape of pred_indices:\", pred_indices.shape)"
   ]
  },
  {
   "cell_type": "markdown",
   "id": "7e01b7bc-5433-40a4-bf6d-7f44f8b0a9e2",
   "metadata": {},
   "source": [
    "## ROC AUC score and Confusion matrix"
   ]
  },
  {
   "cell_type": "code",
   "execution_count": 78,
   "id": "88695da0-f51a-4e56-abfd-c9dd30b17e11",
   "metadata": {},
   "outputs": [
    {
     "name": "stdout",
     "output_type": "stream",
     "text": [
      "ROC AUC Score: 0.8214\n",
      "PR AUC Score: 0.6437\n"
     ]
    }
   ],
   "source": [
    "\n",
    "from sklearn.metrics import roc_auc_score, average_precision_score\n",
    "from sklearn.preprocessing import label_binarize\n",
    "\n",
    "# For multi-class ROC AUC and PR AUC, binarize the labels.\n",
    "# Here we assume the classes are 0, 1, ..., num_classes-1.\n",
    "y_test_binarized = label_binarize(y_test, classes=np.arange(num_classes))\n",
    "\n",
    "# Compute ROC AUC using the One-vs-Rest (OvR) strategy, using macro-average.\n",
    "\n",
    "roc_auc = roc_auc_score(y_test_binarized, pred_probs, average='macro', multi_class='ovr')\n",
    "print(f\"ROC AUC Score: {roc_auc:.4f}\")\n",
    "\n",
    "# Compute PR AUC (average precision score) for multi-class (macro-average).\n",
    "# helpful for highly imbalanced datasets, as it focuses on the performance of the positive class.\n",
    "pr_auc = average_precision_score(y_test_binarized, pred_probs, average='macro')\n",
    "print(f\"PR AUC Score: {pr_auc:.4f}\")"
   ]
  },
  {
   "cell_type": "markdown",
   "id": "0f4577ce-4f06-4661-a7a5-11508d8acb40",
   "metadata": {},
   "source": [
    "TODO\n",
    "ROC AUC Score 0.6559 is pretty low. this may be due to very small sample I picked. \n",
    "re-write this again when model is run with all ~ 300K rows. \n",
    "clearly with full data score imporved. "
   ]
  },
  {
   "cell_type": "code",
   "execution_count": 79,
   "id": "7dff6311-beff-496a-b376-1d26554f5583",
   "metadata": {},
   "outputs": [
    {
     "name": "stdout",
     "output_type": "stream",
     "text": [
      "1819/1819 [==============================] - 6s 3ms/step\n",
      "Negative: Precision: 0.4173, Recall: 0.3463, F1 Score: 0.3785\n",
      "Neutral: Precision: 0.5791, Recall: 0.7040, F1 Score: 0.6354\n",
      "Positive: Precision: 0.8095, Recall: 0.7129, F1 Score: 0.7581\n",
      "\n",
      "Full Classification Report:\n",
      "              precision    recall  f1-score   support\n",
      "\n",
      "    Negative       0.42      0.35      0.38      4871\n",
      "     Neutral       0.58      0.70      0.64     21460\n",
      "    Positive       0.81      0.71      0.76     31864\n",
      "\n",
      "    accuracy                           0.68     58195\n",
      "   macro avg       0.60      0.59      0.59     58195\n",
      "weighted avg       0.69      0.68      0.68     58195\n",
      "\n"
     ]
    }
   ],
   "source": [
    "import numpy as np\n",
    "from sklearn.metrics import precision_score, recall_score, f1_score, classification_report\n",
    "from sklearn.preprocessing import LabelEncoder\n",
    "from sklearn.model_selection import train_test_split\n",
    "\n",
    "\n",
    "# Make predictions on the test set\n",
    "pred_probabilities = classifier.predict(X_test)\n",
    "\n",
    "# For multi-class classification, convert probabilities to class indices\n",
    "pred_indices = np.argmax(pred_probabilities, axis=1)\n",
    "\n",
    "# Compute per-class metrics using y_test (not y_encoded)\n",
    "precision = precision_score(y_test, pred_indices, average=None)\n",
    "recall = recall_score(y_test, pred_indices, average=None)\n",
    "f1 = f1_score(y_test, pred_indices, average=None)\n",
    "\n",
    "# Print per-class metrics with class names\n",
    "for i, (p, r, f) in enumerate(zip(precision, recall, f1)):\n",
    "    class_name = label_encoder.inverse_transform([i])[0]\n",
    "    print(f\"{class_name}: Precision: {p:.4f}, Recall: {r:.4f}, F1 Score: {f:.4f}\")\n",
    "\n",
    "# Alternatively, print a full classification report\n",
    "print(\"\\nFull Classification Report:\")\n",
    "print(classification_report(y_test, pred_indices, target_names=label_encoder.classes_))"
   ]
  },
  {
   "cell_type": "code",
   "execution_count": 80,
   "id": "22afd15f-1b86-4075-a250-74aba408ae1a",
   "metadata": {},
   "outputs": [
    {
     "name": "stdout",
     "output_type": "stream",
     "text": [
      "Negative: Accuracy: 0.9048\n",
      "Neutral: Accuracy: 0.7021\n",
      "Positive: Accuracy: 0.7509\n"
     ]
    }
   ],
   "source": [
    "\n",
    "from sklearn.metrics import confusion_matrix\n",
    "\n",
    "# Assume y_test and pred_indices are defined and have the same length.\n",
    "cm = confusion_matrix(y_test, pred_indices)\n",
    "total_samples = cm.sum()\n",
    "per_class_accuracy = []\n",
    "\n",
    "for i in range(cm.shape[0]):\n",
    "    TP = cm[i, i]\n",
    "    FP = cm[:, i].sum() - TP\n",
    "    FN = cm[i, :].sum() - TP\n",
    "    TN = total_samples - (TP + FP + FN)\n",
    "    class_accuracy = (TP + TN) / total_samples\n",
    "    per_class_accuracy.append(class_accuracy)\n",
    "\n",
    "# Print per-class accuracy with class names\n",
    "for i, acc in enumerate(per_class_accuracy):\n",
    "    class_name = label_encoder.inverse_transform([i])[0]\n",
    "    print(f\"{class_name}: Accuracy: {acc:.4f}\")\n"
   ]
  },
  {
   "cell_type": "code",
   "execution_count": 90,
   "id": "7cdd90fe-39b5-4ca4-a4b3-2a45e290e8a7",
   "metadata": {},
   "outputs": [
    {
     "name": "stdout",
     "output_type": "stream",
     "text": [
      "Classification Report for Top 5 Classes:\n",
      "              precision    recall  f1-score   support\n",
      "\n",
      "    Positive       0.81      0.71      0.76     31864\n",
      "     Neutral       0.58      0.70      0.64     21460\n",
      "    Negative       0.42      0.35      0.38      4871\n",
      "\n",
      "    accuracy                           0.68     58195\n",
      "   macro avg       0.60      0.59      0.59     58195\n",
      "weighted avg       0.69      0.68      0.68     58195\n",
      "\n"
     ]
    },
    {
     "data": {
      "image/png": "[encoded data removed]",
      "text/plain": [
       "<Figure size 800x600 with 2 Axes>"
      ]
     },
     "metadata": {},
     "output_type": "display_data"
    }
   ],
   "source": [
    "import numpy as np\n",
    "from sklearn.metrics import confusion_matrix, classification_report\n",
    "import matplotlib.pyplot as plt\n",
    "import seaborn as sns\n",
    "\n",
    "# Assume y_test and pred_indices are defined (pred_indices obtained from model.predict)\n",
    "# Also assume label_encoder is defined so we can convert encoded labels to their names.\n",
    "\n",
    "# 1. Count the frequency of each class in y_test\n",
    "unique_classes, counts = np.unique(y_test, return_counts=True)\n",
    "\n",
    "# 2. Identify the top classes (by count)\n",
    "sorted_idx = np.argsort(counts)[::-1]  # sort indices descending by frequency\n",
    "top5_classes = unique_classes[sorted_idx][:3]\n",
    "\n",
    "# 3. Filter y_test and pred_indices to include only samples of these top 5 classes\n",
    "mask = np.isin(y_test, top5_classes)\n",
    "y_test_top5 = y_test[mask]\n",
    "pred_indices_top5 = pred_indices[mask]\n",
    "\n",
    "# 4. Compute the confusion matrix for the top 5 classes\n",
    "cm_top5 = confusion_matrix(y_test_top5, pred_indices_top5, labels=top5_classes)\n",
    "\n",
    "# Convert the class indices to their names for better visualization\n",
    "class_names_top5 = label_encoder.inverse_transform(top5_classes)\n",
    "\n",
    "# Optional: print a classification report for the top 5 classes\n",
    "print(\"Classification Report for Top 5 Classes:\")\n",
    "print(classification_report(y_test_top5, pred_indices_top5, target_names=class_names_top5, labels=top5_classes))\n",
    "\n",
    "# Plot the confusion matrix\n",
    "plt.figure(figsize=(8, 6))\n",
    "sns.heatmap(cm_top5, annot=True, fmt='d', cmap='Blues',\n",
    "            xticklabels=class_names_top5,\n",
    "            yticklabels=class_names_top5)\n",
    "plt.xlabel('Predicted Label')\n",
    "plt.ylabel('True Label')\n",
    "plt.title('Confusion Matrix for Top 5 Classes')\n",
    "plt.show()"
   ]
  },
  {
   "cell_type": "code",
   "execution_count": 91,
   "id": "2ce55b49-58fd-4a5a-a3c1-62097c2addac",
   "metadata": {},
   "outputs": [
    {
     "name": "stdout",
     "output_type": "stream",
     "text": [
      "1819/1819 [==============================] - 6s 3ms/step\n"
     ]
    },
    {
     "data": {
      "image/png": "[encoded data removed]",
      "text/plain": [
       "<Figure size 800x600 with 2 Axes>"
      ]
     },
     "metadata": {},
     "output_type": "display_data"
    }
   ],
   "source": [
    "# Define class names from label_encoder\n",
    "class_names = label_encoder.classes_\n",
    "\n",
    "# Generate predictions\n",
    "y_pred_proba = classifier.predict(X_test)\n",
    "y_pred_indices = np.argmax(y_pred_proba, axis=1)\n",
    "\n",
    "# Confusion matrix\n",
    "cm = confusion_matrix(y_test, y_pred_indices)\n",
    "\n",
    "# Plot confusion matrix clearly\n",
    "plt.figure(figsize=(8, 6))\n",
    "sns.heatmap(\n",
    "    cm, \n",
    "    annot=True, \n",
    "    fmt='d', \n",
    "    cmap='Blues', \n",
    "    xticklabels=class_names, \n",
    "    yticklabels=class_names\n",
    ")\n",
    "plt.xlabel('Predicted Labels')\n",
    "plt.ylabel('True Labels')\n",
    "plt.title('Confusion Matrix (All Classes)')\n",
    "plt.xticks(rotation=45, ha='right')\n",
    "plt.yticks(rotation=0)\n",
    "plt.tight_layout()\n",
    "plt.show()\n"
   ]
  },
  {
   "cell_type": "code",
   "execution_count": 92,
   "id": "12edf1b5-10a4-4c1c-983b-92db1a9f9910",
   "metadata": {},
   "outputs": [
    {
     "name": "stdout",
     "output_type": "stream",
     "text": [
      "1819/1819 [==============================] - 6s 3ms/step\n"
     ]
    }
   ],
   "source": [
    "# confusion matrix data validation \n",
    "\n",
    "import numpy as np\n",
    "import pandas as pd\n",
    "\n",
    "# 1. Get predictions\n",
    "pred_proba = classifier.predict(X_test)\n",
    "pred_indices = np.argmax(pred_proba, axis=1)\n",
    "\n",
    "# 2. Identify top 5 classes\n",
    "unique_classes, counts = np.unique(y_test, return_counts=True)\n",
    "sorted_idx = np.argsort(counts)[::-1]\n",
    "top5_classes = unique_classes[sorted_idx][:5]\n",
    "\n",
    "train_indices, test_indices = train_test_split(\n",
    "    df_loaded.index, \n",
    "    test_size=0.20, \n",
    "    random_state=42, \n",
    "    stratify=y_encoded\n",
    ")\n",
    "\n",
    "df_test = df_loaded.loc[test_indices].copy()\n",
    "df_test['true_label']  = y_test\n",
    "df_test['pred_label']  = pred_indices\n",
    "\n",
    "df_test['true_label_name'] = label_encoder.inverse_transform(df_test['true_label'])\n",
    "df_test['pred_label_name'] = label_encoder.inverse_transform(df_test['pred_label'])\n",
    "\n",
    "# Keep only samples that belong to the top 5 classes\n",
    "mask_top5 = df_test['true_label'].isin(top5_classes)\n",
    "\n",
    "# Keep only misclassified samples (where predicted != actual)\n",
    "mask_misclassified = df_test['true_label'] != df_test['pred_label']\n",
    "\n",
    "# Combine both masks\n",
    "df_misclassified_top5 = df_test[mask_top5 & mask_misclassified]\n",
    "\n",
    "# df_test is a subset of the original df_no_japanese plus columns for labels\n",
    "df_misclassified_top5 = df_test[mask_top5 & mask_misclassified].merge(\n",
    "    df_loaded[['SUMMARY']],  # or whichever columns\n",
    "    left_index=True,  # if df_test kept the same index as the original\n",
    "    right_index=True\n",
    ")\n"
   ]
  },
  {
   "cell_type": "code",
   "execution_count": 93,
   "id": "cb787e42-1457-4e6a-a8eb-e980f7c7b41d",
   "metadata": {},
   "outputs": [
    {
     "data": {
      "text/html": [
       "<div>\n",
       "<style scoped>\n",
       "    .dataframe tbody tr th:only-of-type {\n",
       "        vertical-align: middle;\n",
       "    }\n",
       "\n",
       "    .dataframe tbody tr th {\n",
       "        vertical-align: top;\n",
       "    }\n",
       "\n",
       "    .dataframe thead th {\n",
       "        text-align: right;\n",
       "    }\n",
       "</style>\n",
       "<table border=\"1\" class=\"dataframe\">\n",
       "  <thead>\n",
       "    <tr style=\"text-align: right;\">\n",
       "      <th></th>\n",
       "      <th>SUMMARY_x</th>\n",
       "      <th>TRANSCRIPT_SENTIMENT</th>\n",
       "      <th>EMBEDDINGS</th>\n",
       "      <th>true_label</th>\n",
       "      <th>pred_label</th>\n",
       "      <th>true_label_name</th>\n",
       "      <th>pred_label_name</th>\n",
       "      <th>SUMMARY_y</th>\n",
       "    </tr>\n",
       "  </thead>\n",
       "  <tbody>\n",
       "    <tr>\n",
       "      <th>97449</th>\n",
       "      <td>customer intent the customer wants to understa...</td>\n",
       "      <td>Positive</td>\n",
       "      <td>[0.01646520011126995, 0.08973946422338486, 0.0...</td>\n",
       "      <td>2</td>\n",
       "      <td>1</td>\n",
       "      <td>Positive</td>\n",
       "      <td>Neutral</td>\n",
       "      <td>customer intent the customer wants to understa...</td>\n",
       "    </tr>\n",
       "    <tr>\n",
       "      <th>197629</th>\n",
       "      <td>customer intent the customer is seeking the st...</td>\n",
       "      <td>Neutral</td>\n",
       "      <td>[-0.11897347122430801, 0.04218515008687973, -0...</td>\n",
       "      <td>1</td>\n",
       "      <td>2</td>\n",
       "      <td>Neutral</td>\n",
       "      <td>Positive</td>\n",
       "      <td>customer intent the customer is seeking the st...</td>\n",
       "    </tr>\n",
       "    <tr>\n",
       "      <th>169577</th>\n",
       "      <td>customer intent the customer is seeking inform...</td>\n",
       "      <td>Positive</td>\n",
       "      <td>[-0.0630723163485527, 0.06704790890216827, -0....</td>\n",
       "      <td>2</td>\n",
       "      <td>1</td>\n",
       "      <td>Positive</td>\n",
       "      <td>Neutral</td>\n",
       "      <td>customer intent the customer is seeking inform...</td>\n",
       "    </tr>\n",
       "  </tbody>\n",
       "</table>\n",
       "</div>"
      ],
      "text/plain": [
       "                                                SUMMARY_x  \\\n",
       "97449   customer intent the customer wants to understa...   \n",
       "197629  customer intent the customer is seeking the st...   \n",
       "169577  customer intent the customer is seeking inform...   \n",
       "\n",
       "       TRANSCRIPT_SENTIMENT  \\\n",
       "97449              Positive   \n",
       "197629              Neutral   \n",
       "169577             Positive   \n",
       "\n",
       "                                               EMBEDDINGS  true_label  \\\n",
       "97449   [0.01646520011126995, 0.08973946422338486, 0.0...           2   \n",
       "197629  [-0.11897347122430801, 0.04218515008687973, -0...           1   \n",
       "169577  [-0.0630723163485527, 0.06704790890216827, -0....           2   \n",
       "\n",
       "        pred_label true_label_name pred_label_name  \\\n",
       "97449            1        Positive         Neutral   \n",
       "197629           2         Neutral        Positive   \n",
       "169577           1        Positive         Neutral   \n",
       "\n",
       "                                                SUMMARY_y  \n",
       "97449   customer intent the customer wants to understa...  \n",
       "197629  customer intent the customer is seeking the st...  \n",
       "169577  customer intent the customer is seeking inform...  "
      ]
     },
     "execution_count": 93,
     "metadata": {},
     "output_type": "execute_result"
    }
   ],
   "source": [
    "df_misclassified_top5.head(3)"
   ]
  },
  {
   "cell_type": "code",
   "execution_count": 94,
   "id": "5dd28bce-f4a6-4e15-a8a5-89d497571d22",
   "metadata": {
    "tags": []
   },
   "outputs": [
    {
     "name": "stdout",
     "output_type": "stream",
     "text": [
      "Number of rows: 18685\n"
     ]
    }
   ],
   "source": [
    "num_rows = df_misclassified_top5.shape[0]\n",
    "print(f\"Number of rows: {num_rows}\")"
   ]
  },
  {
   "cell_type": "code",
   "execution_count": 95,
   "id": "19dac2b9-aad2-41f1-808a-e9968e324a56",
   "metadata": {},
   "outputs": [
    {
     "data": {
      "text/plain": [
       "Index(['SUMMARY_x', 'TRANSCRIPT_SENTIMENT', 'EMBEDDINGS', 'true_label',\n",
       "       'pred_label', 'true_label_name', 'pred_label_name', 'SUMMARY_y'],\n",
       "      dtype='object')"
      ]
     },
     "execution_count": 95,
     "metadata": {},
     "output_type": "execute_result"
    }
   ],
   "source": [
    "df_misclassified_top5.columns"
   ]
  },
  {
   "cell_type": "code",
   "execution_count": 96,
   "id": "0ad4feca-833c-4ad5-a923-703db785fb93",
   "metadata": {},
   "outputs": [
    {
     "name": "stdout",
     "output_type": "stream",
     "text": [
      "                                                SUMMARY_x  \\\n",
      "97449   customer intent the customer wants to understa...   \n",
      "169577  customer intent the customer is seeking inform...   \n",
      "103277  customer intent the customer wants to verify t...   \n",
      "255483  customer intent the customer is calling to inq...   \n",
      "174468  customer intent the customer wants to log into...   \n",
      "...                                                   ...   \n",
      "17183   customer intent the customer is seeking assist...   \n",
      "10178   customer intent the customer is seeking assist...   \n",
      "91527   customer intent the customer intends to assist...   \n",
      "281683  customer intent the customer is seeking clarif...   \n",
      "244476  customer intent the customer wants to know how...   \n",
      "\n",
      "       TRANSCRIPT_SENTIMENT  \\\n",
      "97449              Positive   \n",
      "169577             Positive   \n",
      "103277             Positive   \n",
      "255483             Positive   \n",
      "174468             Positive   \n",
      "...                     ...   \n",
      "17183              Positive   \n",
      "10178              Positive   \n",
      "91527              Positive   \n",
      "281683             Positive   \n",
      "244476             Positive   \n",
      "\n",
      "                                               EMBEDDINGS  true_label  \\\n",
      "97449   [0.01646520011126995, 0.08973946422338486, 0.0...           2   \n",
      "169577  [-0.0630723163485527, 0.06704790890216827, -0....           2   \n",
      "103277  [-0.059111256152391434, 0.11031121760606766, -...           2   \n",
      "255483  [-0.07398553192615509, 0.09456072002649307, -0...           2   \n",
      "174468  [-0.06443388760089874, 0.051193688064813614, -...           2   \n",
      "...                                                   ...         ...   \n",
      "17183   [-0.129515141248703, 0.05571182444691658, 0.01...           2   \n",
      "10178   [-0.03809931129217148, 0.0999569445848465, -0....           2   \n",
      "91527   [-0.08073664456605911, 0.09866167604923248, -0...           2   \n",
      "281683  [-0.11089065670967102, 0.03993608057498932, -0...           2   \n",
      "244476  [-0.047218456864356995, 0.03578159585595131, -...           2   \n",
      "\n",
      "        pred_label true_label_name pred_label_name  \\\n",
      "97449            1        Positive         Neutral   \n",
      "169577           1        Positive         Neutral   \n",
      "103277           1        Positive         Neutral   \n",
      "255483           1        Positive         Neutral   \n",
      "174468           1        Positive         Neutral   \n",
      "...            ...             ...             ...   \n",
      "17183            1        Positive         Neutral   \n",
      "10178            1        Positive         Neutral   \n",
      "91527            1        Positive         Neutral   \n",
      "281683           1        Positive         Neutral   \n",
      "244476           1        Positive         Neutral   \n",
      "\n",
      "                                                SUMMARY_y  \n",
      "97449   customer intent the customer wants to understa...  \n",
      "169577  customer intent the customer is seeking inform...  \n",
      "103277  customer intent the customer wants to verify t...  \n",
      "255483  customer intent the customer is calling to inq...  \n",
      "174468  customer intent the customer wants to log into...  \n",
      "...                                                   ...  \n",
      "17183   customer intent the customer is seeking assist...  \n",
      "10178   customer intent the customer is seeking assist...  \n",
      "91527   customer intent the customer intends to assist...  \n",
      "281683  customer intent the customer is seeking clarif...  \n",
      "244476  customer intent the customer wants to know how...  \n",
      "\n",
      "[8445 rows x 8 columns]\n"
     ]
    }
   ],
   "source": [
    "mask = (\n",
    "    (df_misclassified_top5[\"true_label_name\"] == \"Positive\") &\n",
    "    (df_misclassified_top5[\"pred_label_name\"] == \"Neutral\")\n",
    ")\n",
    "df_filtered_cs_c = df_misclassified_top5[mask]\n",
    "\n",
    "# Print just those filtered rows (all columns)\n",
    "print(df_filtered_cs_c)\n",
    "#df_filtered_cs_t_500 = print(df_filtered_cs_t.iloc[:500])\n"
   ]
  },
  {
   "cell_type": "markdown",
   "id": "7e2bb2e0-8a0d-4b59-af4c-750d261bee59",
   "metadata": {},
   "source": [
    "# Compare with other models( LogisticRegression, Random Forest, GB)"
   ]
  },
  {
   "cell_type": "code",
   "execution_count": 97,
   "id": "956da8ec-0d7c-4557-9269-3fda30c1ba0f",
   "metadata": {},
   "outputs": [
    {
     "name": "stdout",
     "output_type": "stream",
     "text": [
      "Training Accuracy: 0.6246\n",
      "Testing Accuracy: 0.6190\n"
     ]
    }
   ],
   "source": [
    "from sklearn.linear_model import LogisticRegression\n",
    "from sklearn.metrics import accuracy_score\n",
    "\n",
    "# Create and fit logistic regression with balanced classes\n",
    "log_reg = LogisticRegression(class_weight='balanced', max_iter=500, random_state=42)\n",
    "log_reg.fit(X_train, y_train)\n",
    "\n",
    "# Calculate accuracy\n",
    "train_accuracy = log_reg.score(X_train, y_train)\n",
    "test_accuracy = log_reg.score(X_test, y_test)\n",
    "\n",
    "print(f\"Training Accuracy: {train_accuracy:.4f}\")\n",
    "print(f\"Testing Accuracy: {test_accuracy:.4f}\")\n"
   ]
  },
  {
   "cell_type": "code",
   "execution_count": 98,
   "id": "27869de1-cd7b-4ecf-b4c4-6f0b47efdde1",
   "metadata": {},
   "outputs": [
    {
     "name": "stdout",
     "output_type": "stream",
     "text": [
      "=== Logistic Regression (Overall Metrics) ===\n",
      "Precision (weighted): 0.685\n",
      "Recall (weighted):    0.619\n",
      "F1-score (weighted):  0.639\n",
      "\n",
      "Logistic Regression classification report:\n",
      "              precision    recall  f1-score   support\n",
      "\n",
      "           0       0.24      0.66      0.36      4871\n",
      "           1       0.62      0.49      0.55     21460\n",
      "           2       0.80      0.70      0.74     31864\n",
      "\n",
      "    accuracy                           0.62     58195\n",
      "   macro avg       0.55      0.62      0.55     58195\n",
      "weighted avg       0.69      0.62      0.64     58195\n",
      "\n"
     ]
    }
   ],
   "source": [
    "from sklearn.linear_model import LogisticRegression# 1. LOGISTIC REGRESSION\n",
    "\n",
    "lr = LogisticRegression(max_iter=1000, class_weight='balanced', random_state=42)\n",
    "lr.fit(X_train, y_train)\n",
    "lr_preds = lr.predict(X_test)\n",
    "\n",
    "# Calculate \"overall\" precision, recall, and F1\n",
    "# 'macro' averages metrics equally across classes,\n",
    "# 'weighted' averages by class support (size).\n",
    "lr_precision = precision_score(y_test, lr_preds, average='weighted')\n",
    "lr_recall = recall_score(y_test, lr_preds, average='weighted')\n",
    "lr_f1 = f1_score(y_test, lr_preds, average='weighted')\n",
    "\n",
    "print(\"=== Logistic Regression (Overall Metrics) ===\")\n",
    "print(f\"Precision (weighted): {lr_precision:.3f}\")\n",
    "print(f\"Recall (weighted):    {lr_recall:.3f}\")\n",
    "print(f\"F1-score (weighted):  {lr_f1:.3f}\")\n",
    "\n",
    "# (Optional) Detailed metrics per class\n",
    "print(\"\\nLogistic Regression classification report:\")\n",
    "print(classification_report(y_test, lr_preds))"
   ]
  },
  {
   "cell_type": "code",
   "execution_count": 104,
   "id": "89710b1a-beb3-4057-9570-846068e8a256",
   "metadata": {},
   "outputs": [
    {
     "name": "stdout",
     "output_type": "stream",
     "text": [
      "Random Forest Training Accuracy: 0.6738\n",
      "Random Forest Testing Accuracy: 0.6572\n"
     ]
    }
   ],
   "source": [
    "from sklearn.ensemble import RandomForestClassifier\n",
    "\n",
    "# Define and train Random Forest with balanced class weights\n",
    "rf = RandomForestClassifier(n_estimators=100, class_weight='balanced', random_state=42)\n",
    "rf.fit(X_train, y_train)\n",
    "\n",
    "# Predictions\n",
    "train_preds_rf = rf.predict(X_train)\n",
    "test_preds_rf = rf.predict(X_test)\n",
    "\n",
    "# Accuracy calculation\n",
    "train_accuracy_rf = rf.score(X_train, y_train)\n",
    "test_accuracy = rf.score(X_test, y_test)\n",
    "\n",
    "# Print accuracies clearly\n",
    "print(f\"Random Forest Training Accuracy: {train_accuracy:.4f}\")\n",
    "print(f\"Random Forest Testing Accuracy: {test_accuracy:.4f}\")\n"
   ]
  },
  {
   "cell_type": "code",
   "execution_count": 101,
   "id": "1cb4169b-1377-476c-86be-0059c30e0b51",
   "metadata": {},
   "outputs": [
    {
     "name": "stdout",
     "output_type": "stream",
     "text": [
      "=== Random Forest (Overall Metrics) ===\n",
      "Precision (weighted): 0.659\n",
      "Recall (weighted):    0.657\n",
      "F1-score (weighted):  0.624\n",
      "\n",
      "Random Forest classification report:\n",
      "              precision    recall  f1-score   support\n",
      "\n",
      "           0       0.76      0.04      0.08      4871\n",
      "           1       0.61      0.50      0.55     21460\n",
      "           2       0.68      0.86      0.76     31864\n",
      "\n",
      "    accuracy                           0.66     58195\n",
      "   macro avg       0.68      0.47      0.46     58195\n",
      "weighted avg       0.66      0.66      0.62     58195\n",
      "\n"
     ]
    }
   ],
   "source": [
    "# 2. RANDOM FOREST\n",
    "rf = RandomForestClassifier(n_estimators=100, class_weight='balanced', random_state=42)\n",
    "rf.fit(X_train, y_train)\n",
    "rf_preds = rf.predict(X_test)\n",
    "\n",
    "rf_precision = precision_score(y_test, rf_preds, average='weighted')\n",
    "rf_recall = recall_score(y_test, rf_preds, average='weighted')\n",
    "rf_f1 = f1_score(y_test, rf_preds, average='weighted')\n",
    "\n",
    "print(\"=== Random Forest (Overall Metrics) ===\")\n",
    "print(f\"Precision (weighted): {rf_precision:.3f}\")\n",
    "print(f\"Recall (weighted):    {rf_recall:.3f}\")\n",
    "print(f\"F1-score (weighted):  {rf_f1:.3f}\")\n",
    "\n",
    "# (Optional) Detailed metrics per class\n",
    "print(\"\\nRandom Forest classification report:\")\n",
    "print(classification_report(y_test, rf_preds))"
   ]
  },
  {
   "cell_type": "code",
   "execution_count": 102,
   "id": "9c7b3364-6908-49cd-8efe-f15c14e5a57e",
   "metadata": {},
   "outputs": [
    {
     "name": "stdout",
     "output_type": "stream",
     "text": [
      "=== Gradient Boosting: TRAIN Metrics ===\n",
      "Accuracy : 0.6738\n",
      "Precision: 0.6720\n",
      "Recall:    0.6738\n",
      "F1-score:  0.6466\n",
      "\n",
      "=== Gradient Boosting: (TEST Metrics) ===\n",
      "Accuracy:  0.6640\n",
      "Precision: 0.6575\n",
      "Recall:    0.6640\n",
      "F1-score:  0.6372\n"
     ]
    }
   ],
   "source": [
    "# GB classifier \n",
    "from sklearn.ensemble import GradientBoostingClassifier\n",
    "from sklearn.metrics import accuracy_score, precision_recall_fscore_support, classification_report\n",
    "\n",
    "# Gradient Boosting classifier\n",
    "gb = GradientBoostingClassifier(\n",
    "    n_estimators=100,\n",
    "    learning_rate=0.1,\n",
    "    max_depth=3,\n",
    "    random_state=42\n",
    ")\n",
    "\n",
    "# Fit model\n",
    "gb.fit(X_train, y_train)\n",
    "\n",
    "# Predictions for both train and test\n",
    "y_train_pred = gb.predict(X_train)\n",
    "y_test_pred = gb.predict(X_test)\n",
    "\n",
    "# Metrics calculation\n",
    "metrics = lambda y_true, y_pred: {\n",
    "    \"Accuracy\": round(np.mean(y_true = y_train if y_train_pred is y_train_pred else y_test) == y_train_pred, 3),\n",
    "    \"Precision\": precision_score(y_true, y_train_pred if y_true is y_train else y_test_pred, average='weighted'),\n",
    "    \"Recall\": recall_score(y_train if 'train' in locals() else y_test, y_train_pred if 'train' in locals() else y_test_pred, average='weighted'),\n",
    "    \"F1-score\": f1_score(y_true, y_train_pred if y_true is y_train else y_test_pred, average='weighted')\n",
    "}\n",
    "\n",
    "# Training metrics\n",
    "train_accuracy = gb.score(X_train, y_train)\n",
    "train_precision = precision_score(y_train, y_train_pred, average='weighted')\n",
    "train_recall = recall_score(y_train, y_train_pred, average='weighted')\n",
    "train_f1 = f1_score(y_train, y_train_pred, average='weighted')\n",
    "\n",
    "# Testing metrics\n",
    "test_accuracy = gb.score(X_test, y_test)\n",
    "test_precision = precision_score(y_test, y_test_pred, average='weighted')\n",
    "test_recall = recall_score(y_test, y_test_pred, average='weighted')\n",
    "test_f1 = f1_score(y_test, y_test_pred, average='weighted')\n",
    "\n",
    "# Printing results clearly\n",
    "print(\"=== Gradient Boosting: TRAIN Metrics ===\")\n",
    "print(f\"Accuracy : {gb.score(X_train, y_train):.4f}\")\n",
    "print(f\"Precision: {train_precision:.4f}\")\n",
    "print(f\"Recall:    {train_recall:.4f}\")\n",
    "print(f\"F1-score:  {train_f1:.4f}\")\n",
    "\n",
    "print(\"\\n=== Gradient Boosting: (TEST Metrics) ===\")\n",
    "print(f\"Accuracy:  {test_accuracy:.4f}\")\n",
    "print(f\"Precision: {test_precision:.4f}\")\n",
    "print(f\"Recall:    {test_recall:.4f}\")\n",
    "print(f\"F1-score:  {test_f1:.4f}\")\n"
   ]
  },
  {
   "cell_type": "code",
   "execution_count": 103,
   "id": "dacd0169-ab5d-4048-93d3-8859a04c70e6",
   "metadata": {},
   "outputs": [
    {
     "name": "stdout",
     "output_type": "stream",
     "text": [
      "\n",
      "Overall Test Accuracy: 0.6490\n",
      "\n",
      "Detailed Classification Report:\n",
      "              precision    recall  f1-score   support\n",
      "\n",
      "    Negative       0.68      0.03      0.06      4871\n",
      "     Neutral       0.59      0.51      0.54     21460\n",
      "    Positive       0.68      0.84      0.75     31864\n",
      "\n",
      "    accuracy                           0.65     58195\n",
      "   macro avg       0.65      0.46      0.45     58195\n",
      "weighted avg       0.64      0.65      0.62     58195\n",
      "\n"
     ]
    }
   ],
   "source": [
    "from sklearn.ensemble import GradientBoostingClassifier\n",
    "from sklearn.metrics import accuracy_score, precision_recall_fscore_support, classification_report\n",
    "import pandas as pd\n",
    "import numpy as np\n",
    "\n",
    "# Train Gradient Boosting Classifier\n",
    "gb = GradientBoostingClassifier(\n",
    "    n_estimators=30, learning_rate=0.2, max_depth=2, random_state=42\n",
    ")\n",
    "gb.fit(X_train, y_train)  # Ensure X_train and y_train are defined before this line\n",
    "\n",
    "# Predict on test data\n",
    "y_test_pred = gb.predict(X_test)\n",
    "\n",
    "# Metrics per class\n",
    "precision, recall, f1, support = precision_recall_fscore_support(y_test, y_test_pred)\n",
    "\n",
    "# Creating DataFrame for clear viewing\n",
    "metrics_df = pd.DataFrame({\n",
    "    \"Class\": label_encoder.inverse_transform(np.unique(y_test)),\n",
    "    \"Precision\": precision,\n",
    "    \"Recall\": recall,\n",
    "    \"F1-score\": f1,\n",
    "    \"Support\": support\n",
    "})\n",
    "\n",
    "# Sort by 'Support' clearly\n",
    "metrics_df_sorted = metrics_df.sort_values(by='Support', ascending=False).reset_index(drop=True)\n",
    "\n",
    "# Print the sorted metrics DataFrame\n",
    "#print(\"\\n=== Gradient Boosting Metrics Per Class ===\")\n",
    "#print(metrics_df.sort_values(by='Support', ascending=False).reset_index(drop=True))\n",
    "\n",
    "# Overall accuracy clearly\n",
    "accuracy = accuracy_score(y_test, y_test_pred)\n",
    "print(f\"\\nOverall Test Accuracy: {accuracy:.4f}\")\n",
    "\n",
    "# Optional: Detailed classification report clearly displayed\n",
    "print(\"\\nDetailed Classification Report:\")\n",
    "print(classification_report(y_test, y_test_pred, target_names=label_encoder.classes_))\n"
   ]
  },
  {
   "cell_type": "markdown",
   "id": "dfe5f28c-9a19-4a4f-ac53-0ef16aed5451",
   "metadata": {},
   "source": [
    "# saving model "
   ]
  },
  {
   "cell_type": "code",
   "execution_count": null,
   "id": "04f12764-2848-4d0c-9633-677fabf3c418",
   "metadata": {},
   "outputs": [],
   "source": [
    "#save the model\n",
    "# Save the trained model in HDF5 format\n",
    "classifier.save(\"classifier_model.h5\")\n",
    "print(\"✅ Model saved successfully as classifier_model.h5\")\n",
    "\n",
    "classifier.save(\"classifier_model.keras\")\n",
    "print(\"✅ Model saved successfully in .keras format!\")\n"
   ]
  },
  {
   "cell_type": "markdown",
   "id": "fed5677a-edbd-4bb7-ad8f-83d4d2915ebb",
   "metadata": {},
   "source": [
    "# load model and test with data"
   ]
  },
  {
   "cell_type": "code",
   "execution_count": 6,
   "id": "41f30056-eba0-4e1f-a3dd-2b09bd4e45bb",
   "metadata": {},
   "outputs": [
    {
     "name": "stderr",
     "output_type": "stream",
     "text": [
      "2025-04-18 10:48:47.437989: W tensorflow/compiler/xla/stream_executor/platform/default/dso_loader.cc:64] Could not load dynamic library 'libcuda.so.1'; dlerror: libcuda.so.1: cannot open shared object file: No such file or directory\n",
      "2025-04-18 10:48:47.439116: W tensorflow/compiler/xla/stream_executor/cuda/cuda_driver.cc:265] failed call to cuInit: UNKNOWN ERROR (303)\n",
      "2025-04-18 10:48:47.439175: I tensorflow/compiler/xla/stream_executor/cuda/cuda_diagnostics.cc:156] kernel driver does not appear to be running on this host (sqapod-11042024-0): /proc/driver/nvidia/version does not exist\n",
      "2025-04-18 10:48:47.439482: I tensorflow/core/platform/cpu_feature_guard.cc:193] This TensorFlow binary is optimized with oneAPI Deep Neural Network Library (oneDNN) to use the following CPU instructions in performance-critical operations:  AVX2 FMA\n",
      "To enable them in other operations, rebuild TensorFlow with the appropriate compiler flags.\n"
     ]
    },
    {
     "name": "stdout",
     "output_type": "stream",
     "text": [
      "Model: \"sequential_3\"\n",
      "_________________________________________________________________\n",
      " Layer (type)                Output Shape              Param #   \n",
      "=================================================================\n",
      " dense_5 (Dense)             (None, 1024)              394240    \n",
      "                                                                 \n",
      " batch_normalization_1 (Batc  (None, 1024)             4096      \n",
      " hNormalization)                                                 \n",
      "                                                                 \n",
      " dropout_3 (Dropout)         (None, 1024)              0         \n",
      "                                                                 \n",
      " dense_6 (Dense)             (None, 1024)              1049600   \n",
      "                                                                 \n",
      " batch_normalization_2 (Batc  (None, 1024)             4096      \n",
      " hNormalization)                                                 \n",
      "                                                                 \n",
      " dropout_4 (Dropout)         (None, 1024)              0         \n",
      "                                                                 \n",
      " dense_7 (Dense)             (None, 512)               524800    \n",
      "                                                                 \n",
      " batch_normalization_3 (Batc  (None, 512)              2048      \n",
      " hNormalization)                                                 \n",
      "                                                                 \n",
      " dropout_5 (Dropout)         (None, 512)               0         \n",
      "                                                                 \n",
      " dense_8 (Dense)             (None, 3)                 1539      \n",
      "                                                                 \n",
      "=================================================================\n",
      "Total params: 1,980,419\n",
      "Trainable params: 1,975,299\n",
      "Non-trainable params: 5,120\n",
      "_________________________________________________________________\n"
     ]
    }
   ],
   "source": [
    "# %pip install tensorflow #reload the model from saved file\n",
    "\n",
    "from tensorflow.keras.models import load_model\n",
    "\n",
    "#reload h5 saved format\n",
    "# loaded_model = load_model(\"classifier_model.h5\")\n",
    "# loaded_model.summary()\n",
    "\n",
    "loaded_model = load_model(\"classifier_model.keras\")\n",
    "loaded_model.summary()\n"
   ]
  },
  {
   "cell_type": "code",
   "execution_count": null,
   "id": "87428f80-3a91-40e2-98a5-c628542fdd72",
   "metadata": {
    "tags": []
   },
   "outputs": [],
   "source": [
    "# Making Predictions\n",
    "# X_test should be a NumPy array or tf.Tensor matching the input shape\n",
    "predictions = loaded_model.predict(X_test)\n",
    "\n",
    "# For classification, you might do:\n",
    "predicted_classes = (predictions > 0.5).astype(\"int32\")\n"
   ]
  },
  {
   "cell_type": "code",
   "execution_count": null,
   "id": "9cb18ff4-37ea-434a-b763-e7d3f765d9d2",
   "metadata": {},
   "outputs": [],
   "source": []
  }
 ],
 "metadata": {
  "kernelspec": {
   "display_name": "Python 3 (ipykernel)",
   "language": "python",
   "name": "python3"
  },
  "language_info": {
   "codemirror_mode": {
    "name": "ipython",
    "version": 3
   },
   "file_extension": ".py",
   "mimetype": "text/x-python",
   "name": "python",
   "nbconvert_exporter": "python",
   "pygments_lexer": "ipython3",
   "version": "3.7.16"
  }
 },
 "nbformat": 4,
 "nbformat_minor": 5
}
