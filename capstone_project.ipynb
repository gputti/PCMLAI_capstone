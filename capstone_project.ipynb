{
 "cells": [
  {
   "cell_type": "markdown",
   "id": "1098b72e-bddd-4b7b-9215-d46f923dbe25",
   "metadata": {},
   "source": [
    "## Begin of the program\n",
    "### import statements\n",
    "\n",
    "#### based on embeddings"
   ]
  },
  {
   "cell_type": "code",
   "execution_count": 1,
   "id": "81002fda-7187-4e41-bdd7-60f6747d4053",
   "metadata": {
    "tags": []
   },
   "outputs": [
    {
     "name": "stdout",
     "output_type": "stream",
     "text": [
      "Defaulting to user installation because normal site-packages is not writeable\n",
      "Requirement already satisfied: tensorflow in /home/jovyan/.local/lib/python3.7/site-packages (2.11.0)\n",
      "Requirement already satisfied: scikit-learn in /home/jovyan/.local/lib/python3.7/site-packages (1.0.2)\n",
      "Requirement already satisfied: pandas in /home/jovyan/.local/lib/python3.7/site-packages (1.3.5)\n",
      "Requirement already satisfied: numpy in /home/jovyan/.local/lib/python3.7/site-packages (1.21.6)\n",
      "Requirement already satisfied: pickle5 in /home/jovyan/.local/lib/python3.7/site-packages (0.0.12)\n",
      "Requirement already satisfied: tensorboard<2.12,>=2.11 in /home/jovyan/.local/lib/python3.7/site-packages (from tensorflow) (2.11.2)\n",
      "Requirement already satisfied: absl-py>=1.0.0 in /home/jovyan/.local/lib/python3.7/site-packages (from tensorflow) (2.1.0)\n",
      "Requirement already satisfied: wrapt>=1.11.0 in /home/jovyan/.local/lib/python3.7/site-packages (from tensorflow) (1.16.0)\n",
      "Requirement already satisfied: grpcio<2.0,>=1.24.3 in /home/jovyan/.local/lib/python3.7/site-packages (from tensorflow) (1.62.3)\n",
      "Requirement already satisfied: h5py>=2.9.0 in /home/jovyan/.local/lib/python3.7/site-packages (from tensorflow) (3.8.0)\n",
      "Requirement already satisfied: typing-extensions>=3.6.6 in /miniconda3/lib/python3.7/site-packages (from tensorflow) (4.3.0)\n",
      "Requirement already satisfied: tensorflow-estimator<2.12,>=2.11.0 in /home/jovyan/.local/lib/python3.7/site-packages (from tensorflow) (2.11.0)\n",
      "Requirement already satisfied: libclang>=13.0.0 in /home/jovyan/.local/lib/python3.7/site-packages (from tensorflow) (18.1.1)\n",
      "Requirement already satisfied: setuptools in /miniconda3/lib/python3.7/site-packages (from tensorflow) (65.6.3)\n",
      "Requirement already satisfied: tensorflow-io-gcs-filesystem>=0.23.1 in /home/jovyan/.local/lib/python3.7/site-packages (from tensorflow) (0.34.0)\n",
      "Requirement already satisfied: gast<=0.4.0,>=0.2.1 in /home/jovyan/.local/lib/python3.7/site-packages (from tensorflow) (0.4.0)\n",
      "Requirement already satisfied: termcolor>=1.1.0 in /home/jovyan/.local/lib/python3.7/site-packages (from tensorflow) (2.3.0)\n",
      "Requirement already satisfied: google-pasta>=0.1.1 in /home/jovyan/.local/lib/python3.7/site-packages (from tensorflow) (0.2.0)\n",
      "Requirement already satisfied: protobuf<3.20,>=3.9.2 in /home/jovyan/.local/lib/python3.7/site-packages (from tensorflow) (3.19.6)\n",
      "Requirement already satisfied: packaging in /miniconda3/lib/python3.7/site-packages (from tensorflow) (22.0)\n",
      "Requirement already satisfied: keras<2.12,>=2.11.0 in /home/jovyan/.local/lib/python3.7/site-packages (from tensorflow) (2.11.0)\n",
      "Requirement already satisfied: flatbuffers>=2.0 in /home/jovyan/.local/lib/python3.7/site-packages (from tensorflow) (25.2.10)\n",
      "Requirement already satisfied: six>=1.12.0 in /miniconda3/lib/python3.7/site-packages (from tensorflow) (1.16.0)\n",
      "Requirement already satisfied: opt-einsum>=2.3.2 in /home/jovyan/.local/lib/python3.7/site-packages (from tensorflow) (3.3.0)\n",
      "Requirement already satisfied: astunparse>=1.6.0 in /home/jovyan/.local/lib/python3.7/site-packages (from tensorflow) (1.6.3)\n",
      "Requirement already satisfied: scipy>=1.1.0 in /home/jovyan/.local/lib/python3.7/site-packages (from scikit-learn) (1.7.3)\n",
      "Requirement already satisfied: joblib>=0.11 in /home/jovyan/.local/lib/python3.7/site-packages (from scikit-learn) (1.3.2)\n",
      "Requirement already satisfied: threadpoolctl>=2.0.0 in /home/jovyan/.local/lib/python3.7/site-packages (from scikit-learn) (3.1.0)\n",
      "Requirement already satisfied: python-dateutil>=2.7.3 in /miniconda3/lib/python3.7/site-packages (from pandas) (2.8.2)\n",
      "Requirement already satisfied: pytz>=2017.3 in /miniconda3/lib/python3.7/site-packages (from pandas) (2022.7)\n",
      "Requirement already satisfied: wheel<1.0,>=0.23.0 in /miniconda3/lib/python3.7/site-packages (from astunparse>=1.6.0->tensorflow) (0.37.1)\n",
      "Requirement already satisfied: google-auth-oauthlib<0.5,>=0.4.1 in /home/jovyan/.local/lib/python3.7/site-packages (from tensorboard<2.12,>=2.11->tensorflow) (0.4.6)\n",
      "Requirement already satisfied: requests<3,>=2.21.0 in /miniconda3/lib/python3.7/site-packages (from tensorboard<2.12,>=2.11->tensorflow) (2.28.1)\n",
      "Requirement already satisfied: tensorboard-data-server<0.7.0,>=0.6.0 in /home/jovyan/.local/lib/python3.7/site-packages (from tensorboard<2.12,>=2.11->tensorflow) (0.6.1)\n",
      "Requirement already satisfied: tensorboard-plugin-wit>=1.6.0 in /home/jovyan/.local/lib/python3.7/site-packages (from tensorboard<2.12,>=2.11->tensorflow) (1.8.1)\n",
      "Requirement already satisfied: werkzeug>=1.0.1 in /home/jovyan/.local/lib/python3.7/site-packages (from tensorboard<2.12,>=2.11->tensorflow) (2.2.3)\n",
      "Requirement already satisfied: google-auth<3,>=1.6.3 in /home/jovyan/.local/lib/python3.7/site-packages (from tensorboard<2.12,>=2.11->tensorflow) (2.38.0)\n",
      "Requirement already satisfied: markdown>=2.6.8 in /home/jovyan/.local/lib/python3.7/site-packages (from tensorboard<2.12,>=2.11->tensorflow) (3.4.4)\n",
      "Requirement already satisfied: pyasn1-modules>=0.2.1 in /home/jovyan/.local/lib/python3.7/site-packages (from google-auth<3,>=1.6.3->tensorboard<2.12,>=2.11->tensorflow) (0.3.0)\n",
      "Requirement already satisfied: cachetools<6.0,>=2.0.0 in /home/jovyan/.local/lib/python3.7/site-packages (from google-auth<3,>=1.6.3->tensorboard<2.12,>=2.11->tensorflow) (5.5.2)\n",
      "Requirement already satisfied: rsa<5,>=3.1.4 in /home/jovyan/.local/lib/python3.7/site-packages (from google-auth<3,>=1.6.3->tensorboard<2.12,>=2.11->tensorflow) (4.9)\n",
      "Requirement already satisfied: requests-oauthlib>=0.7.0 in /home/jovyan/.local/lib/python3.7/site-packages (from google-auth-oauthlib<0.5,>=0.4.1->tensorboard<2.12,>=2.11->tensorflow) (2.0.0)\n",
      "Requirement already satisfied: importlib-metadata>=4.4 in /miniconda3/lib/python3.7/site-packages (from markdown>=2.6.8->tensorboard<2.12,>=2.11->tensorflow) (4.11.3)\n",
      "Requirement already satisfied: charset-normalizer<3,>=2 in /miniconda3/lib/python3.7/site-packages (from requests<3,>=2.21.0->tensorboard<2.12,>=2.11->tensorflow) (2.0.4)\n",
      "Requirement already satisfied: idna<4,>=2.5 in /miniconda3/lib/python3.7/site-packages (from requests<3,>=2.21.0->tensorboard<2.12,>=2.11->tensorflow) (3.4)\n",
      "Requirement already satisfied: urllib3<1.27,>=1.21.1 in /miniconda3/lib/python3.7/site-packages (from requests<3,>=2.21.0->tensorboard<2.12,>=2.11->tensorflow) (1.26.14)\n",
      "Requirement already satisfied: certifi>=2017.4.17 in /miniconda3/lib/python3.7/site-packages (from requests<3,>=2.21.0->tensorboard<2.12,>=2.11->tensorflow) (2022.12.7)\n",
      "Requirement already satisfied: MarkupSafe>=2.1.1 in /miniconda3/lib/python3.7/site-packages (from werkzeug>=1.0.1->tensorboard<2.12,>=2.11->tensorflow) (2.1.1)\n",
      "Requirement already satisfied: zipp>=0.5 in /miniconda3/lib/python3.7/site-packages (from importlib-metadata>=4.4->markdown>=2.6.8->tensorboard<2.12,>=2.11->tensorflow) (3.11.0)\n",
      "Requirement already satisfied: pyasn1<0.6.0,>=0.4.6 in /home/jovyan/.local/lib/python3.7/site-packages (from pyasn1-modules>=0.2.1->google-auth<3,>=1.6.3->tensorboard<2.12,>=2.11->tensorflow) (0.5.1)\n",
      "Requirement already satisfied: oauthlib>=3.0.0 in /home/jovyan/.local/lib/python3.7/site-packages (from requests-oauthlib>=0.7.0->google-auth-oauthlib<0.5,>=0.4.1->tensorboard<2.12,>=2.11->tensorflow) (3.2.2)\n",
      "Defaulting to user installation because normal site-packages is not writeable\n",
      "Requirement already satisfied: matplotlib in /home/jovyan/.local/lib/python3.7/site-packages (3.5.3)\n",
      "Requirement already satisfied: pillow>=6.2.0 in /home/jovyan/.local/lib/python3.7/site-packages (from matplotlib) (9.5.0)\n",
      "Requirement already satisfied: python-dateutil>=2.7 in /miniconda3/lib/python3.7/site-packages (from matplotlib) (2.8.2)\n",
      "Requirement already satisfied: fonttools>=4.22.0 in /home/jovyan/.local/lib/python3.7/site-packages (from matplotlib) (4.38.0)\n",
      "Requirement already satisfied: kiwisolver>=1.0.1 in /home/jovyan/.local/lib/python3.7/site-packages (from matplotlib) (1.4.5)\n",
      "Requirement already satisfied: pyparsing>=2.2.1 in /home/jovyan/.local/lib/python3.7/site-packages (from matplotlib) (3.1.4)\n",
      "Requirement already satisfied: numpy>=1.17 in /home/jovyan/.local/lib/python3.7/site-packages (from matplotlib) (1.21.6)\n",
      "Requirement already satisfied: packaging>=20.0 in /miniconda3/lib/python3.7/site-packages (from matplotlib) (22.0)\n",
      "Requirement already satisfied: cycler>=0.10 in /home/jovyan/.local/lib/python3.7/site-packages (from matplotlib) (0.11.0)\n",
      "Requirement already satisfied: typing-extensions in /miniconda3/lib/python3.7/site-packages (from kiwisolver>=1.0.1->matplotlib) (4.3.0)\n",
      "Requirement already satisfied: six>=1.5 in /miniconda3/lib/python3.7/site-packages (from python-dateutil>=2.7->matplotlib) (1.16.0)\n",
      "Defaulting to user installation because normal site-packages is not writeable\n",
      "Requirement already satisfied: sentence_transformers in /home/jovyan/.local/lib/python3.7/site-packages (2.2.2)\n",
      "Requirement already satisfied: tqdm in /miniconda3/lib/python3.7/site-packages (from sentence_transformers) (4.64.1)\n",
      "Requirement already satisfied: numpy in /home/jovyan/.local/lib/python3.7/site-packages (from sentence_transformers) (1.21.6)\n",
      "Requirement already satisfied: torch>=1.6.0 in /home/jovyan/.local/lib/python3.7/site-packages (from sentence_transformers) (1.13.1)\n",
      "Requirement already satisfied: nltk in /home/jovyan/.local/lib/python3.7/site-packages (from sentence_transformers) (3.8.1)\n",
      "Requirement already satisfied: sentencepiece in /home/jovyan/.local/lib/python3.7/site-packages (from sentence_transformers) (0.2.0)\n",
      "Requirement already satisfied: scipy in /home/jovyan/.local/lib/python3.7/site-packages (from sentence_transformers) (1.7.3)\n",
      "Requirement already satisfied: torchvision in /home/jovyan/.local/lib/python3.7/site-packages (from sentence_transformers) (0.14.1)\n",
      "Requirement already satisfied: transformers<5.0.0,>=4.6.0 in /home/jovyan/.local/lib/python3.7/site-packages (from sentence_transformers) (4.30.2)\n",
      "Requirement already satisfied: scikit-learn in /home/jovyan/.local/lib/python3.7/site-packages (from sentence_transformers) (1.0.2)\n",
      "Requirement already satisfied: huggingface-hub>=0.4.0 in /home/jovyan/.local/lib/python3.7/site-packages (from sentence_transformers) (0.16.4)\n",
      "Requirement already satisfied: requests in /miniconda3/lib/python3.7/site-packages (from huggingface-hub>=0.4.0->sentence_transformers) (2.28.1)\n",
      "Requirement already satisfied: packaging>=20.9 in /miniconda3/lib/python3.7/site-packages (from huggingface-hub>=0.4.0->sentence_transformers) (22.0)\n",
      "Requirement already satisfied: pyyaml>=5.1 in /home/jovyan/.local/lib/python3.7/site-packages (from huggingface-hub>=0.4.0->sentence_transformers) (6.0.1)\n",
      "Requirement already satisfied: filelock in /home/jovyan/.local/lib/python3.7/site-packages (from huggingface-hub>=0.4.0->sentence_transformers) (3.12.2)\n",
      "Requirement already satisfied: typing-extensions>=3.7.4.3 in /miniconda3/lib/python3.7/site-packages (from huggingface-hub>=0.4.0->sentence_transformers) (4.3.0)\n",
      "Requirement already satisfied: fsspec in /home/jovyan/.local/lib/python3.7/site-packages (from huggingface-hub>=0.4.0->sentence_transformers) (2023.1.0)\n",
      "Requirement already satisfied: importlib-metadata in /miniconda3/lib/python3.7/site-packages (from huggingface-hub>=0.4.0->sentence_transformers) (4.11.3)\n",
      "Requirement already satisfied: nvidia-cuda-runtime-cu11==11.7.99 in /home/jovyan/.local/lib/python3.7/site-packages (from torch>=1.6.0->sentence_transformers) (11.7.99)\n",
      "Requirement already satisfied: nvidia-cublas-cu11==11.10.3.66 in /home/jovyan/.local/lib/python3.7/site-packages (from torch>=1.6.0->sentence_transformers) (11.10.3.66)\n",
      "Requirement already satisfied: nvidia-cudnn-cu11==8.5.0.96 in /home/jovyan/.local/lib/python3.7/site-packages (from torch>=1.6.0->sentence_transformers) (8.5.0.96)\n",
      "Requirement already satisfied: nvidia-cuda-nvrtc-cu11==11.7.99 in /home/jovyan/.local/lib/python3.7/site-packages (from torch>=1.6.0->sentence_transformers) (11.7.99)\n",
      "Requirement already satisfied: wheel in /miniconda3/lib/python3.7/site-packages (from nvidia-cublas-cu11==11.10.3.66->torch>=1.6.0->sentence_transformers) (0.37.1)\n",
      "Requirement already satisfied: setuptools in /miniconda3/lib/python3.7/site-packages (from nvidia-cublas-cu11==11.10.3.66->torch>=1.6.0->sentence_transformers) (65.6.3)\n",
      "Requirement already satisfied: safetensors>=0.3.1 in /home/jovyan/.local/lib/python3.7/site-packages (from transformers<5.0.0,>=4.6.0->sentence_transformers) (0.5.3)\n",
      "Requirement already satisfied: regex!=2019.12.17 in /home/jovyan/.local/lib/python3.7/site-packages (from transformers<5.0.0,>=4.6.0->sentence_transformers) (2024.4.16)\n",
      "Requirement already satisfied: tokenizers!=0.11.3,<0.14,>=0.11.1 in /home/jovyan/.local/lib/python3.7/site-packages (from transformers<5.0.0,>=4.6.0->sentence_transformers) (0.13.3)\n",
      "Requirement already satisfied: click in /home/jovyan/.local/lib/python3.7/site-packages (from nltk->sentence_transformers) (8.1.8)\n",
      "Requirement already satisfied: joblib in /home/jovyan/.local/lib/python3.7/site-packages (from nltk->sentence_transformers) (1.3.2)\n",
      "Requirement already satisfied: threadpoolctl>=2.0.0 in /home/jovyan/.local/lib/python3.7/site-packages (from scikit-learn->sentence_transformers) (3.1.0)\n",
      "Requirement already satisfied: pillow!=8.3.*,>=5.3.0 in /home/jovyan/.local/lib/python3.7/site-packages (from torchvision->sentence_transformers) (9.5.0)\n",
      "Requirement already satisfied: zipp>=0.5 in /miniconda3/lib/python3.7/site-packages (from importlib-metadata->huggingface-hub>=0.4.0->sentence_transformers) (3.11.0)\n",
      "Requirement already satisfied: urllib3<1.27,>=1.21.1 in /miniconda3/lib/python3.7/site-packages (from requests->huggingface-hub>=0.4.0->sentence_transformers) (1.26.14)\n",
      "Requirement already satisfied: idna<4,>=2.5 in /miniconda3/lib/python3.7/site-packages (from requests->huggingface-hub>=0.4.0->sentence_transformers) (3.4)\n",
      "Requirement already satisfied: certifi>=2017.4.17 in /miniconda3/lib/python3.7/site-packages (from requests->huggingface-hub>=0.4.0->sentence_transformers) (2022.12.7)\n",
      "Requirement already satisfied: charset-normalizer<3,>=2 in /miniconda3/lib/python3.7/site-packages (from requests->huggingface-hub>=0.4.0->sentence_transformers) (2.0.4)\n",
      "Defaulting to user installation because normal site-packages is not writeable\n",
      "Requirement already satisfied: transformers in /home/jovyan/.local/lib/python3.7/site-packages (4.30.2)\n",
      "Requirement already satisfied: tensorflow in /home/jovyan/.local/lib/python3.7/site-packages (2.11.0)\n",
      "Requirement already satisfied: safetensors>=0.3.1 in /home/jovyan/.local/lib/python3.7/site-packages (from transformers) (0.5.3)\n",
      "Requirement already satisfied: numpy>=1.17 in /home/jovyan/.local/lib/python3.7/site-packages (from transformers) (1.21.6)\n",
      "Requirement already satisfied: filelock in /home/jovyan/.local/lib/python3.7/site-packages (from transformers) (3.12.2)\n",
      "Requirement already satisfied: regex!=2019.12.17 in /home/jovyan/.local/lib/python3.7/site-packages (from transformers) (2024.4.16)\n",
      "Requirement already satisfied: tokenizers!=0.11.3,<0.14,>=0.11.1 in /home/jovyan/.local/lib/python3.7/site-packages (from transformers) (0.13.3)\n",
      "Requirement already satisfied: huggingface-hub<1.0,>=0.14.1 in /home/jovyan/.local/lib/python3.7/site-packages (from transformers) (0.16.4)\n",
      "Requirement already satisfied: requests in /miniconda3/lib/python3.7/site-packages (from transformers) (2.28.1)\n",
      "Requirement already satisfied: pyyaml>=5.1 in /home/jovyan/.local/lib/python3.7/site-packages (from transformers) (6.0.1)\n",
      "Requirement already satisfied: importlib-metadata in /miniconda3/lib/python3.7/site-packages (from transformers) (4.11.3)\n",
      "Requirement already satisfied: packaging>=20.0 in /miniconda3/lib/python3.7/site-packages (from transformers) (22.0)\n",
      "Requirement already satisfied: tqdm>=4.27 in /miniconda3/lib/python3.7/site-packages (from transformers) (4.64.1)\n",
      "Requirement already satisfied: protobuf<3.20,>=3.9.2 in /home/jovyan/.local/lib/python3.7/site-packages (from tensorflow) (3.19.6)\n",
      "Requirement already satisfied: wrapt>=1.11.0 in /home/jovyan/.local/lib/python3.7/site-packages (from tensorflow) (1.16.0)\n",
      "Requirement already satisfied: grpcio<2.0,>=1.24.3 in /home/jovyan/.local/lib/python3.7/site-packages (from tensorflow) (1.62.3)\n",
      "Requirement already satisfied: gast<=0.4.0,>=0.2.1 in /home/jovyan/.local/lib/python3.7/site-packages (from tensorflow) (0.4.0)\n",
      "Requirement already satisfied: opt-einsum>=2.3.2 in /home/jovyan/.local/lib/python3.7/site-packages (from tensorflow) (3.3.0)\n",
      "Requirement already satisfied: google-pasta>=0.1.1 in /home/jovyan/.local/lib/python3.7/site-packages (from tensorflow) (0.2.0)\n",
      "Requirement already satisfied: tensorflow-estimator<2.12,>=2.11.0 in /home/jovyan/.local/lib/python3.7/site-packages (from tensorflow) (2.11.0)\n",
      "Requirement already satisfied: astunparse>=1.6.0 in /home/jovyan/.local/lib/python3.7/site-packages (from tensorflow) (1.6.3)\n",
      "Requirement already satisfied: setuptools in /miniconda3/lib/python3.7/site-packages (from tensorflow) (65.6.3)\n",
      "Requirement already satisfied: absl-py>=1.0.0 in /home/jovyan/.local/lib/python3.7/site-packages (from tensorflow) (2.1.0)\n",
      "Requirement already satisfied: keras<2.12,>=2.11.0 in /home/jovyan/.local/lib/python3.7/site-packages (from tensorflow) (2.11.0)\n",
      "Requirement already satisfied: typing-extensions>=3.6.6 in /miniconda3/lib/python3.7/site-packages (from tensorflow) (4.3.0)\n",
      "Requirement already satisfied: libclang>=13.0.0 in /home/jovyan/.local/lib/python3.7/site-packages (from tensorflow) (18.1.1)\n",
      "Requirement already satisfied: tensorflow-io-gcs-filesystem>=0.23.1 in /home/jovyan/.local/lib/python3.7/site-packages (from tensorflow) (0.34.0)\n",
      "Requirement already satisfied: termcolor>=1.1.0 in /home/jovyan/.local/lib/python3.7/site-packages (from tensorflow) (2.3.0)\n",
      "Requirement already satisfied: six>=1.12.0 in /miniconda3/lib/python3.7/site-packages (from tensorflow) (1.16.0)\n",
      "Requirement already satisfied: h5py>=2.9.0 in /home/jovyan/.local/lib/python3.7/site-packages (from tensorflow) (3.8.0)\n",
      "Requirement already satisfied: flatbuffers>=2.0 in /home/jovyan/.local/lib/python3.7/site-packages (from tensorflow) (25.2.10)\n",
      "Requirement already satisfied: tensorboard<2.12,>=2.11 in /home/jovyan/.local/lib/python3.7/site-packages (from tensorflow) (2.11.2)\n",
      "Requirement already satisfied: wheel<1.0,>=0.23.0 in /miniconda3/lib/python3.7/site-packages (from astunparse>=1.6.0->tensorflow) (0.37.1)\n",
      "Requirement already satisfied: fsspec in /home/jovyan/.local/lib/python3.7/site-packages (from huggingface-hub<1.0,>=0.14.1->transformers) (2023.1.0)\n",
      "Requirement already satisfied: markdown>=2.6.8 in /home/jovyan/.local/lib/python3.7/site-packages (from tensorboard<2.12,>=2.11->tensorflow) (3.4.4)\n",
      "Requirement already satisfied: google-auth<3,>=1.6.3 in /home/jovyan/.local/lib/python3.7/site-packages (from tensorboard<2.12,>=2.11->tensorflow) (2.38.0)\n",
      "Requirement already satisfied: werkzeug>=1.0.1 in /home/jovyan/.local/lib/python3.7/site-packages (from tensorboard<2.12,>=2.11->tensorflow) (2.2.3)\n",
      "Requirement already satisfied: tensorboard-data-server<0.7.0,>=0.6.0 in /home/jovyan/.local/lib/python3.7/site-packages (from tensorboard<2.12,>=2.11->tensorflow) (0.6.1)\n",
      "Requirement already satisfied: google-auth-oauthlib<0.5,>=0.4.1 in /home/jovyan/.local/lib/python3.7/site-packages (from tensorboard<2.12,>=2.11->tensorflow) (0.4.6)\n",
      "Requirement already satisfied: tensorboard-plugin-wit>=1.6.0 in /home/jovyan/.local/lib/python3.7/site-packages (from tensorboard<2.12,>=2.11->tensorflow) (1.8.1)\n",
      "Requirement already satisfied: charset-normalizer<3,>=2 in /miniconda3/lib/python3.7/site-packages (from requests->transformers) (2.0.4)\n",
      "Requirement already satisfied: idna<4,>=2.5 in /miniconda3/lib/python3.7/site-packages (from requests->transformers) (3.4)\n",
      "Requirement already satisfied: urllib3<1.27,>=1.21.1 in /miniconda3/lib/python3.7/site-packages (from requests->transformers) (1.26.14)\n",
      "Requirement already satisfied: certifi>=2017.4.17 in /miniconda3/lib/python3.7/site-packages (from requests->transformers) (2022.12.7)\n",
      "Requirement already satisfied: zipp>=0.5 in /miniconda3/lib/python3.7/site-packages (from importlib-metadata->transformers) (3.11.0)\n",
      "Requirement already satisfied: rsa<5,>=3.1.4 in /home/jovyan/.local/lib/python3.7/site-packages (from google-auth<3,>=1.6.3->tensorboard<2.12,>=2.11->tensorflow) (4.9)\n",
      "Requirement already satisfied: cachetools<6.0,>=2.0.0 in /home/jovyan/.local/lib/python3.7/site-packages (from google-auth<3,>=1.6.3->tensorboard<2.12,>=2.11->tensorflow) (5.5.2)\n",
      "Requirement already satisfied: pyasn1-modules>=0.2.1 in /home/jovyan/.local/lib/python3.7/site-packages (from google-auth<3,>=1.6.3->tensorboard<2.12,>=2.11->tensorflow) (0.3.0)\n",
      "Requirement already satisfied: requests-oauthlib>=0.7.0 in /home/jovyan/.local/lib/python3.7/site-packages (from google-auth-oauthlib<0.5,>=0.4.1->tensorboard<2.12,>=2.11->tensorflow) (2.0.0)\n",
      "Requirement already satisfied: MarkupSafe>=2.1.1 in /miniconda3/lib/python3.7/site-packages (from werkzeug>=1.0.1->tensorboard<2.12,>=2.11->tensorflow) (2.1.1)\n",
      "Requirement already satisfied: pyasn1<0.6.0,>=0.4.6 in /home/jovyan/.local/lib/python3.7/site-packages (from pyasn1-modules>=0.2.1->google-auth<3,>=1.6.3->tensorboard<2.12,>=2.11->tensorflow) (0.5.1)\n",
      "Requirement already satisfied: oauthlib>=3.0.0 in /home/jovyan/.local/lib/python3.7/site-packages (from requests-oauthlib>=0.7.0->google-auth-oauthlib<0.5,>=0.4.1->tensorboard<2.12,>=2.11->tensorflow) (3.2.2)\n",
      "Defaulting to user installation because normal site-packages is not writeable\n",
      "\u001b[31mERROR: Ignored the following versions that require a different python version: 2.14.1 Requires-Python >=3.8; 2.15.0 Requires-Python >=3.8; 2.15.0rc0 Requires-Python >=3.8; 2.15.0rc1 Requires-Python >=3.8; 2.15.1 Requires-Python >=3.8; 2.15.1rc0 Requires-Python >=3.8; 2.16.0 Requires-Python >=3.9; 2.16.0rc0 Requires-Python >=3.9; 2.16.0rc1 Requires-Python >=3.9; 2.16.0rc2 Requires-Python >=3.9; 2.16.0rc3 Requires-Python >=3.9; 2.16.0rc4 Requires-Python >=3.9; 2.17.0 Requires-Python >=3.9; 2.17.0rc0 Requires-Python >=3.9; 2.18.0 Requires-Python >=3.9; 2.18.0rc0 Requires-Python >=3.9; 2.19.0 Requires-Python >=3.9; 2.19.0rc0 Requires-Python >=3.9; 2.20.0 Requires-Python >=3.9\u001b[0m\u001b[31m\n",
      "\u001b[0m\u001b[31mERROR: Could not find a version that satisfies the requirement tf-keras (from versions: none)\u001b[0m\u001b[31m\n",
      "\u001b[0m\u001b[31mERROR: No matching distribution found for tf-keras\u001b[0m\u001b[31m\n",
      "\u001b[0m"
     ]
    },
    {
     "name": "stderr",
     "output_type": "stream",
     "text": [
      "2025-04-21 16:22:55.146857: I tensorflow/core/platform/cpu_feature_guard.cc:193] This TensorFlow binary is optimized with oneAPI Deep Neural Network Library (oneDNN) to use the following CPU instructions in performance-critical operations:  AVX2 FMA\n",
      "To enable them in other operations, rebuild TensorFlow with the appropriate compiler flags.\n",
      "2025-04-21 16:22:55.300854: W tensorflow/compiler/xla/stream_executor/platform/default/dso_loader.cc:64] Could not load dynamic library 'libcudart.so.11.0'; dlerror: libcudart.so.11.0: cannot open shared object file: No such file or directory\n",
      "2025-04-21 16:22:55.300936: I tensorflow/compiler/xla/stream_executor/cuda/cudart_stub.cc:29] Ignore above cudart dlerror if you do not have a GPU set up on your machine.\n",
      "2025-04-21 16:22:56.339698: W tensorflow/compiler/xla/stream_executor/platform/default/dso_loader.cc:64] Could not load dynamic library 'libnvinfer.so.7'; dlerror: libnvinfer.so.7: cannot open shared object file: No such file or directory\n",
      "2025-04-21 16:22:56.339895: W tensorflow/compiler/xla/stream_executor/platform/default/dso_loader.cc:64] Could not load dynamic library 'libnvinfer_plugin.so.7'; dlerror: libnvinfer_plugin.so.7: cannot open shared object file: No such file or directory\n",
      "2025-04-21 16:22:56.339916: W tensorflow/compiler/tf2tensorrt/utils/py_utils.cc:38] TF-TRT Warning: Cannot dlopen some TensorRT libraries. If you would like to use Nvidia GPU with TensorRT, please make sure the missing libraries mentioned above are installed properly.\n"
     ]
    }
   ],
   "source": [
    "!pip install tensorflow scikit-learn pandas numpy pickle5\n",
    "!pip install matplotlib\n",
    "!pip install sentence_transformers\n",
    "!pip install --upgrade transformers tensorflow\n",
    "!pip install tf-keras\n",
    "\n",
    "# Import libraries\n",
    "import numpy as np\n",
    "import pandas as pd\n",
    "import tensorflow as tf\n",
    "\n",
    "from sklearn.model_selection import train_test_split\n",
    "from sklearn.metrics import accuracy_score\n",
    "from tensorflow.keras.preprocessing.text import Tokenizer\n",
    "from tensorflow.keras.preprocessing.sequence import pad_sequences\n",
    "from tensorflow.keras.models import Sequential\n",
    "from tensorflow.keras.layers import Embedding, Conv1D, GlobalMaxPooling1D, Dense, Dropout\n",
    "import pickle5 as pickle\n",
    "\n",
    "import warnings\n",
    "warnings.filterwarnings('ignore')\n"
   ]
  },
  {
   "cell_type": "code",
   "execution_count": 2,
   "id": "26aa4b8c-234a-4799-886b-709ede5a9a91",
   "metadata": {},
   "outputs": [],
   "source": [
    "# Load the dataset\n",
    "# df_orig = pd.read_csv('data/data.csv')\n",
    "df_orig = pd.read_csv('data/data_100K.csv')\n",
    "# print(df_orig.head())"
   ]
  },
  {
   "cell_type": "code",
   "execution_count": 3,
   "id": "00d61eba-ce54-4717-959d-ec816c7b3bba",
   "metadata": {},
   "outputs": [
    {
     "data": {
      "text/html": [
       "<div>\n",
       "<style scoped>\n",
       "    .dataframe tbody tr th:only-of-type {\n",
       "        vertical-align: middle;\n",
       "    }\n",
       "\n",
       "    .dataframe tbody tr th {\n",
       "        vertical-align: top;\n",
       "    }\n",
       "\n",
       "    .dataframe thead th {\n",
       "        text-align: right;\n",
       "    }\n",
       "</style>\n",
       "<table border=\"1\" class=\"dataframe\">\n",
       "  <thead>\n",
       "    <tr style=\"text-align: right;\">\n",
       "      <th></th>\n",
       "      <th>CONVERSATIONID</th>\n",
       "      <th>TRANSCRIPT</th>\n",
       "      <th>TRANSCRIPT_SENTIMENT</th>\n",
       "      <th>EMPATHY</th>\n",
       "      <th>AGENT_PROFANITY</th>\n",
       "      <th>MEMBER_PROFANITY</th>\n",
       "      <th>PROFESSIONALISM</th>\n",
       "    </tr>\n",
       "  </thead>\n",
       "  <tbody>\n",
       "    <tr>\n",
       "      <th>count</th>\n",
       "      <td>100000</td>\n",
       "      <td>100000</td>\n",
       "      <td>100000</td>\n",
       "      <td>100000</td>\n",
       "      <td>100000</td>\n",
       "      <td>98897</td>\n",
       "      <td>100000</td>\n",
       "    </tr>\n",
       "    <tr>\n",
       "      <th>unique</th>\n",
       "      <td>100000</td>\n",
       "      <td>99983</td>\n",
       "      <td>3</td>\n",
       "      <td>2</td>\n",
       "      <td>2</td>\n",
       "      <td>2</td>\n",
       "      <td>2</td>\n",
       "    </tr>\n",
       "    <tr>\n",
       "      <th>top</th>\n",
       "      <td>77392784-7494-44fc-892d-a6a10890ddfa</td>\n",
       "      <td>Member: 714-469-3482 is not available. Member:...</td>\n",
       "      <td>Positive</td>\n",
       "      <td>Yes</td>\n",
       "      <td>No</td>\n",
       "      <td>No</td>\n",
       "      <td>Yes</td>\n",
       "    </tr>\n",
       "    <tr>\n",
       "      <th>freq</th>\n",
       "      <td>1</td>\n",
       "      <td>4</td>\n",
       "      <td>54660</td>\n",
       "      <td>83264</td>\n",
       "      <td>99932</td>\n",
       "      <td>95860</td>\n",
       "      <td>98642</td>\n",
       "    </tr>\n",
       "  </tbody>\n",
       "</table>\n",
       "</div>"
      ],
      "text/plain": [
       "                              CONVERSATIONID  \\\n",
       "count                                 100000   \n",
       "unique                                100000   \n",
       "top     77392784-7494-44fc-892d-a6a10890ddfa   \n",
       "freq                                       1   \n",
       "\n",
       "                                               TRANSCRIPT  \\\n",
       "count                                              100000   \n",
       "unique                                              99983   \n",
       "top     Member: 714-469-3482 is not available. Member:...   \n",
       "freq                                                    4   \n",
       "\n",
       "       TRANSCRIPT_SENTIMENT EMPATHY AGENT_PROFANITY MEMBER_PROFANITY  \\\n",
       "count                100000  100000          100000            98897   \n",
       "unique                    3       2               2                2   \n",
       "top                Positive     Yes              No               No   \n",
       "freq                  54660   83264           99932            95860   \n",
       "\n",
       "       PROFESSIONALISM  \n",
       "count           100000  \n",
       "unique               2  \n",
       "top                Yes  \n",
       "freq             98642  "
      ]
     },
     "execution_count": 3,
     "metadata": {},
     "output_type": "execute_result"
    }
   ],
   "source": [
    "df_orig.describe()"
   ]
  },
  {
   "cell_type": "code",
   "execution_count": 4,
   "id": "84ee2ec8-1b46-4bcd-a642-e37f2aba20de",
   "metadata": {},
   "outputs": [],
   "source": [
    "df = df_orig.rename(columns={'TRANSCRIPT': 'SUMMARY'}, inplace=True)\n",
    "# df.set_axis(['TRANSCRIPT', 'SUMMARY', ...], axis=1, inplace=True)"
   ]
  },
  {
   "cell_type": "markdown",
   "id": "15b89220-1e88-47e8-ac7f-88f22870ee0d",
   "metadata": {},
   "source": [
    "# Exploratory Data Analysis (EDA)"
   ]
  },
  {
   "cell_type": "code",
   "execution_count": 5,
   "id": "fa90794e-e7a5-4483-adf1-49dfed380ef5",
   "metadata": {},
   "outputs": [],
   "source": [
    "df = df_orig[[\"SUMMARY\", \"TRANSCRIPT_SENTIMENT\"]]"
   ]
  },
  {
   "cell_type": "code",
   "execution_count": 6,
   "id": "8b84749d-2634-4068-80f5-c3b0edf8fc27",
   "metadata": {},
   "outputs": [
    {
     "data": {
      "text/plain": [
       "array(['Positive', 'Neutral', 'Negative'], dtype=object)"
      ]
     },
     "execution_count": 6,
     "metadata": {},
     "output_type": "execute_result"
    }
   ],
   "source": [
    "df['TRANSCRIPT_SENTIMENT'].unique()"
   ]
  },
  {
   "cell_type": "code",
   "execution_count": 7,
   "id": "929e07d9-edff-4068-8aeb-24f1ec3468f4",
   "metadata": {},
   "outputs": [
    {
     "data": {
      "text/plain": [
       "0"
      ]
     },
     "execution_count": 7,
     "metadata": {},
     "output_type": "execute_result"
    }
   ],
   "source": [
    "df['TRANSCRIPT_SENTIMENT'].isna().sum()"
   ]
  },
  {
   "cell_type": "code",
   "execution_count": 8,
   "id": "99fced39-066a-4bad-8af7-17caefb4c2c1",
   "metadata": {},
   "outputs": [
    {
     "name": "stdout",
     "output_type": "stream",
     "text": [
      "Positive    54660\n",
      "Neutral     37428\n",
      "Negative     7912\n",
      "Name: TRANSCRIPT_SENTIMENT, dtype: int64\n"
     ]
    }
   ],
   "source": [
    "group_counts = df['TRANSCRIPT_SENTIMENT'].value_counts()\n",
    "print(group_counts)"
   ]
  },
  {
   "cell_type": "code",
   "execution_count": 9,
   "id": "90280928-12ad-4e94-af53-99d2dac4b7ae",
   "metadata": {},
   "outputs": [
    {
     "name": "stdout",
     "output_type": "stream",
     "text": [
      "Positive    0.54660\n",
      "Neutral     0.37428\n",
      "Negative    0.07912\n",
      "Name: TRANSCRIPT_SENTIMENT, dtype: float64\n"
     ]
    }
   ],
   "source": [
    "group_freq = df['TRANSCRIPT_SENTIMENT'].value_counts(normalize=True)\n",
    "print(group_freq)"
   ]
  },
  {
   "cell_type": "code",
   "execution_count": 10,
   "id": "4ab7611b-3e0a-44fc-8e45-48bd4c6cfb71",
   "metadata": {},
   "outputs": [
    {
     "data": {
      "image/png": "[encoded data removed]",
      "text/plain": [
       "<Figure size 700x500 with 1 Axes>"
      ]
     },
     "metadata": {},
     "output_type": "display_data"
    }
   ],
   "source": [
    "import matplotlib.pyplot as plt\n",
    "\n",
    "df['TRANSCRIPT_SENTIMENT'].value_counts().plot(kind='bar', figsize=(7,5))\n",
    "plt.title('TRANSCRIPT_SENTIMENT distribution')\n",
    "plt.xlabel('TRANSCRIPT_SENTIMENT')\n",
    "plt.ylabel('count')\n",
    "plt.show()"
   ]
  },
  {
   "cell_type": "markdown",
   "id": "1253131f-aaa5-48d6-a4e7-70f83228abaf",
   "metadata": {},
   "source": [
    "<strong> reduce the size of DF so we can do quick testing. \n",
    "once done, comment this code.\n",
    "</strong>"
   ]
  },
  {
   "cell_type": "code",
   "execution_count": 11,
   "id": "c8221041-ff52-497d-b185-7f1c8c274282",
   "metadata": {},
   "outputs": [],
   "source": [
    "# df1 = df\n",
    "# df = df1.sample(n=1000, random_state=1)"
   ]
  },
  {
   "cell_type": "code",
   "execution_count": null,
   "id": "9b6f8b2e-b0e1-4194-981b-dd1d1e172f81",
   "metadata": {},
   "outputs": [],
   "source": [
    "df['SUMMARY'].iloc[0]"
   ]
  },
  {
   "cell_type": "code",
   "execution_count": 13,
   "id": "9515277b-f71a-4ce9-a0cd-4f0de3b6addd",
   "metadata": {},
   "outputs": [
    {
     "name": "stdout",
     "output_type": "stream",
     "text": [
      "Defaulting to user installation because normal site-packages is not writeable\n",
      "Requirement already satisfied: clean-text in /home/jovyan/.local/lib/python3.7/site-packages (0.6.0)\n",
      "Requirement already satisfied: emoji<2.0.0,>=1.0.0 in /home/jovyan/.local/lib/python3.7/site-packages (from clean-text) (1.7.0)\n",
      "Requirement already satisfied: ftfy<7.0,>=6.0 in /home/jovyan/.local/lib/python3.7/site-packages (from clean-text) (6.1.1)\n",
      "Requirement already satisfied: wcwidth>=0.2.5 in /miniconda3/lib/python3.7/site-packages (from ftfy<7.0,>=6.0->clean-text) (0.2.5)\n",
      "Note: you may need to restart the kernel to use updated packages.\n"
     ]
    },
    {
     "name": "stderr",
     "output_type": "stream",
     "text": [
      "Since the GPL-licensed package `unidecode` is not installed, using Python's `unicodedata` package which yields worse results.\n"
     ]
    }
   ],
   "source": [
    "# clean up the text\n",
    "# using clean-text module. \n",
    "%pip install clean-text\n",
    "import cleantext\n",
    "cleantext.__version__\n",
    "\n",
    "from cleantext import clean\n",
    "\n",
    "def clean_text_custom(text):\n",
    "    return clean(text,\n",
    "        fix_unicode=True,               # fix various unicode errors\n",
    "        to_ascii=True,                  # transliterate to closest ASCII representation\n",
    "        lower=True,                     # lowercase text\n",
    "        no_line_breaks=True,           # fully strip line breaks as opposed to only normalizing them\n",
    "        no_urls=True,                  # replace all URLs with a special token\n",
    "        no_emails=True,                # replace all email addresses with a special token\n",
    "        no_phone_numbers=True,         # replace all phone numbers with a special token\n",
    "        no_numbers=True,               # replace all numbers with a special token\n",
    "        no_digits=True,                # replace all digits with a special token\n",
    "        no_currency_symbols=True,      # replace all currency symbols with a special token\n",
    "        no_punct=True,                 # remove punctuations\n",
    "        replace_with_punct=\"\",          # instead of removing punctuations you may replace them\n",
    "        replace_with_url=\"<URL>\",\n",
    "        replace_with_email=\"<EMAIL>\",\n",
    "        replace_with_phone_number=\"<PHONE>\",\n",
    "        replace_with_number=\"<NUMBER>\",\n",
    "        replace_with_digit=\"0\",\n",
    "        replace_with_currency_symbol=\"<CUR>\",\n",
    "        lang=\"en\"                       # 'en' for English\n",
    "    )\n",
    "    \n",
    "df[\"SUMMARY\"] = df[\"SUMMARY\"].apply(clean_text_custom)"
   ]
  },
  {
   "cell_type": "code",
   "execution_count": null,
   "id": "b76b38d6-170a-4bfd-8621-bf84e1f70ffc",
   "metadata": {},
   "outputs": [],
   "source": [
    "df['SUMMARY'].iloc[0]"
   ]
  },
  {
   "cell_type": "markdown",
   "id": "2fe5e7fc-ab75-4036-ab61-b86be99bab4f",
   "metadata": {},
   "source": [
    "# Model building\n",
    "##  preparing embeddings"
   ]
  },
  {
   "cell_type": "code",
   "execution_count": 15,
   "id": "9bf468db-26c9-43c4-a4e0-f4fee4c4b9ac",
   "metadata": {},
   "outputs": [
    {
     "name": "stdout",
     "output_type": "stream",
     "text": [
      "(100000, 384)\n",
      "Saved df_no_japanese in zip-compressed pickle format.\n"
     ]
    }
   ],
   "source": [
    "\n",
    "from sentence_transformers import SentenceTransformer\n",
    "warnings.filterwarnings('ignore')\n",
    "\n",
    "# Example model and DataFrame (modify for your use case)\n",
    "model = SentenceTransformer('sentence-transformers/all-MiniLM-L6-v2')\n",
    "\n",
    "\n",
    "# Encode text into embeddings (shape: [num_rows, embedding_dim])\n",
    "embeddings = np.array(model.encode(df[\"SUMMARY\"].tolist()))\n",
    "\n",
    "print(embeddings.shape)\n",
    "df[\"EMBEDDINGS\"] = embeddings.tolist()\n",
    "\n",
    "# now save the dataframe in zip-compressed pickle file\n",
    "\n",
    "df.to_pickle(\n",
    "    \"df_with_embeddings_2.pkl.zip\", \n",
    "    compression=\"zip\"\n",
    ")\n",
    "print(\"Saved df_no_japanese in zip-compressed pickle format.\")"
   ]
  },
  {
   "cell_type": "code",
   "execution_count": 16,
   "id": "ce0ee3ce-aedc-42f4-ac17-c17cf43715bf",
   "metadata": {},
   "outputs": [
    {
     "data": {
      "text/html": [
       "<div>\n",
       "<style scoped>\n",
       "    .dataframe tbody tr th:only-of-type {\n",
       "        vertical-align: middle;\n",
       "    }\n",
       "\n",
       "    .dataframe tbody tr th {\n",
       "        vertical-align: top;\n",
       "    }\n",
       "\n",
       "    .dataframe thead th {\n",
       "        text-align: right;\n",
       "    }\n",
       "</style>\n",
       "<table border=\"1\" class=\"dataframe\">\n",
       "  <thead>\n",
       "    <tr style=\"text-align: right;\">\n",
       "      <th></th>\n",
       "      <th>SUMMARY</th>\n",
       "      <th>TRANSCRIPT_SENTIMENT</th>\n",
       "      <th>EMBEDDINGS</th>\n",
       "    </tr>\n",
       "  </thead>\n",
       "  <tbody>\n",
       "    <tr>\n",
       "      <th>50467</th>\n",
       "      <td>agent your call will be answered momentarily a...</td>\n",
       "      <td>Positive</td>\n",
       "      <td>[-0.10235407948493958, -0.026985622942447662, ...</td>\n",
       "    </tr>\n",
       "    <tr>\n",
       "      <th>93918</th>\n",
       "      <td>provider yeah agent your call will be answered...</td>\n",
       "      <td>Positive</td>\n",
       "      <td>[-0.07385627180337906, 0.006600744556635618, -...</td>\n",
       "    </tr>\n",
       "    <tr>\n",
       "      <th>3955</th>\n",
       "      <td>agent your call will be answered momentarily a...</td>\n",
       "      <td>Positive</td>\n",
       "      <td>[-0.11553462594747543, -0.038492947816848755, ...</td>\n",
       "    </tr>\n",
       "    <tr>\n",
       "      <th>56153</th>\n",
       "      <td>agent thank you for calling anthem blue cross ...</td>\n",
       "      <td>Negative</td>\n",
       "      <td>[-0.07296857982873917, -0.01891135796904564, -...</td>\n",
       "    </tr>\n",
       "  </tbody>\n",
       "</table>\n",
       "</div>"
      ],
      "text/plain": [
       "                                                 SUMMARY TRANSCRIPT_SENTIMENT  \\\n",
       "50467  agent your call will be answered momentarily a...             Positive   \n",
       "93918  provider yeah agent your call will be answered...             Positive   \n",
       "3955   agent your call will be answered momentarily a...             Positive   \n",
       "56153  agent thank you for calling anthem blue cross ...             Negative   \n",
       "\n",
       "                                              EMBEDDINGS  \n",
       "50467  [-0.10235407948493958, -0.026985622942447662, ...  \n",
       "93918  [-0.07385627180337906, 0.006600744556635618, -...  \n",
       "3955   [-0.11553462594747543, -0.038492947816848755, ...  \n",
       "56153  [-0.07296857982873917, -0.01891135796904564, -...  "
      ]
     },
     "execution_count": 16,
     "metadata": {},
     "output_type": "execute_result"
    }
   ],
   "source": [
    "df.sample(4)"
   ]
  },
  {
   "cell_type": "markdown",
   "id": "cf2e4279-6185-45fa-9cff-ab1894c8a8bc",
   "metadata": {},
   "source": [
    "## load pickle file "
   ]
  },
  {
   "cell_type": "code",
   "execution_count": 17,
   "id": "602cb913-065a-472e-bf4d-afea70026f14",
   "metadata": {},
   "outputs": [],
   "source": [
    "import numpy as np\n",
    "import pandas as pd\n",
    "import tensorflow as tf\n",
    "\n",
    "from sklearn.model_selection import train_test_split\n",
    "from sklearn.metrics import accuracy_score\n",
    "from tensorflow.keras.preprocessing.text import Tokenizer\n",
    "from tensorflow.keras.preprocessing.sequence import pad_sequences\n",
    "from tensorflow.keras.models import Sequential\n",
    "from tensorflow.keras.layers import Embedding, Conv1D, GlobalMaxPooling1D, Dense, Dropout\n",
    "import pickle5 as pickle"
   ]
  },
  {
   "cell_type": "code",
   "execution_count": 18,
   "id": "06ab1c49-052e-4d09-b985-1703d97c97fc",
   "metadata": {},
   "outputs": [
    {
     "data": {
      "text/html": [
       "<div>\n",
       "<style scoped>\n",
       "    .dataframe tbody tr th:only-of-type {\n",
       "        vertical-align: middle;\n",
       "    }\n",
       "\n",
       "    .dataframe tbody tr th {\n",
       "        vertical-align: top;\n",
       "    }\n",
       "\n",
       "    .dataframe thead th {\n",
       "        text-align: right;\n",
       "    }\n",
       "</style>\n",
       "<table border=\"1\" class=\"dataframe\">\n",
       "  <thead>\n",
       "    <tr style=\"text-align: right;\">\n",
       "      <th></th>\n",
       "      <th>SUMMARY</th>\n",
       "      <th>TRANSCRIPT_SENTIMENT</th>\n",
       "      <th>EMBEDDINGS</th>\n",
       "    </tr>\n",
       "  </thead>\n",
       "  <tbody>\n",
       "    <tr>\n",
       "      <th>68455</th>\n",
       "      <td>agent your call will be answered momentarily a...</td>\n",
       "      <td>Positive</td>\n",
       "      <td>[-0.07674875110387802, 0.0125004593282938, -0....</td>\n",
       "    </tr>\n",
       "    <tr>\n",
       "      <th>74924</th>\n",
       "      <td>agent thank you for calling anthem health keep...</td>\n",
       "      <td>Neutral</td>\n",
       "      <td>[-0.056366194039583206, 0.03231031075119972, -...</td>\n",
       "    </tr>\n",
       "    <tr>\n",
       "      <th>16568</th>\n",
       "      <td>agent your call will be answered momentarily a...</td>\n",
       "      <td>Positive</td>\n",
       "      <td>[-0.1155027374625206, 0.011622719466686249, -0...</td>\n",
       "    </tr>\n",
       "    <tr>\n",
       "      <th>35866</th>\n",
       "      <td>agent thank you for calling anthem agent calls...</td>\n",
       "      <td>Neutral</td>\n",
       "      <td>[-0.11796660721302032, -0.014493259601294994, ...</td>\n",
       "    </tr>\n",
       "  </tbody>\n",
       "</table>\n",
       "</div>"
      ],
      "text/plain": [
       "                                                 SUMMARY TRANSCRIPT_SENTIMENT  \\\n",
       "68455  agent your call will be answered momentarily a...             Positive   \n",
       "74924  agent thank you for calling anthem health keep...              Neutral   \n",
       "16568  agent your call will be answered momentarily a...             Positive   \n",
       "35866  agent thank you for calling anthem agent calls...              Neutral   \n",
       "\n",
       "                                              EMBEDDINGS  \n",
       "68455  [-0.07674875110387802, 0.0125004593282938, -0....  \n",
       "74924  [-0.056366194039583206, 0.03231031075119972, -...  \n",
       "16568  [-0.1155027374625206, 0.011622719466686249, -0...  \n",
       "35866  [-0.11796660721302032, -0.014493259601294994, ...  "
      ]
     },
     "execution_count": 18,
     "metadata": {},
     "output_type": "execute_result"
    }
   ],
   "source": [
    "# now load the pickle file and work on it. \n",
    "\n",
    "df_loaded = pd.read_pickle(\"df_with_embeddings_2.pkl.zip\")\n",
    "df_loaded.sample(4)"
   ]
  },
  {
   "cell_type": "code",
   "execution_count": 19,
   "id": "f8b68b36-c45c-42f6-902f-2a4e727d076f",
   "metadata": {},
   "outputs": [
    {
     "data": {
      "text/plain": [
       "Index(['SUMMARY', 'TRANSCRIPT_SENTIMENT', 'EMBEDDINGS'], dtype='object')"
      ]
     },
     "execution_count": 19,
     "metadata": {},
     "output_type": "execute_result"
    }
   ],
   "source": [
    "df_loaded.columns"
   ]
  },
  {
   "cell_type": "code",
   "execution_count": 20,
   "id": "5bdce738-ee32-4d57-83d1-f79735e05182",
   "metadata": {},
   "outputs": [
    {
     "data": {
      "text/plain": [
       "array(['Positive', 'Neutral', 'Negative'], dtype=object)"
      ]
     },
     "execution_count": 20,
     "metadata": {},
     "output_type": "execute_result"
    }
   ],
   "source": [
    "df_loaded[\"TRANSCRIPT_SENTIMENT\"].unique()"
   ]
  },
  {
   "cell_type": "code",
   "execution_count": 21,
   "id": "147dd524-eddb-4a41-ae01-0f23b9193e1a",
   "metadata": {},
   "outputs": [],
   "source": [
    "# Ensure embeddings and category labels are in the DataFrame\n",
    "\n",
    "X = np.array(df_loaded[\"EMBEDDINGS\"].tolist())  # Convert embeddings list to array\n",
    "y = df_loaded[\"TRANSCRIPT_SENTIMENT\"]  # 'TRANSCRIPT_SENTIMENT' column has target labels"
   ]
  },
  {
   "cell_type": "code",
   "execution_count": 22,
   "id": "bc3f4e8d-12d9-462b-8829-9e53122ca870",
   "metadata": {},
   "outputs": [],
   "source": [
    "# import few more statements\n",
    "\n",
    "from sklearn.model_selection import train_test_split\n",
    "import tensorflow as tf\n",
    "from tensorflow.keras.models import Sequential\n",
    "from tensorflow.keras.layers import Dense\n"
   ]
  },
  {
   "cell_type": "code",
   "execution_count": 23,
   "id": "4afd78a1-4304-4bc3-9b9c-3422d7b4306e",
   "metadata": {},
   "outputs": [],
   "source": [
    "#converting to numeric class id\n",
    "#Encode target labels\n",
    "from sklearn.preprocessing import LabelEncoder\n",
    "\n",
    "label_encoder = LabelEncoder()\n",
    "y_encoded = label_encoder.fit_transform(df_loaded[\"TRANSCRIPT_SENTIMENT\"])  # y has target labels (TRANSCRIPT_SENTIMENT)"
   ]
  },
  {
   "cell_type": "code",
   "execution_count": 24,
   "id": "75c3aa57-df4f-4557-ab8a-df72776a6934",
   "metadata": {},
   "outputs": [
    {
     "data": {
      "text/plain": [
       "array(['Negative', 'Neutral', 'Positive'], dtype=object)"
      ]
     },
     "execution_count": 24,
     "metadata": {},
     "output_type": "execute_result"
    }
   ],
   "source": [
    "label_encoder.classes_"
   ]
  },
  {
   "cell_type": "code",
   "execution_count": 25,
   "id": "fe4da380-504f-4e9c-8118-67f5a0d2284d",
   "metadata": {},
   "outputs": [
    {
     "data": {
      "text/plain": [
       "array([0, 1, 2])"
      ]
     },
     "execution_count": 25,
     "metadata": {},
     "output_type": "execute_result"
    }
   ],
   "source": [
    "label_encoder.transform(label_encoder.classes_)"
   ]
  },
  {
   "cell_type": "code",
   "execution_count": 26,
   "id": "b62c93fa-9198-4e61-b4a8-62f27b4fd2d9",
   "metadata": {},
   "outputs": [
    {
     "name": "stdout",
     "output_type": "stream",
     "text": [
      "{'Negative': 0, 'Neutral': 1, 'Positive': 2}\n"
     ]
    }
   ],
   "source": [
    "z = zip(label_encoder.classes_, label_encoder.transform(label_encoder.classes_))\n",
    "print(dict(z))"
   ]
  },
  {
   "cell_type": "code",
   "execution_count": 27,
   "id": "542081aa-c841-4ea8-ac47-00bc75b0dfdb",
   "metadata": {},
   "outputs": [],
   "source": [
    "# Split the data into training and validation sets.\n",
    "# setting stratify to properly pick the distribution of test data\n",
    "\n",
    "X_train, X_test, y_train, y_test = train_test_split(\n",
    "    X, y_encoded, test_size=0.20, random_state=42, stratify=y_encoded\n",
    ")"
   ]
  },
  {
   "cell_type": "code",
   "execution_count": 28,
   "id": "7716b62a-3586-40c7-a9dc-c4ea9035975f",
   "metadata": {},
   "outputs": [],
   "source": [
    "# import few more packages\n",
    "from tensorflow.keras.models import Sequential\n",
    "from tensorflow.keras.layers import Dense,Dropout,BatchNormalization\n",
    "from tensorflow.keras.regularizers import l2\n"
   ]
  },
  {
   "cell_type": "code",
   "execution_count": 29,
   "id": "bc19026e-90f3-4c36-9b8f-7b5eca77e772",
   "metadata": {},
   "outputs": [
    {
     "name": "stdout",
     "output_type": "stream",
     "text": [
      "Number of classes: 3\n",
      "class_counts_train: {0: 6330, 1: 29942, 2: 43728}\n",
      "training start\n"
     ]
    },
    {
     "name": "stderr",
     "output_type": "stream",
     "text": [
      "2025-04-21 19:37:46.511218: W tensorflow/compiler/xla/stream_executor/platform/default/dso_loader.cc:64] Could not load dynamic library 'libcuda.so.1'; dlerror: libcuda.so.1: cannot open shared object file: No such file or directory\n",
      "2025-04-21 19:37:46.511305: W tensorflow/compiler/xla/stream_executor/cuda/cuda_driver.cc:265] failed call to cuInit: UNKNOWN ERROR (303)\n",
      "2025-04-21 19:37:46.511352: I tensorflow/compiler/xla/stream_executor/cuda/cuda_diagnostics.cc:156] kernel driver does not appear to be running on this host (sqapod-11042024-0): /proc/driver/nvidia/version does not exist\n",
      "2025-04-21 19:37:46.511783: I tensorflow/core/platform/cpu_feature_guard.cc:193] This TensorFlow binary is optimized with oneAPI Deep Neural Network Library (oneDNN) to use the following CPU instructions in performance-critical operations:  AVX2 FMA\n",
      "To enable them in other operations, rebuild TensorFlow with the appropriate compiler flags.\n"
     ]
    }
   ],
   "source": [
    "# get number of classes from target train data; we should get 3\n",
    "num_classes = len(np.unique(y_train))\n",
    "print(\"Number of classes:\", num_classes)\n",
    "\n",
    "classes_train = np.unique(y_train, return_counts=True)[0]\n",
    "counts_train = np.unique(y_train, return_counts=True)[1]\n",
    "\n",
    "# print(\"classes_train:\", classes_train)\n",
    "# print(\"counts_train:\", counts_train)\n",
    "\n",
    "\n",
    "class_counts_train = {classes_train[i]:counts_train[i] for i in range(len(classes_train))}\n",
    "print(\"class_counts_train:\", class_counts_train)\n",
    "\n",
    "Y_weights = {}\n",
    "X_class_ratios = {}\n",
    "Y_map = dict(zip(label_encoder.classes_, label_encoder.transform(label_encoder.classes_)))\n",
    "for label, enc in Y_map.items():\n",
    "    Y_weights[enc] = round(np.log(len(X_train)/class_counts_train[enc]), 2)\n",
    "    X_class_ratios[enc] = round(class_counts_train[enc]/len(X_train))\n",
    "\n",
    "print(\"training start\")\n",
    "\n",
    "# Define the Sequential model\n",
    "classifier = Sequential()\n",
    "classifier.add(Dense(1024, activation='relu', input_shape=(X_train.shape[1],), kernel_regularizer=l2(1e-4)))\n",
    "classifier.add(BatchNormalization())\n",
    "classifier.add(Dropout(0.5))\n",
    "\n",
    "classifier.add(Dense(512, activation='relu', kernel_regularizer=l2(1e-4)))\n",
    "classifier.add(BatchNormalization())\n",
    "classifier.add(Dropout(0.5))\n",
    "\n",
    "classifier.add(Dense(256, activation='relu', kernel_regularizer=l2(1e-4)))\n",
    "classifier.add(BatchNormalization())\n",
    "classifier.add(Dropout(0.5))\n",
    "\n",
    "## for last one,  matching the number of classes with what we predicting and using 'softmax' for activation\n",
    "classifier.add(Dense(num_classes, activation='softmax'))"
   ]
  },
  {
   "cell_type": "code",
   "execution_count": 30,
   "id": "2f70351c-6c95-40dd-aafa-864acb8c41e0",
   "metadata": {},
   "outputs": [
    {
     "name": "stdout",
     "output_type": "stream",
     "text": [
      "X shape: (100000, 384), y shape: (100000,)\n"
     ]
    }
   ],
   "source": [
    "# check the shape of X and y to ensure they are aligned correctly\n",
    "print(f\"X shape: {X.shape}, y shape: {y.shape}\")"
   ]
  },
  {
   "cell_type": "code",
   "execution_count": 31,
   "id": "44e3c15d-6af7-42b9-a0f9-3636395f1af7",
   "metadata": {},
   "outputs": [],
   "source": [
    "adam = tf.keras.optimizers.Adam(learning_rate=0.0005, epsilon=1e-06)\n",
    "classifier.compile(optimizer=adam, loss='sparse_categorical_crossentropy', metrics=['accuracy']) # sparse_categorical_crossentropy"
   ]
  },
  {
   "cell_type": "code",
   "execution_count": 32,
   "id": "e4898416-249a-44e1-93ea-13fe09f219d7",
   "metadata": {},
   "outputs": [
    {
     "name": "stdout",
     "output_type": "stream",
     "text": [
      "Epoch 1/50\n",
      "400/400 - 24s - loss: 1.3585 - accuracy: 0.4454 - val_loss: 1.1618 - val_accuracy: 0.5440 - 24s/epoch - 59ms/step\n",
      "Epoch 2/50\n",
      "400/400 - 21s - loss: 1.0889 - accuracy: 0.4957 - val_loss: 1.0468 - val_accuracy: 0.5720 - 21s/epoch - 52ms/step\n",
      "Epoch 3/50\n",
      "400/400 - 21s - loss: 1.0392 - accuracy: 0.5285 - val_loss: 1.0367 - val_accuracy: 0.5777 - 21s/epoch - 52ms/step\n",
      "Epoch 4/50\n",
      "400/400 - 21s - loss: 1.0217 - accuracy: 0.5372 - val_loss: 1.0276 - val_accuracy: 0.5751 - 21s/epoch - 53ms/step\n",
      "Epoch 5/50\n",
      "400/400 - 21s - loss: 1.0066 - accuracy: 0.5465 - val_loss: 1.0320 - val_accuracy: 0.5652 - 21s/epoch - 52ms/step\n",
      "Epoch 6/50\n",
      "400/400 - 21s - loss: 0.9960 - accuracy: 0.5463 - val_loss: 1.0238 - val_accuracy: 0.5541 - 21s/epoch - 52ms/step\n",
      "Epoch 7/50\n",
      "400/400 - 21s - loss: 0.9822 - accuracy: 0.5524 - val_loss: 1.0000 - val_accuracy: 0.5759 - 21s/epoch - 53ms/step\n",
      "Epoch 8/50\n",
      "400/400 - 21s - loss: 0.9723 - accuracy: 0.5535 - val_loss: 1.0105 - val_accuracy: 0.5551 - 21s/epoch - 52ms/step\n",
      "Epoch 9/50\n",
      "400/400 - 21s - loss: 0.9626 - accuracy: 0.5543 - val_loss: 0.9962 - val_accuracy: 0.5633 - 21s/epoch - 52ms/step\n",
      "Epoch 10/50\n",
      "400/400 - 21s - loss: 0.9522 - accuracy: 0.5586 - val_loss: 0.9743 - val_accuracy: 0.5655 - 21s/epoch - 52ms/step\n",
      "Epoch 11/50\n",
      "400/400 - 21s - loss: 0.9438 - accuracy: 0.5574 - val_loss: 0.9509 - val_accuracy: 0.5793 - 21s/epoch - 52ms/step\n",
      "Epoch 12/50\n",
      "400/400 - 21s - loss: 0.9364 - accuracy: 0.5589 - val_loss: 0.9618 - val_accuracy: 0.5900 - 21s/epoch - 52ms/step\n",
      "Epoch 13/50\n",
      "400/400 - 21s - loss: 0.9294 - accuracy: 0.5583 - val_loss: 0.9492 - val_accuracy: 0.5914 - 21s/epoch - 53ms/step\n",
      "Epoch 14/50\n",
      "400/400 - 21s - loss: 0.9213 - accuracy: 0.5634 - val_loss: 0.9922 - val_accuracy: 0.5297 - 21s/epoch - 52ms/step\n",
      "Epoch 15/50\n",
      "400/400 - 21s - loss: 0.9151 - accuracy: 0.5613 - val_loss: 0.9461 - val_accuracy: 0.5647 - 21s/epoch - 52ms/step\n",
      "Epoch 16/50\n",
      "400/400 - 21s - loss: 0.9100 - accuracy: 0.5604 - val_loss: 0.9537 - val_accuracy: 0.5482 - 21s/epoch - 53ms/step\n",
      "Epoch 17/50\n",
      "400/400 - 21s - loss: 0.9044 - accuracy: 0.5628 - val_loss: 0.9595 - val_accuracy: 0.5518 - 21s/epoch - 52ms/step\n",
      "Epoch 18/50\n",
      "400/400 - 21s - loss: 0.8998 - accuracy: 0.5608 - val_loss: 0.9163 - val_accuracy: 0.5921 - 21s/epoch - 52ms/step\n",
      "Epoch 19/50\n",
      "400/400 - 21s - loss: 0.8953 - accuracy: 0.5631 - val_loss: 0.9299 - val_accuracy: 0.5896 - 21s/epoch - 53ms/step\n",
      "Epoch 20/50\n",
      "400/400 - 21s - loss: 0.8924 - accuracy: 0.5634 - val_loss: 0.9468 - val_accuracy: 0.5620 - 21s/epoch - 52ms/step\n",
      "Epoch 21/50\n",
      "Restoring model weights from the end of the best epoch: 18.\n",
      "400/400 - 21s - loss: 0.8884 - accuracy: 0.5630 - val_loss: 0.9322 - val_accuracy: 0.5821 - 21s/epoch - 52ms/step\n",
      "Epoch 21: early stopping\n"
     ]
    }
   ],
   "source": [
    "from tensorflow.keras.callbacks import EarlyStopping\n",
    "\n",
    "# Create an early stopping callback that monitors the validation loss.\n",
    "early_stopping = EarlyStopping(monitor='val_loss', patience=3, restore_best_weights=True, verbose=1)\n",
    "# early stopping is used to prevent overfitting. \n",
    "# monitor the model’s performance on a separate validation set during training and to stop the \n",
    "# training process when the performance stops improving\n",
    "\n",
    "history_accuracy = classifier.fit(\n",
    "    X_train, \n",
    "    y_train, \n",
    "    epochs=50, \n",
    "    batch_size=200, \n",
    "    validation_data=(X_test, y_test), \n",
    "    shuffle=True, \n",
    "    class_weight=Y_weights, \n",
    "    verbose=2,\n",
    "    callbacks=[early_stopping]\n",
    ")\n"
   ]
  },
  {
   "cell_type": "code",
   "execution_count": 33,
   "id": "d1afc708-b410-462c-9646-53cb4753f604",
   "metadata": {},
   "outputs": [
    {
     "name": "stdout",
     "output_type": "stream",
     "text": [
      "Epoch  1: accuracy = 0.4454, loss = 1.3585, val_accuracy = 0.5440, val_loss = 1.1618\n",
      "Epoch  2: accuracy = 0.4957, loss = 1.0889, val_accuracy = 0.5720, val_loss = 1.0468\n",
      "Epoch  3: accuracy = 0.5285, loss = 1.0392, val_accuracy = 0.5777, val_loss = 1.0367\n",
      "Epoch  4: accuracy = 0.5372, loss = 1.0217, val_accuracy = 0.5751, val_loss = 1.0276\n",
      "Epoch  5: accuracy = 0.5465, loss = 1.0066, val_accuracy = 0.5652, val_loss = 1.0320\n",
      "Epoch  6: accuracy = 0.5463, loss = 0.9960, val_accuracy = 0.5541, val_loss = 1.0238\n",
      "Epoch  7: accuracy = 0.5524, loss = 0.9822, val_accuracy = 0.5759, val_loss = 1.0000\n",
      "Epoch  8: accuracy = 0.5535, loss = 0.9723, val_accuracy = 0.5551, val_loss = 1.0105\n",
      "Epoch  9: accuracy = 0.5543, loss = 0.9626, val_accuracy = 0.5633, val_loss = 0.9962\n",
      "Epoch 10: accuracy = 0.5586, loss = 0.9522, val_accuracy = 0.5655, val_loss = 0.9743\n",
      "Epoch 11: accuracy = 0.5574, loss = 0.9438, val_accuracy = 0.5793, val_loss = 0.9509\n",
      "Epoch 12: accuracy = 0.5589, loss = 0.9364, val_accuracy = 0.5900, val_loss = 0.9618\n",
      "Epoch 13: accuracy = 0.5583, loss = 0.9294, val_accuracy = 0.5914, val_loss = 0.9492\n",
      "Epoch 14: accuracy = 0.5634, loss = 0.9213, val_accuracy = 0.5297, val_loss = 0.9922\n",
      "Epoch 15: accuracy = 0.5613, loss = 0.9151, val_accuracy = 0.5647, val_loss = 0.9461\n",
      "Epoch 16: accuracy = 0.5604, loss = 0.9100, val_accuracy = 0.5482, val_loss = 0.9537\n",
      "Epoch 17: accuracy = 0.5628, loss = 0.9044, val_accuracy = 0.5518, val_loss = 0.9595\n",
      "Epoch 18: accuracy = 0.5608, loss = 0.8998, val_accuracy = 0.5921, val_loss = 0.9163\n",
      "Epoch 19: accuracy = 0.5631, loss = 0.8953, val_accuracy = 0.5896, val_loss = 0.9299\n",
      "Epoch 20: accuracy = 0.5634, loss = 0.8924, val_accuracy = 0.5620, val_loss = 0.9468\n",
      "Epoch 21: accuracy = 0.5630, loss = 0.8884, val_accuracy = 0.5821, val_loss = 0.9322\n"
     ]
    }
   ],
   "source": [
    "# printing history values\n",
    "\n",
    "for epoch in range(len(history_accuracy.history['loss'])):\n",
    "    print(f\"Epoch {(epoch+1):2.0f}: accuracy = {history_accuracy.history['accuracy'][epoch]:.4f}, \"\n",
    "          f\"loss = {history_accuracy.history['loss'][epoch]:.4f}, \"\n",
    "          f\"val_accuracy = {history_accuracy.history['val_accuracy'][epoch]:.4f}, \"\n",
    "          f\"val_loss = {history_accuracy.history['val_loss'][epoch]:.4f}\")"
   ]
  },
  {
   "cell_type": "code",
   "execution_count": 34,
   "id": "f1fb3f8d-25ed-4dd1-bb04-ec4eceee7fd5",
   "metadata": {},
   "outputs": [
    {
     "data": {
      "image/png": "[encoded data removed]",
      "text/plain": [
       "<Figure size 640x480 with 1 Axes>"
      ]
     },
     "metadata": {},
     "output_type": "display_data"
    }
   ],
   "source": [
    "# draw a graph of accuracy curve from history data object\n",
    "plt.plot(history_accuracy.history['accuracy'], label='Training Accuracy')\n",
    "plt.plot(history_accuracy.history['val_accuracy'], label='Validation Accuracy')\n",
    "plt.title('Model Accuracy')\n",
    "plt.xlabel('Epoch')\n",
    "plt.ylabel('Accuracy')\n",
    "plt.legend()\n",
    "plt.show()"
   ]
  },
  {
   "cell_type": "code",
   "execution_count": 35,
   "id": "78b15010-23a3-4227-a229-bf29cd0e3e03",
   "metadata": {},
   "outputs": [
    {
     "data": {
      "image/png": "[encoded data removed]",
      "text/plain": [
       "<Figure size 640x480 with 1 Axes>"
      ]
     },
     "metadata": {},
     "output_type": "display_data"
    }
   ],
   "source": [
    "# draw Loss curve from history \n",
    "\n",
    "plt.plot(history_accuracy.history['loss'], label='Training Loss')\n",
    "plt.plot(history_accuracy.history['val_loss'], label='Validation Loss')\n",
    "plt.title('Model Loss')\n",
    "plt.xlabel('Epoch')\n",
    "plt.ylabel('Loss')\n",
    "plt.legend()\n",
    "plt.show()"
   ]
  },
  {
   "cell_type": "code",
   "execution_count": 36,
   "id": "2aff85c1-b844-4835-bcfc-bfbe9096c252",
   "metadata": {},
   "outputs": [
    {
     "name": "stdout",
     "output_type": "stream",
     "text": [
      "625/625 [==============================] - 3s 4ms/step - loss: 0.9163 - accuracy: 0.5921\n",
      "Test Loss: 0.9163, Test Accuracy: 0.5921\n"
     ]
    }
   ],
   "source": [
    "# now evaluate the model\n",
    "loss, accuracy = classifier.evaluate(X_test, y_test)\n",
    "print(f\"Test Loss: {loss:.4f}, Test Accuracy: {accuracy:.4f}\")"
   ]
  },
  {
   "cell_type": "code",
   "execution_count": 37,
   "id": "aa26d849-10c6-4ee1-a598-e43849cef40d",
   "metadata": {},
   "outputs": [
    {
     "name": "stdout",
     "output_type": "stream",
     "text": [
      "625/625 [==============================] - 2s 3ms/step\n",
      "Sample 20: Predicted: Neutral, True: Positive\n",
      "Sample 61: Predicted: Positive, True: Positive\n",
      "Sample 8: Predicted: Positive, True: Neutral\n",
      "Sample 137: Predicted: Neutral, True: Neutral\n",
      "Sample 7: Predicted: Neutral, True: Positive\n"
     ]
    }
   ],
   "source": [
    "# make few predictions on the test set\n",
    "pred_probs = classifier.predict(X_test)\n",
    "pred_indices = np.argmax(pred_probs, axis=1)\n",
    "pred_labels = label_encoder.inverse_transform(pred_indices)\n",
    "\n",
    "import random\n",
    "# Compare a few predictions with the true labels\n",
    "# out of 1000 limited data we took, 20% is train data. \n",
    "# so, randomly pick \n",
    "for i in random.sample(range(1,200), 5):\n",
    "    true_label = label_encoder.inverse_transform([y_test[i]])[0]\n",
    "    print(f\"Sample {i}: Predicted: {pred_labels[i]}, True: {true_label}\")"
   ]
  },
  {
   "cell_type": "code",
   "execution_count": 38,
   "id": "e3ad64cd-6c11-4a88-9908-aadd42193e4d",
   "metadata": {},
   "outputs": [
    {
     "name": "stdout",
     "output_type": "stream",
     "text": [
      "Precision: 0.5856\n",
      "Recall: 0.5921\n",
      "F1 Score: 0.5886\n"
     ]
    }
   ],
   "source": [
    "from sklearn.metrics import classification_report, precision_score, recall_score, f1_score\n",
    "\n",
    "# Alternatively, compute individual metrics (weighted averages for multi-class)\n",
    "precision = precision_score(y_test, pred_indices, average='weighted')\n",
    "recall = recall_score(y_test, pred_indices, average='weighted')\n",
    "f1 = f1_score(y_test, pred_indices, average='weighted')\n",
    "print(f\"Precision: {precision:.4f}\")\n",
    "print(f\"Recall: {recall:.4f}\")\n",
    "print(f\"F1 Score: {f1:.4f}\")"
   ]
  },
  {
   "cell_type": "markdown",
   "id": "f2ab85db-6ef7-440b-89b7-42bd26510e64",
   "metadata": {},
   "source": [
    "# Recall - calculate Recall "
   ]
  },
  {
   "cell_type": "code",
   "execution_count": 39,
   "id": "769d3d60-7cf4-47d3-b3da-625a1d099b35",
   "metadata": {},
   "outputs": [
    {
     "data": {
      "text/html": [
       "<div>\n",
       "<style scoped>\n",
       "    .dataframe tbody tr th:only-of-type {\n",
       "        vertical-align: middle;\n",
       "    }\n",
       "\n",
       "    .dataframe tbody tr th {\n",
       "        vertical-align: top;\n",
       "    }\n",
       "\n",
       "    .dataframe thead th {\n",
       "        text-align: right;\n",
       "    }\n",
       "</style>\n",
       "<table border=\"1\" class=\"dataframe\">\n",
       "  <thead>\n",
       "    <tr style=\"text-align: right;\">\n",
       "      <th></th>\n",
       "      <th>SUMMARY</th>\n",
       "      <th>TRANSCRIPT_SENTIMENT</th>\n",
       "      <th>EMBEDDINGS</th>\n",
       "    </tr>\n",
       "  </thead>\n",
       "  <tbody>\n",
       "    <tr>\n",
       "      <th>82097</th>\n",
       "      <td>agent your call will be answered momentarily a...</td>\n",
       "      <td>Positive</td>\n",
       "      <td>[-0.08725899457931519, 0.014602357521653175, -...</td>\n",
       "    </tr>\n",
       "    <tr>\n",
       "      <th>62015</th>\n",
       "      <td>agent your call will be answered momentarily a...</td>\n",
       "      <td>Positive</td>\n",
       "      <td>[-0.09534967690706253, -0.04618494585156441, -...</td>\n",
       "    </tr>\n",
       "    <tr>\n",
       "      <th>68914</th>\n",
       "      <td>member to assist the jp community and there lo...</td>\n",
       "      <td>Neutral</td>\n",
       "      <td>[-0.09877398610115051, 0.017134271562099457, -...</td>\n",
       "    </tr>\n",
       "    <tr>\n",
       "      <th>9199</th>\n",
       "      <td>provider okay agent thank you for calling anth...</td>\n",
       "      <td>Neutral</td>\n",
       "      <td>[-0.08901234716176987, 0.0023580666165798903, ...</td>\n",
       "    </tr>\n",
       "  </tbody>\n",
       "</table>\n",
       "</div>"
      ],
      "text/plain": [
       "                                                 SUMMARY TRANSCRIPT_SENTIMENT  \\\n",
       "82097  agent your call will be answered momentarily a...             Positive   \n",
       "62015  agent your call will be answered momentarily a...             Positive   \n",
       "68914  member to assist the jp community and there lo...              Neutral   \n",
       "9199   provider okay agent thank you for calling anth...              Neutral   \n",
       "\n",
       "                                              EMBEDDINGS  \n",
       "82097  [-0.08725899457931519, 0.014602357521653175, -...  \n",
       "62015  [-0.09534967690706253, -0.04618494585156441, -...  \n",
       "68914  [-0.09877398610115051, 0.017134271562099457, -...  \n",
       "9199   [-0.08901234716176987, 0.0023580666165798903, ...  "
      ]
     },
     "execution_count": 39,
     "metadata": {},
     "output_type": "execute_result"
    }
   ],
   "source": [
    "# Recall is most valuble metric for this kind of scenarios. \n",
    "# Reason being: classifying a positive as Negative will have bigger impact. \n",
    "# so our model should make sure it does have minimum False Negatives. \n",
    "\n",
    "# now load the pickle file and work on it. \n",
    "df_loaded = pd.read_pickle(\"df_with_embeddings_2.pkl.zip\")\n",
    "df_loaded.sample(4)\n",
    "\n",
    "# Ensure embeddings and category labels are in the DataFrame\n",
    "# X1 = np.array(df_loaded[\"EMBEDDINGS\"].tolist())  # Convert embeddings list to array\n",
    "# y1 = df_loaded[\"TRANSCRIPT_SENTIMENT\"]  # 'TRANSCRIPT_SENTIMENT' column has target labels\n"
   ]
  },
  {
   "cell_type": "code",
   "execution_count": 40,
   "id": "b7123aa4-aa81-4439-962d-c034ade20110",
   "metadata": {},
   "outputs": [
    {
     "name": "stdout",
     "output_type": "stream",
     "text": [
      "Model: \"sequential_1\"\n",
      "_________________________________________________________________\n",
      " Layer (type)                Output Shape              Param #   \n",
      "=================================================================\n",
      " embedding (Embedding)       (None, 300, 300)          1500000   \n",
      "                                                                 \n",
      " conv1d (Conv1D)             (None, 296, 64)           96064     \n",
      "                                                                 \n",
      " global_max_pooling1d (Globa  (None, 64)               0         \n",
      " lMaxPooling1D)                                                  \n",
      "                                                                 \n",
      " dense_4 (Dense)             (None, 1024)              66560     \n",
      "                                                                 \n",
      " batch_normalization_3 (Batc  (None, 1024)             4096      \n",
      " hNormalization)                                                 \n",
      "                                                                 \n",
      " dropout_3 (Dropout)         (None, 1024)              0         \n",
      "                                                                 \n",
      " dense_5 (Dense)             (None, 128)               131200    \n",
      "                                                                 \n",
      " batch_normalization_4 (Batc  (None, 128)              512       \n",
      " hNormalization)                                                 \n",
      "                                                                 \n",
      " dropout_4 (Dropout)         (None, 128)               0         \n",
      "                                                                 \n",
      " dense_6 (Dense)             (None, 3)                 387       \n",
      "                                                                 \n",
      "=================================================================\n",
      "Total params: 1,798,819\n",
      "Trainable params: 1,796,515\n",
      "Non-trainable params: 2,304\n",
      "_________________________________________________________________\n",
      "Epoch 1/50\n",
      "2500/2500 - 375s - loss: 0.8827 - recall: 0.5111 - val_loss: 0.8036 - val_recall: 0.5544 - 375s/epoch - 150ms/step\n",
      "Epoch 2/50\n",
      "2500/2500 - 372s - loss: 0.7838 - recall: 0.5519 - val_loss: 0.7737 - val_recall: 0.5606 - 372s/epoch - 149ms/step\n",
      "Epoch 3/50\n",
      "2500/2500 - 373s - loss: 0.7577 - recall: 0.5658 - val_loss: 0.7809 - val_recall: 0.5258 - 373s/epoch - 149ms/step\n",
      "Epoch 4/50\n",
      "2500/2500 - 370s - loss: 0.7234 - recall: 0.5928 - val_loss: 0.7735 - val_recall: 0.5665 - 370s/epoch - 148ms/step\n",
      "Epoch 5/50\n",
      "2500/2500 - 371s - loss: 0.6775 - recall: 0.6271 - val_loss: 0.8195 - val_recall: 0.5890 - 371s/epoch - 148ms/step\n",
      "Epoch 6/50\n",
      "2500/2500 - 372s - loss: 0.6205 - recall: 0.6660 - val_loss: 0.8967 - val_recall: 0.6144 - 372s/epoch - 149ms/step\n",
      "Epoch 7/50\n",
      "Restoring model weights from the end of the best epoch: 4.\n",
      "2500/2500 - 371s - loss: 0.5632 - recall: 0.7017 - val_loss: 0.9128 - val_recall: 0.5418 - 371s/epoch - 148ms/step\n",
      "Epoch 7: early stopping\n"
     ]
    }
   ],
   "source": [
    "\n",
    "# import few more statements\n",
    "\n",
    "#converting to numeric class id\n",
    "#Encode target labels\n",
    "from sklearn.model_selection import train_test_split\n",
    "from sklearn.preprocessing import LabelEncoder, OneHotEncoder\n",
    "import tensorflow as tf\n",
    "from tensorflow import keras\n",
    "from tensorflow.keras.models import Sequential\n",
    "from tensorflow.keras.layers import Dense\n",
    "\n",
    "# Tokenize and pad the review sequences\n",
    "tokenizer = Tokenizer(num_words=5000, oov_token='')\n",
    "tokenizer.fit_on_texts(df_loaded['SUMMARY'])\n",
    "word_index = tokenizer.word_index\n",
    "sequences = tokenizer.texts_to_sequences(df_loaded['SUMMARY'])\n",
    "padded_sequences = pad_sequences(sequences, maxlen=300, truncating='post')\n",
    "\n",
    "sentiment_labels = pd.get_dummies(df_loaded['TRANSCRIPT_SENTIMENT']).values\n",
    "\n",
    "# Split the dataset into training and testing sets\n",
    "X_recall_train, X_recall_test, y_recall_train, y_recall_test = train_test_split(padded_sequences, sentiment_labels, test_size=0.2)\n",
    "\n",
    "\n",
    "from tensorflow.keras.callbacks import EarlyStopping\n",
    "\n",
    "# Build the model\n",
    "model = Sequential()\n",
    "model.add(Embedding(5000, 300, input_length=300))\n",
    "model.add(Conv1D(64, 5, activation='relu'))\n",
    "model.add(GlobalMaxPooling1D())\n",
    "\n",
    "model.add(Dense(1024, activation='relu', input_shape=(X_recall_train.shape[1],)) )\n",
    "model.add(BatchNormalization())\n",
    "model.add(Dropout(0.5))\n",
    "\n",
    "model.add(Dense(128, activation='relu'))\n",
    "model.add(BatchNormalization())\n",
    "model.add(Dropout(0.5))\n",
    "\n",
    "model.add(Dense(3, activation='softmax'))\n",
    "\n",
    "\n",
    "# but for this purpose, metric 'recall' is most appropriate\n",
    "# For finding negative reviews, recall is generally a better metric to prioritize than accuracy.\n",
    "model.compile(optimizer='adam', loss='categorical_crossentropy', metrics=['Recall'])\n",
    "model.summary()\n",
    "\n",
    "# Create an early stopping callback that monitors the validation loss.\n",
    "early_stopping = EarlyStopping(monitor='val_loss', patience=3, restore_best_weights=True, verbose=1)\n",
    "\n",
    "# Train the model\n",
    "history_recall = model.fit(X_recall_train, y_recall_train, \n",
    "                    epochs=50, \n",
    "                    batch_size=32, \n",
    "                    validation_data=(X_recall_test, y_recall_test),\n",
    "                    shuffle=True,\n",
    "                    verbose=2,\n",
    "                    callbacks=[early_stopping]\n",
    "                   )\n"
   ]
  },
  {
   "cell_type": "code",
   "execution_count": 41,
   "id": "1d4a1e62-d49b-471a-8c8c-35b6b5b4cb53",
   "metadata": {},
   "outputs": [
    {
     "name": "stdout",
     "output_type": "stream",
     "text": [
      "Epoch  1: recall = 0.5111, loss = 0.8827, val_recall = 0.5544, val_loss = 0.8036\n",
      "Epoch  2: recall = 0.5519, loss = 0.7838, val_recall = 0.5606, val_loss = 0.7737\n",
      "Epoch  3: recall = 0.5658, loss = 0.7577, val_recall = 0.5258, val_loss = 0.7809\n",
      "Epoch  4: recall = 0.5928, loss = 0.7234, val_recall = 0.5665, val_loss = 0.7735\n",
      "Epoch  5: recall = 0.6271, loss = 0.6775, val_recall = 0.5890, val_loss = 0.8195\n",
      "Epoch  6: recall = 0.6660, loss = 0.6205, val_recall = 0.6144, val_loss = 0.8967\n",
      "Epoch  7: recall = 0.7017, loss = 0.5632, val_recall = 0.5418, val_loss = 0.9128\n"
     ]
    }
   ],
   "source": [
    "# printing history values\n",
    "\n",
    "for epoch in range(len(history_recall.history['loss'])):\n",
    "    print(f\"Epoch {(epoch+1):2.0f}: recall = {history_recall.history['recall'][epoch]:.4f}, \"\n",
    "          f\"loss = {history_recall.history['loss'][epoch]:.4f}, \"\n",
    "          f\"val_recall = {history_recall.history['val_recall'][epoch]:.4f}, \"\n",
    "          f\"val_loss = {history_recall.history['val_loss'][epoch]:.4f}\")\n"
   ]
  },
  {
   "cell_type": "code",
   "execution_count": 42,
   "id": "2b391e23-c566-460d-9e95-f5a8544bcc6b",
   "metadata": {},
   "outputs": [
    {
     "data": {
      "image/png": "[encoded data removed]",
      "text/plain": [
       "<Figure size 640x480 with 1 Axes>"
      ]
     },
     "metadata": {},
     "output_type": "display_data"
    }
   ],
   "source": [
    "\n",
    "# draw a graph of recall curve from history data object\n",
    "plt.plot(history_recall.history['recall'], label='Training recall')\n",
    "plt.plot(history_recall.history['val_recall'], label='Validation recall')\n",
    "plt.title('Model Recall')\n",
    "plt.xlabel('Epoch')\n",
    "plt.ylabel('Recall')\n",
    "plt.legend()\n",
    "plt.show()          \n"
   ]
  },
  {
   "cell_type": "code",
   "execution_count": 43,
   "id": "33501f7a-6b49-4b0d-afdb-6dd1b7bd2548",
   "metadata": {},
   "outputs": [
    {
     "data": {
      "image/png": "[encoded data removed]",
      "text/plain": [
       "<Figure size 640x480 with 1 Axes>"
      ]
     },
     "metadata": {},
     "output_type": "display_data"
    }
   ],
   "source": [
    "# draw Loss curve from history \n",
    "\n",
    "plt.plot(history_recall.history['loss'], label='Training Loss')\n",
    "plt.plot(history_recall.history['val_loss'], label='Validation Loss')\n",
    "plt.title('Model Loss')\n",
    "plt.xlabel('Epoch')\n",
    "plt.ylabel('Loss')\n",
    "plt.legend()\n",
    "plt.show()"
   ]
  },
  {
   "cell_type": "code",
   "execution_count": 44,
   "id": "70a5343d-e8cb-4222-8639-97333bb59ab6",
   "metadata": {},
   "outputs": [
    {
     "name": "stdout",
     "output_type": "stream",
     "text": [
      "625/625 [==============================] - 20s 31ms/step\n",
      "Accuracy: 0.6403\n",
      "Recall: 0.6403\n"
     ]
    }
   ],
   "source": [
    "from sklearn.metrics import accuracy_score, recall_score\n",
    "# Evaluate the model\n",
    "y_recall_pred = np.argmax(model.predict(X_recall_test), axis=-1)\n",
    "print(\"Accuracy:\", accuracy_score(np.argmax(y_recall_test, axis=-1), y_recall_pred ))\n",
    "print(\"Recall:\", recall_score(np.argmax(y_recall_test, axis=1), y_recall_pred, average='weighted' ) )\n"
   ]
  },
  {
   "cell_type": "markdown",
   "id": "7e01b7bc-5433-40a4-bf6d-7f44f8b0a9e2",
   "metadata": {},
   "source": [
    "## ROC AUC score and Confusion matrix"
   ]
  },
  {
   "cell_type": "code",
   "execution_count": 45,
   "id": "88695da0-f51a-4e56-abfd-c9dd30b17e11",
   "metadata": {},
   "outputs": [
    {
     "name": "stdout",
     "output_type": "stream",
     "text": [
      "ROC AUC Score: 0.7021\n",
      "PR AUC Score: 0.5200\n"
     ]
    }
   ],
   "source": [
    "\n",
    "from sklearn.metrics import roc_auc_score, average_precision_score\n",
    "from sklearn.preprocessing import label_binarize\n",
    "\n",
    "# For multi-class ROC AUC and PR AUC, binarize the labels.\n",
    "# Here we assume the classes are 0, 1, ..., num_classes-1.\n",
    "y_test_binarized = label_binarize(y_test, classes=np.arange(num_classes))\n",
    "\n",
    "# Compute ROC AUC using the One-vs-Rest (OvR) strategy, using macro-average.\n",
    "\n",
    "roc_auc = roc_auc_score(y_test_binarized, pred_probs, average='macro', multi_class='ovr')\n",
    "print(f\"ROC AUC Score: {roc_auc:.4f}\")\n",
    "\n",
    "# Compute PR AUC (average precision score) for multi-class (macro-average).\n",
    "# helpful for highly imbalanced datasets, as it focuses on the performance of the positive class.\n",
    "pr_auc = average_precision_score(y_test_binarized, pred_probs, average='macro')\n",
    "print(f\"PR AUC Score: {pr_auc:.4f}\")"
   ]
  },
  {
   "cell_type": "markdown",
   "id": "0f4577ce-4f06-4661-a7a5-11508d8acb40",
   "metadata": {},
   "source": [
    "TODO\n",
    "ROC AUC Score 0.6559 is pretty low. this may be due to very small sample I picked. \n",
    "re-write this again when model is run with all ~ 300K rows. \n",
    "clearly with full data score imporved. "
   ]
  },
  {
   "cell_type": "code",
   "execution_count": 46,
   "id": "7dff6311-beff-496a-b376-1d26554f5583",
   "metadata": {},
   "outputs": [
    {
     "name": "stdout",
     "output_type": "stream",
     "text": [
      "625/625 [==============================] - 2s 4ms/step\n",
      "Negative: Precision: 0.2381, Recall: 0.1991, F1 Score: 0.2169\n",
      "Neutral: Precision: 0.5359, Recall: 0.5258, F1 Score: 0.5308\n",
      "Positive: Precision: 0.6699, Recall: 0.6945, F1 Score: 0.6820\n",
      "\n",
      "Full Classification Report:\n",
      "              precision    recall  f1-score   support\n",
      "\n",
      "    Negative       0.24      0.20      0.22      1582\n",
      "     Neutral       0.54      0.53      0.53      7486\n",
      "    Positive       0.67      0.69      0.68     10932\n",
      "\n",
      "    accuracy                           0.59     20000\n",
      "   macro avg       0.48      0.47      0.48     20000\n",
      "weighted avg       0.59      0.59      0.59     20000\n",
      "\n"
     ]
    }
   ],
   "source": [
    "import numpy as np\n",
    "from sklearn.metrics import precision_score, recall_score, f1_score, classification_report\n",
    "from sklearn.preprocessing import LabelEncoder\n",
    "from sklearn.model_selection import train_test_split\n",
    "\n",
    "\n",
    "# Make predictions on the test set\n",
    "pred_probabilities = classifier.predict(X_test)\n",
    "\n",
    "# For multi-class classification, convert probabilities to class indices\n",
    "pred_indices = np.argmax(pred_probabilities, axis=1)\n",
    "\n",
    "# Compute per-class metrics using y_test (not y_encoded)\n",
    "precision = precision_score(y_test, pred_indices, average=None)\n",
    "recall = recall_score(y_test, pred_indices, average=None)\n",
    "f1 = f1_score(y_test, pred_indices, average=None)\n",
    "\n",
    "# Print per-class metrics with class names\n",
    "for i, (p, r, f) in enumerate(zip(precision, recall, f1)):\n",
    "    class_name = label_encoder.inverse_transform([i])[0]\n",
    "    print(f\"{class_name}: Precision: {p:.4f}, Recall: {r:.4f}, F1 Score: {f:.4f}\")\n",
    "\n",
    "# Alternatively, print a full classification report\n",
    "print(\"\\nFull Classification Report:\")\n",
    "print(classification_report(y_test, pred_indices, target_names=label_encoder.classes_))"
   ]
  },
  {
   "cell_type": "code",
   "execution_count": 47,
   "id": "22afd15f-1b86-4075-a250-74aba408ae1a",
   "metadata": {},
   "outputs": [
    {
     "name": "stdout",
     "output_type": "stream",
     "text": [
      "Negative: Accuracy: 0.8862\n",
      "Neutral: Accuracy: 0.6521\n",
      "Positive: Accuracy: 0.6460\n"
     ]
    }
   ],
   "source": [
    "\n",
    "from sklearn.metrics import confusion_matrix\n",
    "\n",
    "# Assume y_test and pred_indices are defined and have the same length.\n",
    "cm = confusion_matrix(y_test, pred_indices)\n",
    "total_samples = cm.sum()\n",
    "per_class_accuracy = []\n",
    "\n",
    "for i in range(cm.shape[0]):\n",
    "    TP = cm[i, i]\n",
    "    FP = cm[:, i].sum() - TP\n",
    "    FN = cm[i, :].sum() - TP\n",
    "    TN = total_samples - (TP + FP + FN)\n",
    "    class_accuracy = (TP + TN) / total_samples\n",
    "    per_class_accuracy.append(class_accuracy)\n",
    "\n",
    "# Print per-class accuracy with class names\n",
    "for i, acc in enumerate(per_class_accuracy):\n",
    "    class_name = label_encoder.inverse_transform([i])[0]\n",
    "    print(f\"{class_name}: Accuracy: {acc:.4f}\")\n"
   ]
  },
  {
   "cell_type": "code",
   "execution_count": 48,
   "id": "7cdd90fe-39b5-4ca4-a4b3-2a45e290e8a7",
   "metadata": {},
   "outputs": [
    {
     "name": "stdout",
     "output_type": "stream",
     "text": [
      "Classification Report for Top 5 Classes:\n",
      "              precision    recall  f1-score   support\n",
      "\n",
      "    Positive       0.67      0.69      0.68     10932\n",
      "     Neutral       0.54      0.53      0.53      7486\n",
      "    Negative       0.24      0.20      0.22      1582\n",
      "\n",
      "    accuracy                           0.59     20000\n",
      "   macro avg       0.48      0.47      0.48     20000\n",
      "weighted avg       0.59      0.59      0.59     20000\n",
      "\n"
     ]
    },
    {
     "data": {
      "image/png": "[encoded data removed]",
      "text/plain": [
       "<Figure size 800x600 with 2 Axes>"
      ]
     },
     "metadata": {},
     "output_type": "display_data"
    }
   ],
   "source": [
    "import numpy as np\n",
    "from sklearn.metrics import confusion_matrix, classification_report\n",
    "import matplotlib.pyplot as plt\n",
    "import seaborn as sns\n",
    "\n",
    "# Assume y_test and pred_indices are defined (pred_indices obtained from model.predict)\n",
    "# Also assume label_encoder is defined so we can convert encoded labels to their names.\n",
    "\n",
    "# 1. Count the frequency of each class in y_test\n",
    "unique_classes, counts = np.unique(y_test, return_counts=True)\n",
    "\n",
    "# 2. Identify the top classes (by count)\n",
    "sorted_idx = np.argsort(counts)[::-1]  # sort indices descending by frequency\n",
    "top5_classes = unique_classes[sorted_idx][:3]\n",
    "\n",
    "# 3. Filter y_test and pred_indices to include only samples of these top 5 classes\n",
    "mask = np.isin(y_test, top5_classes)\n",
    "y_test_top5 = y_test[mask]\n",
    "pred_indices_top5 = pred_indices[mask]\n",
    "\n",
    "# 4. Compute the confusion matrix for the top 5 classes\n",
    "cm_top5 = confusion_matrix(y_test_top5, pred_indices_top5, labels=top5_classes)\n",
    "\n",
    "# Convert the class indices to their names for better visualization\n",
    "class_names_top5 = label_encoder.inverse_transform(top5_classes)\n",
    "\n",
    "# Optional: print a classification report for the top 5 classes\n",
    "print(\"Classification Report for Top 5 Classes:\")\n",
    "print(classification_report(y_test_top5, pred_indices_top5, target_names=class_names_top5, labels=top5_classes))\n",
    "\n",
    "# Plot the confusion matrix\n",
    "plt.figure(figsize=(8, 6))\n",
    "sns.heatmap(cm_top5, annot=True, fmt='d', cmap='Blues',\n",
    "            xticklabels=class_names_top5,\n",
    "            yticklabels=class_names_top5)\n",
    "plt.xlabel('Predicted Label')\n",
    "plt.ylabel('True Label')\n",
    "plt.title('Confusion Matrix for Top 5 Classes')\n",
    "plt.show()"
   ]
  },
  {
   "cell_type": "code",
   "execution_count": 49,
   "id": "2ce55b49-58fd-4a5a-a3c1-62097c2addac",
   "metadata": {},
   "outputs": [
    {
     "name": "stdout",
     "output_type": "stream",
     "text": [
      "625/625 [==============================] - 2s 4ms/step\n"
     ]
    },
    {
     "data": {
      "image/png": "[encoded data removed]",
      "text/plain": [
       "<Figure size 800x600 with 2 Axes>"
      ]
     },
     "metadata": {},
     "output_type": "display_data"
    }
   ],
   "source": [
    "# Define class names from label_encoder\n",
    "class_names = label_encoder.classes_\n",
    "\n",
    "# Generate predictions\n",
    "y_pred_proba = classifier.predict(X_test)\n",
    "y_pred_indices = np.argmax(y_pred_proba, axis=1)\n",
    "\n",
    "# Confusion matrix\n",
    "cm = confusion_matrix(y_test, y_pred_indices)\n",
    "\n",
    "# Plot confusion matrix clearly\n",
    "plt.figure(figsize=(8, 6))\n",
    "sns.heatmap(\n",
    "    cm, \n",
    "    annot=True, \n",
    "    fmt='d', \n",
    "    cmap='Blues', \n",
    "    xticklabels=class_names, \n",
    "    yticklabels=class_names\n",
    ")\n",
    "plt.xlabel('Predicted Labels')\n",
    "plt.ylabel('True Labels')\n",
    "plt.title('Confusion Matrix (All Classes)')\n",
    "plt.xticks(rotation=45, ha='right')\n",
    "plt.yticks(rotation=0)\n",
    "plt.tight_layout()\n",
    "plt.show()\n"
   ]
  },
  {
   "cell_type": "code",
   "execution_count": 50,
   "id": "12edf1b5-10a4-4c1c-983b-92db1a9f9910",
   "metadata": {},
   "outputs": [
    {
     "name": "stdout",
     "output_type": "stream",
     "text": [
      "625/625 [==============================] - 2s 4ms/step\n"
     ]
    }
   ],
   "source": [
    "# confusion matrix data validation \n",
    "\n",
    "import numpy as np\n",
    "import pandas as pd\n",
    "\n",
    "# 1. Get predictions\n",
    "pred_proba = classifier.predict(X_test)\n",
    "pred_indices = np.argmax(pred_proba, axis=1)\n",
    "\n",
    "# 2. Identify top 5 classes\n",
    "unique_classes, counts = np.unique(y_test, return_counts=True)\n",
    "sorted_idx = np.argsort(counts)[::-1]\n",
    "top5_classes = unique_classes[sorted_idx][:5]\n",
    "\n",
    "train_indices, test_indices = train_test_split(\n",
    "    df_loaded.index, \n",
    "    test_size=0.20, \n",
    "    random_state=42, \n",
    "    stratify=y_encoded\n",
    ")\n",
    "\n",
    "df_test = df_loaded.loc[test_indices].copy()\n",
    "df_test['true_label']  = y_test\n",
    "df_test['pred_label']  = pred_indices\n",
    "\n",
    "df_test['true_label_name'] = label_encoder.inverse_transform(df_test['true_label'])\n",
    "df_test['pred_label_name'] = label_encoder.inverse_transform(df_test['pred_label'])\n",
    "\n",
    "# Keep only samples that belong to the top 5 classes\n",
    "mask_top5 = df_test['true_label'].isin(top5_classes)\n",
    "\n",
    "# Keep only misclassified samples (where predicted != actual)\n",
    "mask_misclassified = df_test['true_label'] != df_test['pred_label']\n",
    "\n",
    "# Combine both masks\n",
    "df_misclassified_top5 = df_test[mask_top5 & mask_misclassified]\n",
    "\n",
    "# df_test is a subset of the original df_no_japanese plus columns for labels\n",
    "df_misclassified_top5 = df_test[mask_top5 & mask_misclassified].merge(\n",
    "    df_loaded[['SUMMARY']],  # or whichever columns\n",
    "    left_index=True,  # if df_test kept the same index as the original\n",
    "    right_index=True\n",
    ")\n"
   ]
  },
  {
   "cell_type": "code",
   "execution_count": 51,
   "id": "cb787e42-1457-4e6a-a8eb-e980f7c7b41d",
   "metadata": {},
   "outputs": [
    {
     "data": {
      "text/html": [
       "<div>\n",
       "<style scoped>\n",
       "    .dataframe tbody tr th:only-of-type {\n",
       "        vertical-align: middle;\n",
       "    }\n",
       "\n",
       "    .dataframe tbody tr th {\n",
       "        vertical-align: top;\n",
       "    }\n",
       "\n",
       "    .dataframe thead th {\n",
       "        text-align: right;\n",
       "    }\n",
       "</style>\n",
       "<table border=\"1\" class=\"dataframe\">\n",
       "  <thead>\n",
       "    <tr style=\"text-align: right;\">\n",
       "      <th></th>\n",
       "      <th>SUMMARY_x</th>\n",
       "      <th>TRANSCRIPT_SENTIMENT</th>\n",
       "      <th>EMBEDDINGS</th>\n",
       "      <th>true_label</th>\n",
       "      <th>pred_label</th>\n",
       "      <th>true_label_name</th>\n",
       "      <th>pred_label_name</th>\n",
       "      <th>SUMMARY_y</th>\n",
       "    </tr>\n",
       "  </thead>\n",
       "  <tbody>\n",
       "    <tr>\n",
       "      <th>55547</th>\n",
       "      <td>member it agent thank you for calling anthem b...</td>\n",
       "      <td>Neutral</td>\n",
       "      <td>[-0.07101013511419296, 0.009366570971906185, -...</td>\n",
       "      <td>1</td>\n",
       "      <td>2</td>\n",
       "      <td>Neutral</td>\n",
       "      <td>Positive</td>\n",
       "      <td>member it agent thank you for calling anthem b...</td>\n",
       "    </tr>\n",
       "    <tr>\n",
       "      <th>78652</th>\n",
       "      <td>agent your call will be answered momentarily a...</td>\n",
       "      <td>Positive</td>\n",
       "      <td>[-0.07285186648368835, 0.0003139969485346228, ...</td>\n",
       "      <td>2</td>\n",
       "      <td>1</td>\n",
       "      <td>Positive</td>\n",
       "      <td>Neutral</td>\n",
       "      <td>agent your call will be answered momentarily a...</td>\n",
       "    </tr>\n",
       "    <tr>\n",
       "      <th>68612</th>\n",
       "      <td>agent your call will be answered momentarily a...</td>\n",
       "      <td>Neutral</td>\n",
       "      <td>[-0.09938912838697433, -0.026861976832151413, ...</td>\n",
       "      <td>1</td>\n",
       "      <td>2</td>\n",
       "      <td>Neutral</td>\n",
       "      <td>Positive</td>\n",
       "      <td>agent your call will be answered momentarily a...</td>\n",
       "    </tr>\n",
       "  </tbody>\n",
       "</table>\n",
       "</div>"
      ],
      "text/plain": [
       "                                               SUMMARY_x TRANSCRIPT_SENTIMENT  \\\n",
       "55547  member it agent thank you for calling anthem b...              Neutral   \n",
       "78652  agent your call will be answered momentarily a...             Positive   \n",
       "68612  agent your call will be answered momentarily a...              Neutral   \n",
       "\n",
       "                                              EMBEDDINGS  true_label  \\\n",
       "55547  [-0.07101013511419296, 0.009366570971906185, -...           1   \n",
       "78652  [-0.07285186648368835, 0.0003139969485346228, ...           2   \n",
       "68612  [-0.09938912838697433, -0.026861976832151413, ...           1   \n",
       "\n",
       "       pred_label true_label_name pred_label_name  \\\n",
       "55547           2         Neutral        Positive   \n",
       "78652           1        Positive         Neutral   \n",
       "68612           2         Neutral        Positive   \n",
       "\n",
       "                                               SUMMARY_y  \n",
       "55547  member it agent thank you for calling anthem b...  \n",
       "78652  agent your call will be answered momentarily a...  \n",
       "68612  agent your call will be answered momentarily a...  "
      ]
     },
     "execution_count": 51,
     "metadata": {},
     "output_type": "execute_result"
    }
   ],
   "source": [
    "df_misclassified_top5.head(3)"
   ]
  },
  {
   "cell_type": "code",
   "execution_count": 52,
   "id": "5dd28bce-f4a6-4e15-a8a5-89d497571d22",
   "metadata": {
    "tags": []
   },
   "outputs": [
    {
     "name": "stdout",
     "output_type": "stream",
     "text": [
      "Number of rows: 8157\n"
     ]
    }
   ],
   "source": [
    "num_rows = df_misclassified_top5.shape[0]\n",
    "print(f\"Number of rows: {num_rows}\")"
   ]
  },
  {
   "cell_type": "code",
   "execution_count": 53,
   "id": "19dac2b9-aad2-41f1-808a-e9968e324a56",
   "metadata": {},
   "outputs": [
    {
     "data": {
      "text/plain": [
       "Index(['SUMMARY_x', 'TRANSCRIPT_SENTIMENT', 'EMBEDDINGS', 'true_label',\n",
       "       'pred_label', 'true_label_name', 'pred_label_name', 'SUMMARY_y'],\n",
       "      dtype='object')"
      ]
     },
     "execution_count": 53,
     "metadata": {},
     "output_type": "execute_result"
    }
   ],
   "source": [
    "df_misclassified_top5.columns"
   ]
  },
  {
   "cell_type": "code",
   "execution_count": null,
   "id": "0ad4feca-833c-4ad5-a923-703db785fb93",
   "metadata": {},
   "outputs": [],
   "source": [
    "mask = (\n",
    "    (df_misclassified_top5[\"true_label_name\"] == \"Positive\") &\n",
    "    (df_misclassified_top5[\"pred_label_name\"] == \"Neutral\")\n",
    ")\n",
    "df_filtered_cs_c = df_misclassified_top5[mask]\n",
    "\n",
    "# Print just those filtered rows (all columns)\n",
    "print(df_filtered_cs_c)\n",
    "#df_filtered_cs_t_500 = print(df_filtered_cs_t.iloc[:500])\n"
   ]
  },
  {
   "cell_type": "markdown",
   "id": "7e2bb2e0-8a0d-4b59-af4c-750d261bee59",
   "metadata": {},
   "source": [
    "# Compare with other models( LogisticRegression, Random Forest, GB)"
   ]
  },
  {
   "cell_type": "code",
   "execution_count": 55,
   "id": "956da8ec-0d7c-4557-9269-3fda30c1ba0f",
   "metadata": {},
   "outputs": [
    {
     "name": "stdout",
     "output_type": "stream",
     "text": [
      "Training Accuracy: 0.4900\n",
      "Testing Accuracy: 0.4853\n"
     ]
    }
   ],
   "source": [
    "from sklearn.linear_model import LogisticRegression\n",
    "from sklearn.metrics import accuracy_score\n",
    "\n",
    "# Create and fit logistic regression with balanced classes\n",
    "log_reg = LogisticRegression(class_weight='balanced', max_iter=500, random_state=42)\n",
    "log_reg.fit(X_train, y_train)\n",
    "\n",
    "# Calculate accuracy\n",
    "train_accuracy = log_reg.score(X_train, y_train)\n",
    "test_accuracy = log_reg.score(X_test, y_test)\n",
    "\n",
    "print(f\"Training Accuracy: {train_accuracy:.4f}\")\n",
    "print(f\"Testing Accuracy: {test_accuracy:.4f}\")\n"
   ]
  },
  {
   "cell_type": "code",
   "execution_count": 56,
   "id": "27869de1-cd7b-4ecf-b4c4-6f0b47efdde1",
   "metadata": {},
   "outputs": [
    {
     "name": "stdout",
     "output_type": "stream",
     "text": [
      "=== Logistic Regression (Overall Metrics) ===\n",
      "Precision (weighted): 0.600\n",
      "Recall (weighted):    0.485\n",
      "F1-score (weighted):  0.521\n",
      "\n",
      "Logistic Regression classification report:\n",
      "              precision    recall  f1-score   support\n",
      "\n",
      "           0       0.14      0.54      0.22      1582\n",
      "           1       0.57      0.37      0.45      7486\n",
      "           2       0.69      0.56      0.62     10932\n",
      "\n",
      "    accuracy                           0.49     20000\n",
      "   macro avg       0.46      0.49      0.43     20000\n",
      "weighted avg       0.60      0.49      0.52     20000\n",
      "\n"
     ]
    }
   ],
   "source": [
    "from sklearn.linear_model import LogisticRegression# 1. LOGISTIC REGRESSION\n",
    "\n",
    "lr = LogisticRegression(max_iter=1000, class_weight='balanced', random_state=42)\n",
    "lr.fit(X_train, y_train)\n",
    "lr_preds = lr.predict(X_test)\n",
    "\n",
    "# Calculate \"overall\" precision, recall, and F1\n",
    "# 'macro' averages metrics equally across classes,\n",
    "# 'weighted' averages by class support (size).\n",
    "lr_precision = precision_score(y_test, lr_preds, average='weighted')\n",
    "lr_recall = recall_score(y_test, lr_preds, average='weighted')\n",
    "lr_f1 = f1_score(y_test, lr_preds, average='weighted')\n",
    "\n",
    "print(\"=== Logistic Regression (Overall Metrics) ===\")\n",
    "print(f\"Precision (weighted): {lr_precision:.3f}\")\n",
    "print(f\"Recall (weighted):    {lr_recall:.3f}\")\n",
    "print(f\"F1-score (weighted):  {lr_f1:.3f}\")\n",
    "\n",
    "# (Optional) Detailed metrics per class\n",
    "print(\"\\nLogistic Regression classification report:\")\n",
    "print(classification_report(y_test, lr_preds))"
   ]
  },
  {
   "cell_type": "code",
   "execution_count": 57,
   "id": "89710b1a-beb3-4057-9570-846068e8a256",
   "metadata": {},
   "outputs": [
    {
     "name": "stdout",
     "output_type": "stream",
     "text": [
      "Random Forest Training Accuracy: 0.4900\n",
      "Random Forest Testing Accuracy: 0.6058\n"
     ]
    }
   ],
   "source": [
    "from sklearn.ensemble import RandomForestClassifier\n",
    "\n",
    "# Define and train Random Forest with balanced class weights\n",
    "rf = RandomForestClassifier(n_estimators=100, class_weight='balanced', random_state=42)\n",
    "rf.fit(X_train, y_train)\n",
    "\n",
    "# Predictions\n",
    "train_preds_rf = rf.predict(X_train)\n",
    "test_preds_rf = rf.predict(X_test)\n",
    "\n",
    "# Accuracy calculation\n",
    "train_accuracy_rf = rf.score(X_train, y_train)\n",
    "test_accuracy = rf.score(X_test, y_test)\n",
    "\n",
    "# Print accuracies clearly\n",
    "print(f\"Random Forest Training Accuracy: {train_accuracy:.4f}\")\n",
    "print(f\"Random Forest Testing Accuracy: {test_accuracy:.4f}\")\n"
   ]
  },
  {
   "cell_type": "code",
   "execution_count": 58,
   "id": "1cb4169b-1377-476c-86be-0059c30e0b51",
   "metadata": {},
   "outputs": [
    {
     "name": "stdout",
     "output_type": "stream",
     "text": [
      "=== Random Forest (Overall Metrics) ===\n",
      "Precision (weighted): 0.590\n",
      "Recall (weighted):    0.606\n",
      "F1-score (weighted):  0.545\n",
      "\n",
      "Random Forest classification report:\n",
      "              precision    recall  f1-score   support\n",
      "\n",
      "           0       0.27      0.02      0.04      1582\n",
      "           1       0.64      0.28      0.39      7486\n",
      "           2       0.60      0.91      0.73     10932\n",
      "\n",
      "    accuracy                           0.61     20000\n",
      "   macro avg       0.51      0.40      0.38     20000\n",
      "weighted avg       0.59      0.61      0.55     20000\n",
      "\n"
     ]
    }
   ],
   "source": [
    "# 2. RANDOM FOREST\n",
    "rf = RandomForestClassifier(n_estimators=100, class_weight='balanced', random_state=42)\n",
    "rf.fit(X_train, y_train)\n",
    "rf_preds = rf.predict(X_test)\n",
    "\n",
    "rf_precision = precision_score(y_test, rf_preds, average='weighted')\n",
    "rf_recall = recall_score(y_test, rf_preds, average='weighted')\n",
    "rf_f1 = f1_score(y_test, rf_preds, average='weighted')\n",
    "\n",
    "print(\"=== Random Forest (Overall Metrics) ===\")\n",
    "print(f\"Precision (weighted): {rf_precision:.3f}\")\n",
    "print(f\"Recall (weighted):    {rf_recall:.3f}\")\n",
    "print(f\"F1-score (weighted):  {rf_f1:.3f}\")\n",
    "\n",
    "# (Optional) Detailed metrics per class\n",
    "print(\"\\nRandom Forest classification report:\")\n",
    "print(classification_report(y_test, rf_preds))"
   ]
  },
  {
   "cell_type": "code",
   "execution_count": 59,
   "id": "9c7b3364-6908-49cd-8efe-f15c14e5a57e",
   "metadata": {},
   "outputs": [
    {
     "name": "stdout",
     "output_type": "stream",
     "text": [
      "=== Gradient Boosting: TRAIN Metrics ===\n",
      "Accuracy : 0.6257\n",
      "Precision: 0.6715\n",
      "Recall:    0.6257\n",
      "F1-score:  0.5647\n",
      "\n",
      "=== Gradient Boosting: (TEST Metrics) ===\n",
      "Accuracy:  0.6131\n",
      "Precision: 0.6399\n",
      "Recall:    0.6131\n",
      "F1-score:  0.5491\n"
     ]
    }
   ],
   "source": [
    "# GB classifier \n",
    "from sklearn.ensemble import GradientBoostingClassifier\n",
    "from sklearn.metrics import accuracy_score, precision_recall_fscore_support, classification_report\n",
    "\n",
    "# Gradient Boosting classifier\n",
    "gb = GradientBoostingClassifier(\n",
    "    n_estimators=100,\n",
    "    learning_rate=0.1,\n",
    "    max_depth=3,\n",
    "    random_state=42\n",
    ")\n",
    "\n",
    "# Fit model\n",
    "gb.fit(X_train, y_train)\n",
    "\n",
    "# Predictions for both train and test\n",
    "y_train_pred = gb.predict(X_train)\n",
    "y_test_pred = gb.predict(X_test)\n",
    "\n",
    "# Metrics calculation\n",
    "metrics = lambda y_true, y_pred: {\n",
    "    \"Accuracy\": round(np.mean(y_true = y_train if y_train_pred is y_train_pred else y_test) == y_train_pred, 3),\n",
    "    \"Precision\": precision_score(y_true, y_train_pred if y_true is y_train else y_test_pred, average='weighted'),\n",
    "    \"Recall\": recall_score(y_train if 'train' in locals() else y_test, y_train_pred if 'train' in locals() else y_test_pred, average='weighted'),\n",
    "    \"F1-score\": f1_score(y_true, y_train_pred if y_true is y_train else y_test_pred, average='weighted')\n",
    "}\n",
    "\n",
    "# Training metrics\n",
    "train_accuracy = gb.score(X_train, y_train)\n",
    "train_precision = precision_score(y_train, y_train_pred, average='weighted')\n",
    "train_recall = recall_score(y_train, y_train_pred, average='weighted')\n",
    "train_f1 = f1_score(y_train, y_train_pred, average='weighted')\n",
    "\n",
    "# Testing metrics\n",
    "test_accuracy = gb.score(X_test, y_test)\n",
    "test_precision = precision_score(y_test, y_test_pred, average='weighted')\n",
    "test_recall = recall_score(y_test, y_test_pred, average='weighted')\n",
    "test_f1 = f1_score(y_test, y_test_pred, average='weighted')\n",
    "\n",
    "# Printing results clearly\n",
    "print(\"=== Gradient Boosting: TRAIN Metrics ===\")\n",
    "print(f\"Accuracy : {gb.score(X_train, y_train):.4f}\")\n",
    "print(f\"Precision: {train_precision:.4f}\")\n",
    "print(f\"Recall:    {train_recall:.4f}\")\n",
    "print(f\"F1-score:  {train_f1:.4f}\")\n",
    "\n",
    "print(\"\\n=== Gradient Boosting: (TEST Metrics) ===\")\n",
    "print(f\"Accuracy:  {test_accuracy:.4f}\")\n",
    "print(f\"Precision: {test_precision:.4f}\")\n",
    "print(f\"Recall:    {test_recall:.4f}\")\n",
    "print(f\"F1-score:  {test_f1:.4f}\")\n"
   ]
  },
  {
   "cell_type": "code",
   "execution_count": 60,
   "id": "dacd0169-ab5d-4048-93d3-8859a04c70e6",
   "metadata": {},
   "outputs": [
    {
     "name": "stdout",
     "output_type": "stream",
     "text": [
      "\n",
      "Overall Test Accuracy: 0.6062\n",
      "\n",
      "Detailed Classification Report:\n",
      "              precision    recall  f1-score   support\n",
      "\n",
      "    Negative       0.82      0.01      0.01      1582\n",
      "     Neutral       0.70      0.23      0.35      7486\n",
      "    Positive       0.59      0.95      0.73     10932\n",
      "\n",
      "    accuracy                           0.61     20000\n",
      "   macro avg       0.70      0.40      0.36     20000\n",
      "weighted avg       0.65      0.61      0.53     20000\n",
      "\n"
     ]
    }
   ],
   "source": [
    "from sklearn.ensemble import GradientBoostingClassifier\n",
    "from sklearn.metrics import accuracy_score, precision_recall_fscore_support, classification_report\n",
    "import pandas as pd\n",
    "import numpy as np\n",
    "\n",
    "# Train Gradient Boosting Classifier\n",
    "gb = GradientBoostingClassifier(\n",
    "    n_estimators=30, learning_rate=0.2, max_depth=2, random_state=42\n",
    ")\n",
    "gb.fit(X_train, y_train)  # Ensure X_train and y_train are defined before this line\n",
    "\n",
    "# Predict on test data\n",
    "y_test_pred = gb.predict(X_test)\n",
    "\n",
    "# Metrics per class\n",
    "precision, recall, f1, support = precision_recall_fscore_support(y_test, y_test_pred)\n",
    "\n",
    "# Creating DataFrame for clear viewing\n",
    "metrics_df = pd.DataFrame({\n",
    "    \"Class\": label_encoder.inverse_transform(np.unique(y_test)),\n",
    "    \"Precision\": precision,\n",
    "    \"Recall\": recall,\n",
    "    \"F1-score\": f1,\n",
    "    \"Support\": support\n",
    "})\n",
    "\n",
    "# Sort by 'Support' clearly\n",
    "metrics_df_sorted = metrics_df.sort_values(by='Support', ascending=False).reset_index(drop=True)\n",
    "\n",
    "# Print the sorted metrics DataFrame\n",
    "#print(\"\\n=== Gradient Boosting Metrics Per Class ===\")\n",
    "#print(metrics_df.sort_values(by='Support', ascending=False).reset_index(drop=True))\n",
    "\n",
    "# Overall accuracy clearly\n",
    "accuracy = accuracy_score(y_test, y_test_pred)\n",
    "print(f\"\\nOverall Test Accuracy: {accuracy:.4f}\")\n",
    "\n",
    "# Optional: Detailed classification report clearly displayed\n",
    "print(\"\\nDetailed Classification Report:\")\n",
    "print(classification_report(y_test, y_test_pred, target_names=label_encoder.classes_))\n"
   ]
  },
  {
   "cell_type": "markdown",
   "id": "dfe5f28c-9a19-4a4f-ac53-0ef16aed5451",
   "metadata": {},
   "source": [
    "# saving model "
   ]
  },
  {
   "cell_type": "code",
   "execution_count": 61,
   "id": "04f12764-2848-4d0c-9633-677fabf3c418",
   "metadata": {},
   "outputs": [
    {
     "name": "stdout",
     "output_type": "stream",
     "text": [
      "✅ Model saved successfully as classifier_model.h5\n",
      "✅ Model saved successfully in .keras format!\n"
     ]
    }
   ],
   "source": [
    "#save the model\n",
    "# Save the trained model in HDF5 format\n",
    "classifier.save(\"classifier_model.h5\")\n",
    "print(\"✅ Model saved successfully as classifier_model.h5\")\n",
    "\n",
    "classifier.save(\"classifier_model.keras\")\n",
    "print(\"✅ Model saved successfully in .keras format!\")\n"
   ]
  },
  {
   "cell_type": "markdown",
   "id": "fed5677a-edbd-4bb7-ad8f-83d4d2915ebb",
   "metadata": {},
   "source": [
    "# load model and test with data"
   ]
  },
  {
   "cell_type": "code",
   "execution_count": 62,
   "id": "41f30056-eba0-4e1f-a3dd-2b09bd4e45bb",
   "metadata": {},
   "outputs": [
    {
     "name": "stdout",
     "output_type": "stream",
     "text": [
      "Model: \"sequential\"\n",
      "_________________________________________________________________\n",
      " Layer (type)                Output Shape              Param #   \n",
      "=================================================================\n",
      " dense (Dense)               (None, 1024)              394240    \n",
      "                                                                 \n",
      " batch_normalization (BatchN  (None, 1024)             4096      \n",
      " ormalization)                                                   \n",
      "                                                                 \n",
      " dropout (Dropout)           (None, 1024)              0         \n",
      "                                                                 \n",
      " dense_1 (Dense)             (None, 512)               524800    \n",
      "                                                                 \n",
      " batch_normalization_1 (Batc  (None, 512)              2048      \n",
      " hNormalization)                                                 \n",
      "                                                                 \n",
      " dropout_1 (Dropout)         (None, 512)               0         \n",
      "                                                                 \n",
      " dense_2 (Dense)             (None, 256)               131328    \n",
      "                                                                 \n",
      " batch_normalization_2 (Batc  (None, 256)              1024      \n",
      " hNormalization)                                                 \n",
      "                                                                 \n",
      " dropout_2 (Dropout)         (None, 256)               0         \n",
      "                                                                 \n",
      " dense_3 (Dense)             (None, 3)                 771       \n",
      "                                                                 \n",
      "=================================================================\n",
      "Total params: 1,058,307\n",
      "Trainable params: 1,054,723\n",
      "Non-trainable params: 3,584\n",
      "_________________________________________________________________\n"
     ]
    }
   ],
   "source": [
    "# %pip install tensorflow #reload the model from saved file\n",
    "\n",
    "from tensorflow.keras.models import load_model\n",
    "\n",
    "#reload h5 saved format\n",
    "# loaded_model = load_model(\"classifier_model.h5\")\n",
    "# loaded_model.summary()\n",
    "\n",
    "loaded_model = load_model(\"classifier_model.keras\")\n",
    "loaded_model.summary()\n"
   ]
  },
  {
   "cell_type": "code",
   "execution_count": 63,
   "id": "87428f80-3a91-40e2-98a5-c628542fdd72",
   "metadata": {
    "tags": []
   },
   "outputs": [
    {
     "name": "stdout",
     "output_type": "stream",
     "text": [
      "625/625 [==============================] - 2s 4ms/step\n"
     ]
    }
   ],
   "source": [
    "# Making Predictions\n",
    "# X_test should be a NumPy array or tf.Tensor matching the input shape\n",
    "predictions = loaded_model.predict(X_test)"
   ]
  },
  {
   "cell_type": "code",
   "execution_count": null,
   "id": "9cb18ff4-37ea-434a-b763-e7d3f765d9d2",
   "metadata": {},
   "outputs": [],
   "source": []
  }
 ],
 "metadata": {
  "kernelspec": {
   "display_name": "Python 3 (ipykernel)",
   "language": "python",
   "name": "python3"
  },
  "language_info": {
   "codemirror_mode": {
    "name": "ipython",
    "version": 3
   },
   "file_extension": ".py",
   "mimetype": "text/x-python",
   "name": "python",
   "nbconvert_exporter": "python",
   "pygments_lexer": "ipython3",
   "version": "3.7.16"
  }
 },
 "nbformat": 4,
 "nbformat_minor": 5
}
